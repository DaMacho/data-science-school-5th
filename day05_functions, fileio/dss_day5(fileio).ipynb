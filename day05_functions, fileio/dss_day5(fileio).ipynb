{
 "cells": [
  {
   "cell_type": "markdown",
   "metadata": {},
   "source": [
    "# File I/O"
   ]
  },
  {
   "cell_type": "markdown",
   "metadata": {},
   "source": [
    "## 학습목표\n",
    " - File 입출력 이해 및 사용"
   ]
  },
  {
   "cell_type": "markdown",
   "metadata": {},
   "source": [
    "* File I/O\n",
    " - I : input, O : ouput 즉, 입출력을 의미함\n",
    " - 간단한 정보들을 저장하고 다시 불러올 수 있다.\n",
    " - DB와 비교하여 검색, 정렬등의 기능을 프로그래머가 구현해야 하기에 잘 쓰이지 않음.\n",
    " - DB와 비교하여 보안등의 이슈가 있음\n",
    " - 그럼에도 가장 기본적인 데이터 저장 방법으로 알맞게 사용됨."
   ]
  },
  {
   "cell_type": "markdown",
   "metadata": {},
   "source": [
    "* write() 함수로 파일에 쓰기"
   ]
  },
  {
   "cell_type": "code",
   "execution_count": null,
   "metadata": {
    "collapsed": true
   },
   "outputs": [],
   "source": [
    "speech = '''Former Philadelphia 76ers star \n",
    "Allen Iverson was inducted into \n",
    "the Basketball Hall of Fame on Friday night. \n",
    "And then paid tribute to Michael Jordan in his speech.\n",
    "'''\n",
    "# r - 읽기, w - 쓰기, a - 추가\n",
    "fout = open('speech', 'w') \n",
    "fout.write(speech)\n",
    "fout.close()"
   ]
  },
  {
   "cell_type": "code",
   "execution_count": null,
   "metadata": {
    "collapsed": false
   },
   "outputs": [],
   "source": [
    "speech = '''학교 종이 땡땡땡\n",
    "어서 모이자\n",
    "'''\n",
    "\n",
    "fout = open('school', 'w') # 쓰기 모드로 파일을 오픈 (존재한다면, 덮어씀)\n",
    "#fout = open('school', 'a') # 쓰기 모드로 파일을 오픈 (존재한다면, 맨 뒤에서 부터 추가)\n",
    "fout.write(speech)\n",
    "fout.close()\n"
   ]
  },
  {
   "cell_type": "markdown",
   "metadata": {},
   "source": [
    " + read() method로 읽기"
   ]
  },
  {
   "cell_type": "code",
   "execution_count": null,
   "metadata": {
    "collapsed": false
   },
   "outputs": [],
   "source": [
    "fin = open('school', 'r')\n",
    "data = fin.read()\n",
    "fin.close()\n",
    "\n",
    "print data"
   ]
  },
  {
   "cell_type": "markdown",
   "metadata": {},
   "source": [
    "* 연습문제\n",
    " 1. 뉴스 데이터를 파일에 써봅시다.\n",
    " 2. 그리고 다시 읽어와 봅시다.\n",
    " 3. 그리고 해당 뉴스에 스마트폰이라는 단어가 있는지 없는지 판별해 봅시다.\n",
    " 4. 그리고 해당 뉴스를 쓴 기자의 이메일을 추출해봅시다.\n",
    " 4. 힌트) 아래의 get_news_content는 다음 뉴스의 url을 주면 뉴스의 본문을 긁어오는 함수입니다. 이용해서 해보세요."
   ]
  },
  {
   "cell_type": "code",
   "execution_count": null,
   "metadata": {
    "collapsed": false
   },
   "outputs": [],
   "source": [
    "# pip install requests\n",
    "# pip install bs4 \n",
    "\n",
    "import requests\n",
    "from bs4 import BeautifulSoup\n",
    "\n",
    "def get_news_content(url):\n",
    "    response = requests.get(url)\n",
    "    content = response.text\n",
    "\n",
    "    soup = BeautifulSoup(content)\n",
    "\n",
    "    div = soup.find('div', attrs = {'id' : 'harmonyContainer'})\n",
    "    \n",
    "    content = ''\n",
    "    for paragraph in div.find_all('p'):\n",
    "        content += paragraph.get_text()\n",
    "        \n",
    "    return content.encode('utf-8')\n",
    "        \n",
    "news1 = get_news_content('http://v.media.daum.net/v/20170112152314639')\n",
    "print news1\n"
   ]
  },
  {
   "cell_type": "code",
   "execution_count": null,
   "metadata": {
    "collapsed": false
   },
   "outputs": [],
   "source": [
    "news2 = get_news_content('http://v.media.daum.net/v/20170112152314639')\n",
    "words = news2.split('@')\n",
    "print words[0].split()[-1] + '@' + words[-1]"
   ]
  },
  {
   "cell_type": "markdown",
   "metadata": {},
   "source": [
    "* 위의 이메일 추출은 처리 해야할 예외사항이 많이 존재\n",
    " - 후에 정규표현식을 배운 뒤, 엘레강스하게 해결할 수 있는 방법을 배울 예정입니다."
   ]
  },
  {
   "cell_type": "code",
   "execution_count": null,
   "metadata": {
    "collapsed": true
   },
   "outputs": [],
   "source": []
  },
  {
   "cell_type": "markdown",
   "metadata": {},
   "source": [
    "+ readline method로 읽기"
   ]
  },
  {
   "cell_type": "code",
   "execution_count": null,
   "metadata": {
    "collapsed": false
   },
   "outputs": [],
   "source": [
    "text = ''\n",
    "fin2 = open('school', 'r')\n",
    "while True:\n",
    "    line = fin2.readline()\n",
    "    if not line:\n",
    "        break\n",
    "    text += line\n",
    "    \n",
    "fin2.close()\n",
    "\n",
    "print text"
   ]
  },
  {
   "cell_type": "markdown",
   "metadata": {},
   "source": [
    "* iterator를 이용하여 읽어오기"
   ]
  },
  {
   "cell_type": "code",
   "execution_count": null,
   "metadata": {
    "collapsed": false
   },
   "outputs": [],
   "source": [
    "text = ''\n",
    "fin3 = open('school', 'r')\n",
    "for line in fin3:\n",
    "    print line\n",
    "    text += line\n",
    "    \n",
    "fin3.close()\n",
    "print text"
   ]
  },
  {
   "cell_type": "markdown",
   "metadata": {},
   "source": [
    "* readlines로 리스트 형태로 읽기"
   ]
  },
  {
   "cell_type": "code",
   "execution_count": null,
   "metadata": {
    "collapsed": false
   },
   "outputs": [],
   "source": [
    "text = ''\n",
    "fin4 = open('school', 'r')\n",
    "lines = fin4.readlines() # 각 줄별 문자열로 구성된 리스트를 반환\n",
    "fin4.close()\n",
    "\n",
    "print len(lines), lines\n",
    "for line in lines:\n",
    "    print line"
   ]
  },
  {
   "cell_type": "markdown",
   "metadata": {},
   "source": [
    " * binary 파일 쓰기/읽기\n",
    "  - 두번째 parameter의 두번째 자리에 'b'를 명시\n",
    " \n"
   ]
  },
  {
   "cell_type": "code",
   "execution_count": null,
   "metadata": {
    "collapsed": false
   },
   "outputs": [],
   "source": [
    "bytes = bytearray(range(256))\n",
    "print bytes, type(bytes)\n",
    "\n",
    "fout = open('bfile', 'wb')\n",
    "fout.write(bytes)\n",
    "fout.close()"
   ]
  },
  {
   "cell_type": "code",
   "execution_count": null,
   "metadata": {
    "collapsed": false
   },
   "outputs": [],
   "source": [
    "fin = open('bfile', 'rb')\n",
    "bytes = fin.read()\n",
    "print bytes\n",
    "fin.close()"
   ]
  },
  {
   "cell_type": "markdown",
   "metadata": {},
   "source": [
    "* with keyword\n",
    " - as keyword와 함께 사용\n",
    " - 블럭 종료 시, 파일을 자동으로 close 시킴"
   ]
  },
  {
   "cell_type": "code",
   "execution_count": null,
   "metadata": {
    "collapsed": true
   },
   "outputs": [],
   "source": [
    "with open('school', 'r') as fin:\n",
    "    value = fin.read()\n",
    "    print value\n",
    "    \n",
    "fin = open('school', 'r')\n",
    "data = fin.read()\n",
    "fin.close()"
   ]
  },
  {
   "cell_type": "markdown",
   "metadata": {},
   "source": [
    "* **연습문제**\n",
    " - tf-idf 를 계산하시오\n",
    " - data_set/tf_idfx.txt를 읽어들여 각 단어들의 tf-idf 를 구하시오\n",
    " - term frequency : 각 문서에서 해당 단어가 나오는 빈도\n",
    " - document frequency : 해당 단어가 얼마나 많은 문서에서 나타나는가 하는 빈도\n",
    " - inverse document frequency : 1/df"
   ]
  },
  {
   "cell_type": "code",
   "execution_count": null,
   "metadata": {
    "collapsed": false
   },
   "outputs": [],
   "source": [
    "with open('./data_set/tf_idf1.txt', 'r') as fin:\n",
    "    value = fin.read()\n",
    "    print value"
   ]
  },
  {
   "cell_type": "code",
   "execution_count": null,
   "metadata": {
    "collapsed": false
   },
   "outputs": [],
   "source": []
  },
  {
   "cell_type": "markdown",
   "metadata": {},
   "source": [
    "* csv 파일 형식\n",
    " - comma separated value \n",
    " - 즉, 콤마로 구별된 데이터를 의미"
   ]
  },
  {
   "cell_type": "markdown",
   "metadata": {},
   "source": [
    " * csv 파일 읽기"
   ]
  },
  {
   "cell_type": "code",
   "execution_count": null,
   "metadata": {
    "collapsed": false
   },
   "outputs": [],
   "source": [
    "import csv\n",
    "\n",
    "with open('sample.csv', 'r') as f:\n",
    "    reader = csv.reader(f)\n",
    "    for row in reader:\n",
    "        print row, type(row)"
   ]
  },
  {
   "cell_type": "code",
   "execution_count": null,
   "metadata": {
    "collapsed": false
   },
   "outputs": [],
   "source": [
    "import csv\n",
    "\n",
    "with open('sample.csv', 'r') as f:\n",
    "    reader = csv.reader(f)\n",
    "    reader.next()\n",
    "    for row in reader:\n",
    "        print row, type(row)"
   ]
  },
  {
   "cell_type": "markdown",
   "metadata": {},
   "source": [
    " * csv 파일 쓰기"
   ]
  },
  {
   "cell_type": "code",
   "execution_count": null,
   "metadata": {
    "collapsed": false
   },
   "outputs": [],
   "source": [
    "import csv\n",
    "\n",
    "with open('sample.csv', 'r') as f:\n",
    "    reader = csv.reader(f)\n",
    "    reader.next()\n",
    "        \n",
    "    with open('result2.csv', 'w') as fw:\n",
    "        writer = csv.writer(fw)\n",
    "        writer.writerow(['city', 'population'])\n",
    "        \n",
    "        for row in reader:\n",
    "            writer.writerow([row[1], row[2]])\n",
    "            print row, type(row)\n",
    "            \n",
    "            "
   ]
  },
  {
   "cell_type": "markdown",
   "metadata": {},
   "source": [
    "* DictReader로 읽어오기"
   ]
  },
  {
   "cell_type": "code",
   "execution_count": null,
   "metadata": {
    "collapsed": false
   },
   "outputs": [],
   "source": [
    "import csv\n",
    "\n",
    "with open('sample.csv', 'r') as f:\n",
    "    for row in csv.DictReader(f):\n",
    "        print row, type(row)"
   ]
  },
  {
   "cell_type": "markdown",
   "metadata": {},
   "source": [
    "* 연습문제\n",
    "\n",
    " 1. sample.csv 파일을 읽어서 전체 도시의 평균 인구를 계산하시오.\n"
   ]
  },
  {
   "cell_type": "code",
   "execution_count": null,
   "metadata": {
    "collapsed": false
   },
   "outputs": [],
   "source": [
    "import csv\n",
    "\n",
    "with open('sample.csv', 'r') as f:\n",
    "    reader = csv.reader(f)\n",
    "    reader.next()\n",
    "    \n",
    "    total = 0\n",
    "    cnt = 0\n",
    "    \n",
    "    for row in reader:\n",
    "        print row[2]\n",
    "        total += int(row[2])\n",
    "        cnt += 1\n",
    "        \n",
    "    print total / float(cnt)"
   ]
  },
  {
   "cell_type": "markdown",
   "metadata": {
    "collapsed": true
   },
   "source": [
    "TODO)\n",
    "* pycharm CE 설치하기 (https://www.jetbrains.com/pycharm/)\n",
    "* github 계정 만들기 (http://github.com/)\n",
    "* aws 계정 만들기 (https://aws.amazon.com/)\n"
   ]
  },
  {
   "cell_type": "code",
   "execution_count": null,
   "metadata": {
    "collapsed": true
   },
   "outputs": [],
   "source": []
  }
 ],
 "metadata": {
  "kernelspec": {
   "display_name": "Python 2",
   "language": "python",
   "name": "python2"
  },
  "language_info": {
   "codemirror_mode": {
    "name": "ipython",
    "version": 2
   },
   "file_extension": ".py",
   "mimetype": "text/x-python",
   "name": "python",
   "nbconvert_exporter": "python",
   "pygments_lexer": "ipython2",
   "version": "2.7.13"
  }
 },
 "nbformat": 4,
 "nbformat_minor": 1
}
