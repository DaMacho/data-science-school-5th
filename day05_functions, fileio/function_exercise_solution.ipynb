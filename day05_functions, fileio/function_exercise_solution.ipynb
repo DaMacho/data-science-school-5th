{
 "cells": [
  {
   "cell_type": "markdown",
   "metadata": {},
   "source": [
    "* ** 조건문, 반복문 과제 **\n",
    " 1. 6277이 소수인지 아닌지 판별하는 코드를 작성하시오. 이 경우 해당 코드의 big o notation은?\n",
    " 1. 1 - 1000까지 정수 중 소수만 출력하시오.\n",
    "      1.1 - 에라토네스의 체\n",
    " 2. 1 - 9000까지 정수 중 palindrome의 개수는? palindrome은 11, 121, 1331, 999 등 앞으로 읽으나 뒤로 읽으나 같은 수를 의미 합니다.\n",
    " 3. 정렬된 주어진 리스트가 있을 때, 각각 순차탐색과, 이진탐색으로 특정 숫자를 검새하는 프로그램을 작성하시오\n"
   ]
  },
  {
   "cell_type": "code",
   "execution_count": 3,
   "metadata": {
    "collapsed": false
   },
   "outputs": [
    {
     "ename": "TypeError",
     "evalue": "range() integer end argument expected, got float.",
     "output_type": "error",
     "traceback": [
      "\u001b[0;31m---------------------------------------------------------------------------\u001b[0m",
      "\u001b[0;31mTypeError\u001b[0m                                 Traceback (most recent call last)",
      "\u001b[0;32m<ipython-input-3-f90f9772ad4d>\u001b[0m in \u001b[0;36m<module>\u001b[0;34m()\u001b[0m\n\u001b[1;32m      4\u001b[0m \u001b[0;34m\u001b[0m\u001b[0m\n\u001b[1;32m      5\u001b[0m \u001b[0mis_prime\u001b[0m \u001b[0;34m=\u001b[0m \u001b[0mTrue\u001b[0m\u001b[0;34m\u001b[0m\u001b[0m\n\u001b[0;32m----> 6\u001b[0;31m \u001b[0;32mfor\u001b[0m \u001b[0md\u001b[0m \u001b[0;32min\u001b[0m \u001b[0mrange\u001b[0m\u001b[0;34m(\u001b[0m\u001b[0;36m2\u001b[0m\u001b[0;34m,\u001b[0m \u001b[0mmath\u001b[0m\u001b[0;34m.\u001b[0m\u001b[0msqrt\u001b[0m\u001b[0;34m(\u001b[0m\u001b[0mn\u001b[0m\u001b[0;34m)\u001b[0m\u001b[0;34m)\u001b[0m\u001b[0;34m:\u001b[0m\u001b[0;34m\u001b[0m\u001b[0m\n\u001b[0m\u001b[1;32m      7\u001b[0m     \u001b[0;32mif\u001b[0m \u001b[0mn\u001b[0m \u001b[0;34m%\u001b[0m \u001b[0md\u001b[0m \u001b[0;34m==\u001b[0m \u001b[0;36m0\u001b[0m\u001b[0;34m:\u001b[0m\u001b[0;34m\u001b[0m\u001b[0m\n\u001b[1;32m      8\u001b[0m         \u001b[0mis_prime\u001b[0m \u001b[0;34m=\u001b[0m \u001b[0mFalse\u001b[0m\u001b[0;34m\u001b[0m\u001b[0m\n",
      "\u001b[0;31mTypeError\u001b[0m: range() integer end argument expected, got float."
     ]
    }
   ],
   "source": [
    "n = 6277\n",
    "\n",
    "import math\n",
    "\n",
    "is_prime = True\n",
    "for d in range(2, int(math.sqrt(n) + 1)):\n",
    "    if n % d == 0:\n",
    "        is_prime = False\n",
    "        break\n",
    "        \n",
    "if is_prime:\n",
    "    print 'prime'\n",
    "else:\n",
    "    print 'composite'\n",
    "\n",
    "\n",
    "\n",
    "\n",
    "\n",
    "\n",
    "\n",
    "\n",
    "\n",
    "\n",
    "\n",
    "\n",
    "\n"
   ]
  },
  {
   "cell_type": "code",
   "execution_count": 5,
   "metadata": {
    "collapsed": false
   },
   "outputs": [
    {
     "name": "stdout",
     "output_type": "stream",
     "text": [
      "[2, 3, 5, 7, 11, 13, 17, 19, 23, 29, 31, 37, 41, 43, 47, 53, 59, 61, 67, 71, 73, 79, 83, 89, 97, 101, 103, 107, 109, 113, 127, 131, 137, 139, 149, 151, 157, 163, 167, 173, 179, 181, 191, 193, 197, 199, 211, 223, 227, 229, 233, 239, 241, 251, 257, 263, 269, 271, 277, 281, 283, 293, 307, 311, 313, 317, 331, 337, 347, 349, 353, 359, 367, 373, 379, 383, 389, 397, 401, 409, 419, 421, 431, 433, 439, 443, 449, 457, 461, 463, 467, 479, 487, 491, 499, 503, 509, 521, 523, 541, 547, 557, 563, 569, 571, 577, 587, 593, 599, 601, 607, 613, 617, 619, 631, 641, 643, 647, 653, 659, 661, 673, 677, 683, 691, 701, 709, 719, 727, 733, 739, 743, 751, 757, 761, 769, 773, 787, 797, 809, 811, 821, 823, 827, 829, 839, 853, 857, 859, 863, 877, 881, 883, 887, 907, 911, 919, 929, 937, 941, 947, 953, 967, 971, 977, 983, 991, 997]\n"
     ]
    }
   ],
   "source": [
    "primes = [2]\n",
    "\n",
    "for n in range(3, 1001):\n",
    "    is_prime = True\n",
    "    for d in range(2, n):\n",
    "        if n % d == 0:\n",
    "            is_prime = False\n",
    "            break\n",
    "    if is_prime:\n",
    "        primes.append(n)\n",
    "        \n",
    "print primes"
   ]
  },
  {
   "cell_type": "code",
   "execution_count": null,
   "metadata": {
    "collapsed": false
   },
   "outputs": [],
   "source": [
    "# 1. solution O(n)\n",
    "num = 6277\n",
    "is_prime = True\n",
    "\n",
    "for i in range(2, num):\n",
    "    if num % i == 0:\n",
    "        is_prime = False\n",
    "        break\n",
    "        \n",
    "if is_prime:\n",
    "    print '6277 is prime'\n",
    "else:\n",
    "    print '6277 is composite'"
   ]
  },
  {
   "cell_type": "code",
   "execution_count": null,
   "metadata": {
    "collapsed": true
   },
   "outputs": [],
   "source": [
    "# 2. solution O(n^2)\n",
    "primes = [2]\n",
    "\n",
    "for n in range(3, 1001):\n",
    "    is_prime = True\n",
    "    for d in range(2, n):\n",
    "        if n % d == 0:\n",
    "            is_prime = False\n",
    "            break\n",
    "    if is_prime:\n",
    "        primes.append(n)\n",
    "        \n",
    "print primes\n",
    "\n",
    "# wait, can we do better?"
   ]
  },
  {
   "cell_type": "code",
   "execution_count": 6,
   "metadata": {
    "collapsed": false
   },
   "outputs": [
    {
     "name": "stdout",
     "output_type": "stream",
     "text": [
      "1 loop, best of 3: 2.56 s per loop\n"
     ]
    }
   ],
   "source": [
    "def get_primes(limit):\n",
    "    primes = [2]\n",
    "    for n in range(3, limit+1):\n",
    "        is_prime = True\n",
    "        for d in range(2, n):\n",
    "            if n % d == 0:\n",
    "                is_prime = False\n",
    "                break\n",
    "        if is_prime:\n",
    "            primes.append(n)\n",
    "            \n",
    "    return primes\n",
    "            \n",
    "%timeit get_primes(20000)"
   ]
  },
  {
   "cell_type": "code",
   "execution_count": 7,
   "metadata": {
    "collapsed": false
   },
   "outputs": [
    {
     "name": "stdout",
     "output_type": "stream",
     "text": [
      "10 loops, best of 3: 37.5 ms per loop\n"
     ]
    }
   ],
   "source": [
    "import math\n",
    "\n",
    "def get_primes_efficient(limit):\n",
    "    primes = [2]\n",
    "    for n in range(3, limit+1):\n",
    "        is_prime = True\n",
    "        for d in range(2, int(math.sqrt(n)+1)):\n",
    "            if n % d == 0:\n",
    "                is_prime = False\n",
    "                break\n",
    "        if is_prime:\n",
    "            primes.append(n)\n",
    "            \n",
    "    return primes\n",
    "            \n",
    "%timeit get_primes_efficient(20000)"
   ]
  },
  {
   "cell_type": "code",
   "execution_count": null,
   "metadata": {
    "collapsed": false
   },
   "outputs": [],
   "source": [
    "# 3. solution palindrome\n",
    "\n",
    "# simple solution O(nlogn)\n",
    "\n",
    "print len([i for i in range(1, 9001) if str(i) == str(i)[::-1]])\n",
    "\n",
    "# non str() solution\n",
    "palins = []\n",
    "for i in range(1, 9001):\n",
    "    n = i\n",
    "    temp = []\n",
    "    while n: \n",
    "        k = n % 10\n",
    "        temp.insert(0, k)\n",
    "        n /= 10\n",
    "    \n",
    "    reverse = sum([d*10**t for t, d in enumerate(temp)])\n",
    "    \n",
    "    if i == reverse:\n",
    "        palins.append(i)\n",
    "        \n",
    "print len(palins)\n",
    "        \n",
    "    "
   ]
  },
  {
   "cell_type": "code",
   "execution_count": 17,
   "metadata": {
    "collapsed": false
   },
   "outputs": [],
   "source": [
    "import random\n",
    "nums = random.sample(range(1, 100), 50)"
   ]
  },
  {
   "cell_type": "code",
   "execution_count": 18,
   "metadata": {
    "collapsed": false
   },
   "outputs": [],
   "source": [
    "sorted_nums = sorted(nums)"
   ]
  },
  {
   "cell_type": "code",
   "execution_count": null,
   "metadata": {
    "collapsed": false
   },
   "outputs": [],
   "source": [
    "# sequential search O(n)\n",
    "search = int(raw_input())\n",
    "\n",
    "found = False\n",
    "for i, n in enumerate(sorted_nums):\n",
    "    if n == search:\n",
    "        found = True\n",
    "        break\n",
    "        \n",
    "if found:\n",
    "    print '{} is in index of {}'.format(search, i)\n",
    "else:\n",
    "    print 'not found'"
   ]
  },
  {
   "cell_type": "code",
   "execution_count": 20,
   "metadata": {
    "collapsed": false
   },
   "outputs": [
    {
     "name": "stdout",
     "output_type": "stream",
     "text": [
      "found\n"
     ]
    }
   ],
   "source": [
    "start = 0 \n",
    "end = len(sorted_nums) - 1\n",
    "\n",
    "search = 20\n",
    "\n",
    "while start <= end:\n",
    "    mid = (start + end) / 2\n",
    "    if search == sorted_nums[mid]:\n",
    "        print 'found'\n",
    "        break\n",
    "    elif search > sorted_nums[mid]:\n",
    "        start = mid + 1\n",
    "    else:\n",
    "        end = mid - 1\n",
    "else:\n",
    "    print 'not found'"
   ]
  },
  {
   "cell_type": "code",
   "execution_count": null,
   "metadata": {
    "collapsed": false
   },
   "outputs": [],
   "source": [
    "# binary search (logn)\n",
    "search = int(raw_input())\n",
    "\n",
    "start = 0\n",
    "end = len(sorted_nums) - 1\n",
    "\n",
    "found = False\n",
    "while start <= end:\n",
    "    mid = (start + end) / 2\n",
    "    \n",
    "    if sorted_nums[mid] == search:\n",
    "        found = True\n",
    "        break\n",
    "    elif sorted_nums[mid] > search:\n",
    "        end = mid - 1\n",
    "    else:\n",
    "        start = mid + 1\n",
    "        \n",
    "if found:\n",
    "    print '{} is in index of {}'.format(search, mid)\n",
    "else:\n",
    "    print 'not found'"
   ]
  },
  {
   "cell_type": "markdown",
   "metadata": {},
   "source": [
    "* ** 함수 연습문제** \n",
    "\n",
    " 8. 정렬된 숫자로 이루어진 리스트를 입력 받아, 이진탐색으로 특정 숫자를 검색하는 함수를 만드세요. 없는 경우 -1 반환\n",
    " 9. 두개의 정렬된 정수 리스트를 입력 받아, 하나의 리스트로 정렬하여 반환하는 함수를 만드세요. sort, sorted함수 사용 금 지\n",
    " 10. 두개의 정수 리스트를 입력 받아, 모든 리스트에 포함된 숫자만 포함하는 리스트를 반환하시오. 이때, 생성되는 리스트는 정렬할 필요가 없습니다."
   ]
  },
  {
   "cell_type": "code",
   "execution_count": null,
   "metadata": {
    "collapsed": false
   },
   "outputs": [],
   "source": [
    "def seq_search(nums, search):\n",
    "    for i, n in enumerate(nums):\n",
    "        if n == search:\n",
    "            return i\n",
    "    return None\n",
    "\n",
    "search = int(raw_input())\n",
    "print seq_search(sorted_nums, search)\n",
    "%timeit seq_search(sorted_nums, search)"
   ]
  },
  {
   "cell_type": "code",
   "execution_count": null,
   "metadata": {
    "collapsed": false
   },
   "outputs": [],
   "source": [
    "def binary_search(nums, search):\n",
    "    start = 0\n",
    "    end = len(sorted_nums) - 1\n",
    "\n",
    "    while start <= end:\n",
    "        mid = (start + end) / 2\n",
    "\n",
    "        if sorted_nums[mid] == search:\n",
    "            return mid\n",
    "        elif sorted_nums[mid] > search:\n",
    "            end = mid - 1\n",
    "        else:\n",
    "            start = mid + 1\n",
    "    return None\n",
    "\n",
    "search = int(raw_input())\n",
    "print binary_search(sorted_nums, search)\n",
    "%timeit binary_search(sorted_nums, search)"
   ]
  },
  {
   "cell_type": "code",
   "execution_count": null,
   "metadata": {
    "collapsed": true
   },
   "outputs": [],
   "source": [
    "# 2. solution\n",
    "nums = random.sample(range(1, 100000), 10000)\n",
    "nums2 = random.sample(range(1, 100000), 10000)  \n",
    "\n",
    "nums.sort()\n",
    "nums2.sort()"
   ]
  },
  {
   "cell_type": "code",
   "execution_count": null,
   "metadata": {
    "collapsed": false
   },
   "outputs": [],
   "source": [
    "# simple solution\n",
    "# O(nlogn)\n",
    "\n",
    "nums_new = nums[:]\n",
    "nums2_new = nums2[:]\n",
    "\n",
    "def sort_two_list(n1, n2):\n",
    "    n1.extend(n2)\n",
    "    n1.sort()\n",
    "    \n",
    "    return n1\n",
    "\n",
    "%timeit sort_two_list(nums_new, nums2_new)\n"
   ]
  },
  {
   "cell_type": "code",
   "execution_count": null,
   "metadata": {
    "collapsed": false
   },
   "outputs": [],
   "source": [
    "nums_new = nums[:]\n",
    "nums2_new = nums2[:]\n",
    "\n",
    "def sort_two_list_efficient(n1, n2):\n",
    "    i = 0\n",
    "    j = 0\n",
    "    \n",
    "    result = []\n",
    "    while i < len(n1) and j < len(n2):\n",
    "        if n1[i] > n2[j]:\n",
    "            result.append(n2[j])\n",
    "            j += 1\n",
    "        else:\n",
    "            result.append(n1[i])\n",
    "            i += 1\n",
    "    \n",
    "    result.extend(n1[i:])\n",
    "    result.extend(n2[j:])\n",
    "                \n",
    "    return result\n",
    "\n",
    "% timeit sort_two_list_efficient(nums_new, nums2_new)"
   ]
  },
  {
   "cell_type": "code",
   "execution_count": null,
   "metadata": {
    "collapsed": false
   },
   "outputs": [],
   "source": [
    "# 3. solution\n",
    "nums = random.sample(range(1, 100000), 10000)\n",
    "nums2 = random.sample(range(1, 100000), 10000)        "
   ]
  },
  {
   "cell_type": "code",
   "execution_count": null,
   "metadata": {
    "collapsed": false
   },
   "outputs": [],
   "source": [
    "# O(n^2)\n",
    "def duplicates(nums, nums2):\n",
    "    return [i for i in nums if i in nums2]\n",
    "\n",
    "%timeit duplicates(nums, nums2)"
   ]
  },
  {
   "cell_type": "code",
   "execution_count": null,
   "metadata": {
    "collapsed": false
   },
   "outputs": [],
   "source": [
    "# O(n)\n",
    "def duplicates_efficient(nums, nums2):\n",
    "    dict1 = {}\n",
    "    for i in nums2:\n",
    "        dict1[i] = 1\n",
    "        \n",
    "    return [i for i in nums if i in dict1]\n",
    "            \n",
    "%timeit duplicates_efficient(nums, nums2)"
   ]
  },
  {
   "cell_type": "markdown",
   "metadata": {},
   "source": [
    "* **재귀함수 연습문제**\n",
    " 1. 숫자 리스트를 인자로 받아 그 숫자의 합을 구하는 재귀함수를 작성하시오.\n",
    " 2. 숫자를 입력받아 각 자리수의 합을 구하는 재귀함수를 작성하시오.\n",
    " 3. 주어진 두 수의 최대 공약수를 찾는 재귀함수를 작성하시오.\n",
    "    A와 B의 최대 공약수는 B와 A%B의 최대 공약수와 같다."
   ]
  },
  {
   "cell_type": "code",
   "execution_count": 21,
   "metadata": {
    "collapsed": false
   },
   "outputs": [
    {
     "name": "stdout",
     "output_type": "stream",
     "text": [
      "13\n"
     ]
    }
   ],
   "source": [
    "\n",
    "def list_sum(nums, n):\n",
    "    if n == 0:\n",
    "        return nums[n]\n",
    "    return list_sum(nums, n-1) + nums[n]\n",
    "\n",
    "a = [3, 7, 1, 2]\n",
    "print list_sum(a, len(a) - 1)"
   ]
  },
  {
   "cell_type": "code",
   "execution_count": 22,
   "metadata": {
    "collapsed": false
   },
   "outputs": [
    {
     "name": "stdout",
     "output_type": "stream",
     "text": [
      "24\n"
     ]
    }
   ],
   "source": [
    "def sum_num(n):\n",
    "    if n < 10:\n",
    "        return n\n",
    "    return sum_num(n/10) + n%10 \n",
    "    \n",
    "    \n",
    "    \n",
    "    \n",
    "print sum_num(7584)  \n",
    "    \n",
    "    \n",
    "    \n",
    "    "
   ]
  },
  {
   "cell_type": "code",
   "execution_count": null,
   "metadata": {
    "collapsed": false
   },
   "outputs": [],
   "source": [
    "'''f(n) = 인덱스 n까지의 숫자의 합이라고 정의\n",
    "해당 문제는 f(len(nums)-1)을 구하는 문제가 됨\n",
    "\n",
    "f(n)을 점화식으로 표현해봅시다.\n",
    "f(n) = a[n] + f(n-1)\n",
    "Basecase : f(0) = a[0]으로 표현 가능\n",
    "'''\n",
    "\n",
    "# O(n)\n",
    "def recursive_sum(nums, n):\n",
    "    if n == 0:\n",
    "        return nums[0]\n",
    "    return nums[n] + recursive_sum(nums, n-1)\n",
    "\n",
    "nums = [1, 2, 7, 9, 100, 20, 99]\n",
    "\n",
    "print recursive_sum(nums, len(nums)-1)"
   ]
  },
  {
   "cell_type": "code",
   "execution_count": null,
   "metadata": {
    "collapsed": false
   },
   "outputs": [],
   "source": [
    "'''f(n) = 앞에서 부터 n번째 수까지의 합\n",
    "\n",
    "f(n)을 점화식으로 표현해봅시다.\n",
    "f(n) = nth digit + f(n-1)\n",
    "Basecase : f(0) = 0th digit 으로 표현 가능\n",
    "\n",
    "O(logn)\n",
    "'''\n",
    "\n",
    "def recursive_digit_sum(num):\n",
    "    if num < 10:\n",
    "        return num\n",
    "    return recursive_digit_sum(num/10) + num % 10\n",
    "\n",
    "print recursive_digit_sum(1<<1000)"
   ]
  },
  {
   "cell_type": "code",
   "execution_count": 24,
   "metadata": {
    "collapsed": false
   },
   "outputs": [
    {
     "name": "stdout",
     "output_type": "stream",
     "text": [
      "120\n"
     ]
    }
   ],
   "source": [
    "#A, B B, A%B\n",
    "\n",
    "def euclidean(A, B):\n",
    "    if B == 0:\n",
    "        return A\n",
    "    return euclidean(B, A%B)\n",
    "\n",
    "\n",
    "print euclidean(120, 600)"
   ]
  },
  {
   "cell_type": "code",
   "execution_count": null,
   "metadata": {
    "collapsed": false
   },
   "outputs": [],
   "source": [
    "'''\n",
    "    f(A, B) -> A, B의 최대공약수\n",
    "    f(A, B) = f(B, A%B)\n",
    "    Base case : f(A, 0) = A\n",
    "    \n",
    "    roughly O(A%B)\n",
    "'''\n",
    "\n",
    "def gcd(A, B):\n",
    "    if B == 0:\n",
    "        return A\n",
    "    return gcd(B, A%B)\n",
    "\n",
    "print gcd(4800, 1024)"
   ]
  }
 ],
 "metadata": {
  "kernelspec": {
   "display_name": "Python 2",
   "language": "python",
   "name": "python2"
  },
  "language_info": {
   "codemirror_mode": {
    "name": "ipython",
    "version": 2
   },
   "file_extension": ".py",
   "mimetype": "text/x-python",
   "name": "python",
   "nbconvert_exporter": "python",
   "pygments_lexer": "ipython2",
   "version": "2.7.13"
  }
 },
 "nbformat": 4,
 "nbformat_minor": 2
}
