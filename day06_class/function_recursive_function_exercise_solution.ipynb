{
 "cells": [
  {
   "cell_type": "markdown",
   "metadata": {},
   "source": [
    "* 과제 \n",
    " 1. filter 함수 구현\n",
    " 2. map 함수 구현\n",
    " 1. reduce를 직접 구현하세요 reduce2(func, iterable)\n",
    " 2. 이진탐색을 재귀함수로 구현해보세요."
   ]
  },
  {
   "cell_type": "code",
   "execution_count": null,
   "metadata": {
    "collapsed": true
   },
   "outputs": [],
   "source": [
    "def filter2(func, lst):\n",
    "    result = []\n",
    "    for i in lst:\n",
    "        if func(i):\n",
    "            result.append(i)\n",
    "    return result\n",
    "\n",
    "filter2(lambda x: len(x) > 5, lst)\n",
    "\n",
    "def filter3(func, lst):\n",
    "    return [i for i in lst if func(i)]"
   ]
  },
  {
   "cell_type": "code",
   "execution_count": 9,
   "metadata": {
    "collapsed": true
   },
   "outputs": [],
   "source": [
    "def map2(func, *lst):\n",
    "    result = []\n",
    "    \n",
    "    for i in zip(*lst):\n",
    "        result.append(func(*i))\n",
    "        \n",
    "    return result\n",
    "\n",
    "def map3(func, *lst):\n",
    "    return [func(*i) for i in zip(*lst)]"
   ]
  },
  {
   "cell_type": "code",
   "execution_count": 10,
   "metadata": {
    "collapsed": false
   },
   "outputs": [
    {
     "name": "stdout",
     "output_type": "stream",
     "text": [
      "[3, 5, 12]\n",
      "[3, 5, 12]\n",
      "[3, 5, 12]\n"
     ]
    }
   ],
   "source": [
    "print map(lambda x, y : x ** 2 + y, [1, 2, 3], [2, 1, 3])\n",
    "print map2(lambda x, y : x ** 2 + y, [1, 2, 3], [2, 1, 3])\n",
    "print map3(lambda x, y : x ** 2 + y, [1, 2, 3], [2, 1, 3])"
   ]
  },
  {
   "cell_type": "code",
   "execution_count": 3,
   "metadata": {
    "collapsed": false
   },
   "outputs": [
    {
     "name": "stdout",
     "output_type": "stream",
     "text": [
      "27\n",
      "27\n",
      "9\n",
      "9\n"
     ]
    }
   ],
   "source": [
    "nums = [1, 3, 2, 9, 5, 7]\n",
    "def reduce2(func, iterable):\n",
    "    acc = iterable[0]\n",
    "    for i in iterable[1:]:\n",
    "        acc = func(acc, i)\n",
    "        \n",
    "    return acc\n",
    "\n",
    "#lambda item : item % 2 == 0\n",
    "\n",
    "print reduce(lambda x, y: x + y, nums)\n",
    "print reduce2(lambda x, y: x + y, nums)\n",
    "\n",
    "#[i ** 2 if i % 2 == 0 else i + 2 for i in nums ]\n",
    "\n",
    "print reduce(lambda x, y: x if x > y else y, nums)\n",
    "print reduce2(lambda x, y: x if x > y else y, nums)"
   ]
  },
  {
   "cell_type": "code",
   "execution_count": 4,
   "metadata": {
    "collapsed": false
   },
   "outputs": [
    {
     "name": "stdout",
     "output_type": "stream",
     "text": [
      "0\n",
      "1\n",
      "None\n",
      "None\n",
      "None\n",
      "5\n",
      "6\n",
      "8\n",
      "None\n",
      "12\n",
      "None\n",
      "13\n",
      "14\n"
     ]
    }
   ],
   "source": [
    "nums = [1, 2, 3, 7, 11, 18, 22, 23, 24, 56, 78, 89, 91, 99, 100]\n",
    "\n",
    "def recursive_binary_search(arr, num, start, end):\n",
    "    if start <= end:\n",
    "        mid = (start + end) / 2\n",
    "        if arr[mid] == num:\n",
    "            return mid\n",
    "        elif arr[mid] > num:\n",
    "            return recursive_binary_search(arr, num, start, mid - 1)\n",
    "        else:\n",
    "            return recursive_binary_search(arr, num, mid + 1, end) \n",
    "    return None\n",
    "\n",
    "start = 0\n",
    "end = len(nums) - 1\n",
    "\n",
    "print recursive_binary_search(nums, 1, start, end)\n",
    "print recursive_binary_search(nums, 2, start, end)\n",
    "print recursive_binary_search(nums, 4, start, end)\n",
    "print recursive_binary_search(nums, 5, start, end)\n",
    "print recursive_binary_search(nums, 6, start, end)\n",
    "print recursive_binary_search(nums, 18, start, end)\n",
    "print recursive_binary_search(nums, 22, start, end)\n",
    "print recursive_binary_search(nums, 24, start, end)\n",
    "print recursive_binary_search(nums, 50, start, end)\n",
    "print recursive_binary_search(nums, 91, start, end)\n",
    "print recursive_binary_search(nums, 92, start, end)\n",
    "print recursive_binary_search(nums, 99, start, end)\n",
    "print recursive_binary_search(nums, 100, start, end)"
   ]
  },
  {
   "cell_type": "markdown",
   "metadata": {
    "collapsed": true
   },
   "source": [
    "1. 주어진 숫자 n에 대해서 1부터 n까지의 합을 구하는 함수를 재귀함수로 작성하시오\n",
    "2. 주어진 숫자 리스트에 대해서 해당 리스트의 최대값을 구하는 함수를 재귀함수로 작성하시오\n",
    "3. 주어진 양의 정수 2개 a, b에대해 a^b를 리턴하는 함수를 재귀함수로 작성하시오"
   ]
  },
  {
   "cell_type": "code",
   "execution_count": 18,
   "metadata": {
    "collapsed": true
   },
   "outputs": [],
   "source": [
    "def rec_sum(n):\n",
    "    if n <= 0:\n",
    "        return 0\n",
    "    return n + rec_sum(n-1)"
   ]
  },
  {
   "cell_type": "code",
   "execution_count": 19,
   "metadata": {
    "collapsed": false
   },
   "outputs": [
    {
     "name": "stdout",
     "output_type": "stream",
     "text": [
      "1\n",
      "5050\n"
     ]
    }
   ],
   "source": [
    "print rec_sum(1)\n",
    "print rec_sum(100)\n"
   ]
  },
  {
   "cell_type": "code",
   "execution_count": 21,
   "metadata": {
    "collapsed": true
   },
   "outputs": [],
   "source": [
    "def rec_max(lst):\n",
    "    if not lst:\n",
    "        return None\n",
    "    if len(lst) == 1:\n",
    "        return lst[0]\n",
    "    return max(rec_max(lst[:-1]), lst[-1])\n",
    "    "
   ]
  },
  {
   "cell_type": "code",
   "execution_count": 24,
   "metadata": {
    "collapsed": false
   },
   "outputs": [
    {
     "name": "stdout",
     "output_type": "stream",
     "text": [
      "None\n",
      "2\n",
      "23\n"
     ]
    }
   ],
   "source": [
    "print rec_max([])\n",
    "print rec_max([2])\n",
    "print rec_max([2, 9, 11, 17, 4, 20, 23, 1, 7, 6])"
   ]
  },
  {
   "cell_type": "code",
   "execution_count": 30,
   "metadata": {
    "collapsed": true
   },
   "outputs": [],
   "source": [
    "def rec_power(a, b):\n",
    "    if b == 0:\n",
    "        return 1\n",
    "    return a * rec_power(a, b-1)"
   ]
  },
  {
   "cell_type": "code",
   "execution_count": 37,
   "metadata": {
    "collapsed": false
   },
   "outputs": [
    {
     "name": "stdout",
     "output_type": "stream",
     "text": [
      "10000 loops, best of 3: 104 µs per loop\n"
     ]
    }
   ],
   "source": [
    "%timeit rec_power(2, 500)"
   ]
  },
  {
   "cell_type": "code",
   "execution_count": 39,
   "metadata": {
    "collapsed": true
   },
   "outputs": [],
   "source": [
    "def rec_power2(a, b):\n",
    "    if b == 0:\n",
    "        return 1\n",
    "    if b % 2:\n",
    "        return rec_power(a, b/2) ** 2 * a\n",
    "    else:\n",
    "        return rec_power(a, b/2) ** 2"
   ]
  },
  {
   "cell_type": "code",
   "execution_count": 40,
   "metadata": {
    "collapsed": false
   },
   "outputs": [
    {
     "name": "stdout",
     "output_type": "stream",
     "text": [
      "The slowest run took 5.71 times longer than the fastest. This could mean that an intermediate result is being cached.\n",
      "10000 loops, best of 3: 48.4 µs per loop\n"
     ]
    }
   ],
   "source": [
    "%timeit rec_power2(2, 500)"
   ]
  }
 ],
 "metadata": {
  "kernelspec": {
   "display_name": "Python 2",
   "language": "python",
   "name": "python2"
  },
  "language_info": {
   "codemirror_mode": {
    "name": "ipython",
    "version": 2
   },
   "file_extension": ".py",
   "mimetype": "text/x-python",
   "name": "python",
   "nbconvert_exporter": "python",
   "pygments_lexer": "ipython2",
   "version": "2.7.13"
  }
 },
 "nbformat": 4,
 "nbformat_minor": 2
}
