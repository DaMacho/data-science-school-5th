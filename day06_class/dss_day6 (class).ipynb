{
 "cells": [
  {
   "cell_type": "markdown",
   "metadata": {},
   "source": [
    "# Class & Object "
   ]
  },
  {
   "cell_type": "markdown",
   "metadata": {},
   "source": [
    "## 학습목표\n",
    " 1. 클래스와 오브젝트에 대한 이해\n",
    " 2. 클래스 설계 구현 및 사용 숙지"
   ]
  },
  {
   "cell_type": "markdown",
   "metadata": {},
   "source": [
    "* **class란?**\n",
    " + 실세계의 것을 모델링하여 속성(attribute)와 동작(method)를 갖는 데이터 타입\n",
    " + python에서의 string, int, list, dict.. 모두가 다 클래스로 존재\n",
    " + 예를들어 학생이라는 클래스를 만든다면, 학생을 나타내는 속성과 학생이 행하는 행동을 함께 정의 할 수 있음\n",
    " + project2에서 처럼 각 함수는 파라미터로 전달되는 데이터에 대한 처리를 담당하는데, 프로젝트가 커지고 각각 다루는 함수와 변수가 많아 질수록 유지보수에 어려움이 있음\n",
    " + 따라서, 다루고자 하는 데이터(변수) 와 데이터를 다루는 연산(함수)를 하나로 캡슐화(encapsulation)하여 클래스로 표현\n",
    " + 모델링에서 중요시 하는 속성에 따라 클래스의 속성과 행동이 각각 달라짐"
   ]
  },
  {
   "cell_type": "markdown",
   "metadata": {},
   "source": [
    "* **object 란?**\n",
    " - 클래스로 생성되어 구체화된 객체(인스턴스)\n",
    " - 파이썬의 모든 것(int, str, list..etc)은 객체(인스턴스)\n",
    " - 실제로 class가 인스턴스화 되어 메모리에 상주하는 상태를 의미\n",
    " - class가 빵틀이라면, object는 실제로 빵틀로 찍어낸 빵이라고 비유 가능\n"
   ]
  },
  {
   "cell_type": "code",
   "execution_count": 3,
   "metadata": {
    "collapsed": false
   },
   "outputs": [
    {
     "name": "stdout",
     "output_type": "stream",
     "text": [
      "7\n"
     ]
    }
   ],
   "source": [
    "# 실제로 메모리에 구체화된 값을 가진 실체\n",
    "# 속성(attribute), 동작(method)를 가짐\n",
    "num = 100\n",
    "print num.bit_length()\n",
    "\n",
    "a = list()\n",
    "\n",
    "b = [1, 2, 3]\n",
    "b.append(7)\n",
    "\n",
    "filter()\n",
    "b."
   ]
  },
  {
   "cell_type": "markdown",
   "metadata": {},
   "source": [
    "* **class 선언하기**\n",
    "  - 객체를 생성하기 위해선 객체의 모체가 되는 class를 미리 선언해야 함 "
   ]
  },
  {
   "cell_type": "code",
   "execution_count": 2,
   "metadata": {
    "collapsed": false
   },
   "outputs": [
    {
     "name": "stdout",
     "output_type": "stream",
     "text": [
      "<__main__.Person object at 0x10650cfd0>\n",
      "<__main__.Person object at 0x10650cc90>\n"
     ]
    }
   ],
   "source": [
    "# camel case\n",
    "def test_simulation_method():\n",
    "    pass\n",
    "\n",
    "class Person(object):\n",
    "    pass\n",
    "\n",
    "p1 = Person()\n",
    "print p1\n",
    "\n",
    "p2 = Person()\n",
    "print p2\n",
    "\n",
    "a = []\n",
    "b = a"
   ]
  },
  {
   "cell_type": "markdown",
   "metadata": {},
   "source": [
    "* __init__(self)\n",
    " + 생성자, 클래스 인스턴스가 생성될 때 호출됨\n",
    " + self인자는 항상 첫번째에 오며 자기 자신을 가리킴\n",
    " + 이름이 꼭 self일 필요는 없지만, 관례적으로 self로 사용\n",
    " \n",
    " + 생성자에서는 해당 클래스가 다루는 데이터를 정의\n",
    "   - 이 데이터를 멤버 변수(member variable) 또는 속성(attribute)라고 함"
   ]
  },
  {
   "cell_type": "code",
   "execution_count": 6,
   "metadata": {
    "collapsed": false
   },
   "outputs": [
    {
     "name": "stdout",
     "output_type": "stream",
     "text": [
      "__init__ called\n",
      "__init__ called\n",
      "Ted 23\n",
      "Bob 33\n"
     ]
    }
   ],
   "source": [
    "class Person(object):\n",
    "    # constructor, 생성자\n",
    "    def __init__(self, n, a):\n",
    "        print '__init__ called'\n",
    "        self.name = n\n",
    "        self.age = a\n",
    "        \n",
    "s1 = Person('Ted', 23)\n",
    "s2 = Person('Bob', 33)\n",
    "\n",
    "print s1.name, s1.age\n",
    "print s2.name, s2.age"
   ]
  },
  {
   "cell_type": "markdown",
   "metadata": {},
   "source": [
    "* **mehtod 정의**\n",
    " + 멤버함수라고도 하며, 해당 클래스의 object에서만 호출가능\n",
    " + 메쏘드는 객체 레벨에서 호출되며, 해당 객체의 속성에 대한 연산을 행함\n",
    " + {obj}.{method}() 형태로 호출됨"
   ]
  },
  {
   "cell_type": "code",
   "execution_count": 9,
   "metadata": {
    "collapsed": false
   },
   "outputs": [
    {
     "name": "stdout",
     "output_type": "stream",
     "text": [
      "Tracy works 10 hour very hard\n",
      "Aaron works 20 hour very hard\n",
      "Work hard but just a function\n"
     ]
    }
   ],
   "source": [
    "class Person(object):\n",
    "    def __init__(self, name, height):\n",
    "        self.name = name\n",
    "        self.height = height\n",
    "        \n",
    "    def work(self, hour):\n",
    "        print '{} works {} hour very hard' \\\n",
    "            .format(self.name, hour)\n",
    "        \n",
    "def work():\n",
    "    print 'Work hard but just a function'\n",
    "\n",
    "p1 = Person('Tracy', 190)\n",
    "p1.work(10)\n",
    "\n",
    "p2 = Person('Aaron', 190)\n",
    "p2.work(20)\n",
    "\n",
    "# 에러 발생. why?\n",
    "#p1 = [1, 2, 34]\n",
    "#p1.work()\n",
    "\n",
    "work()"
   ]
  },
  {
   "cell_type": "code",
   "execution_count": 10,
   "metadata": {
    "collapsed": false
   },
   "outputs": [
    {
     "name": "stdout",
     "output_type": "stream",
     "text": [
      "aaron works very hard\n",
      "aaron sleeps every day\n",
      "bob works very hard\n",
      "<__main__.Person object at 0x1065242d0>\n",
      "<__main__.Person object at 0x1064f3f50>\n"
     ]
    }
   ],
   "source": [
    "class Person(object):\n",
    "    \n",
    "    def __init__(self, name):\n",
    "        self.name = name\n",
    "        \n",
    "    def work(self):\n",
    "        print '{} works very hard'.format(self.name)\n",
    "        \n",
    "    def sleep(self):\n",
    "        print '{} sleeps every day'.format(self.name)\n",
    "        \n",
    "\n",
    "p1 = Person('aaron')\n",
    "p1.work()\n",
    "p1.sleep()\n",
    "\n",
    "p2 = Person('bob')\n",
    "p2.work()\n",
    "\n",
    "\n",
    "print p1\n",
    "print p2"
   ]
  },
  {
   "cell_type": "code",
   "execution_count": 12,
   "metadata": {
    "collapsed": false
   },
   "outputs": [
    {
     "name": "stdout",
     "output_type": "stream",
     "text": [
      "aaron\n",
      "bob\n"
     ]
    }
   ],
   "source": [
    "p1 = Person('aaron')\n",
    "print p1.name\n",
    "p1.name = 'bob'\n",
    "print p1.name"
   ]
  },
  {
   "cell_type": "markdown",
   "metadata": {},
   "source": [
    "* ** private, protected, public**\n",
    "  - c++, java 등의 기타 OOP 언어와는 달리, 파이썬의 경우 리스트릭트한 제한자 적용을 할 수 없음 \n",
    "  - 파이썬에서의 모든 속성, 메쏘드는 기본적으로 **public**\n",
    "  - 즉, 클래스의 외부에서 속성, 메쏘드에 접근이 가능 (사용 가능)"
   ]
  },
  {
   "cell_type": "code",
   "execution_count": 13,
   "metadata": {
    "collapsed": false
   },
   "outputs": [
    {
     "name": "stdout",
     "output_type": "stream",
     "text": [
      "0ml inside the bottle\n",
      "20ml inside the bottle\n"
     ]
    }
   ],
   "source": [
    "class Bottle:\n",
    "    def __init__(self, quantity):\n",
    "        self.quantity = quantity\n",
    "        \n",
    "    def fill(self, quantity):\n",
    "        self.quantity = quantity\n",
    "        \n",
    "    def empty(self):\n",
    "        self.quantity = 0\n",
    "        \n",
    "    def show(self):\n",
    "        print '{}ml inside the bottle'.format(self.quantity)\n",
    "        \n",
    "bottle = Bottle(20)\n",
    "bottle.fill(100)\n",
    "bottle.empty()\n",
    "\n",
    "bottle.show()\n",
    "\n",
    "bottle.quantity = 20\n",
    "\n",
    "bottle.show()\n",
    "\n",
    "work()"
   ]
  },
  {
   "cell_type": "markdown",
   "metadata": {},
   "source": [
    "* ** protected **\n",
    " - protected 속성의 경우, 해당 클래스와 그것의 하위 클래스에서만 접근 가능\n",
    " - 파이썬에서는 해당 속성의 앞에 _(single underscore) 를 붙여서 해결\n",
    " - 다만, 실제 runtime에서의 제약 사항은 아니고, 실제 클래스를 사용하는 사용자에게 경고 형태로만 제공"
   ]
  },
  {
   "cell_type": "code",
   "execution_count": 14,
   "metadata": {
    "collapsed": false
   },
   "outputs": [
    {
     "name": "stdout",
     "output_type": "stream",
     "text": [
      "60ml inside the bottle\n",
      "100ml inside the bottle\n",
      "100\n",
      "2000ml inside the bottle\n"
     ]
    }
   ],
   "source": [
    "class Bottle:\n",
    "    def __init__(self, quantity):\n",
    "        self._quantity = quantity\n",
    "        \n",
    "    def fill(self, quantity):\n",
    "        if self._quantity + quantity > 100:\n",
    "            self._quantity = 100\n",
    "        else:\n",
    "            self._quantity += quantity\n",
    "        \n",
    "    def empty(self):\n",
    "        self._quantity = 0\n",
    "        \n",
    "    def show(self):\n",
    "        print '{}ml inside the bottle'.format(self._quantity)\n",
    "        \n",
    "bottle = Bottle(20)\n",
    "bottle.fill(40)\n",
    "\n",
    "bottle.show()\n",
    "\n",
    "bottle.fill(50)\n",
    "\n",
    "bottle.show()\n",
    "\n",
    "# 100ml 이상 담을 수 없게 구현했으나, 사용자가 마음대로 외부에서 설정\n",
    "print bottle._quantity\n",
    "\n",
    "bottle.fill(2000)\n",
    "bottle._quantity = 2000\n",
    "\n",
    "bottle.show()"
   ]
  },
  {
   "cell_type": "markdown",
   "metadata": {},
   "source": [
    "* **private**\n",
    "  - 해당 클래스의 외부에서는 접근 불가능\n",
    "  - 파이썬의 경우 속성이름 앞에 __(double underscore)를 붙여서 private 속성으로 설정\n",
    "    - name mangling을 통해 속성의 이름을 변경하는 기법으로 private으로 설정\n",
    "  - 해당 속성의 경우, 클래스의 외부에서 접근할 경우 에러 발생"
   ]
  },
  {
   "cell_type": "code",
   "execution_count": 15,
   "metadata": {
    "collapsed": false
   },
   "outputs": [
    {
     "name": "stdout",
     "output_type": "stream",
     "text": [
      "0ml inside the bottle\n"
     ]
    },
    {
     "ename": "AttributeError",
     "evalue": "Bottle instance has no attribute '__quantity'",
     "output_type": "error",
     "traceback": [
      "\u001b[0;31m---------------------------------------------------------------------\u001b[0m",
      "\u001b[0;31mAttributeError\u001b[0m                      Traceback (most recent call last)",
      "\u001b[0;32m<ipython-input-15-b6cf76ecbe25>\u001b[0m in \u001b[0;36m<module>\u001b[0;34m()\u001b[0m\n\u001b[1;32m     22\u001b[0m \u001b[0;34m\u001b[0m\u001b[0m\n\u001b[1;32m     23\u001b[0m \u001b[0;31m# 아무 변화를 주지 못함\u001b[0m\u001b[0;34m\u001b[0m\u001b[0;34m\u001b[0m\u001b[0m\n\u001b[0;32m---> 24\u001b[0;31m \u001b[0;32mprint\u001b[0m \u001b[0mbottle\u001b[0m\u001b[0;34m.\u001b[0m\u001b[0m__quantity\u001b[0m\u001b[0;34m\u001b[0m\u001b[0m\n\u001b[0m\u001b[1;32m     25\u001b[0m \u001b[0mbottle\u001b[0m\u001b[0;34m.\u001b[0m\u001b[0m__quantity\u001b[0m \u001b[0;34m=\u001b[0m \u001b[0;36m3000\u001b[0m\u001b[0;34m\u001b[0m\u001b[0m\n\u001b[1;32m     26\u001b[0m \u001b[0;34m\u001b[0m\u001b[0m\n",
      "\u001b[0;31mAttributeError\u001b[0m: Bottle instance has no attribute '__quantity'"
     ]
    }
   ],
   "source": [
    "class Bottle:\n",
    "    def __init__(self, quantity):\n",
    "        self.__quantity = quantity\n",
    "        \n",
    "    def fill(self, quantity):\n",
    "        if self.__quantity + quantity > 100:\n",
    "            self.__quantity = 100\n",
    "        else:\n",
    "            self.__quantity += quantity\n",
    "        \n",
    "    def empty(self):\n",
    "        self.__quantity = 0\n",
    "        \n",
    "    def show(self):\n",
    "        print '{}ml inside the bottle'.format(self.__quantity)\n",
    "        \n",
    "bottle = Bottle(20)\n",
    "bottle.fill(100)\n",
    "bottle.empty()\n",
    "\n",
    "bottle.show()\n",
    "\n",
    "# 아무 변화를 주지 못함\n",
    "print bottle.__quantity\n",
    "bottle.__quantity = 3000\n",
    "\n",
    "# name mangling으로 속성의 이름을 변경\n",
    "# bottle._Bottle__quantity = 3000\n",
    "\n",
    "bottle.show()"
   ]
  },
  {
   "cell_type": "markdown",
   "metadata": {},
   "source": [
    "* **연습문제**\n",
    "0. Circle class를 작성하세요\n",
    "  - radius 속성을 갖습니다.\n",
    "  - 생성자에서 해당 속성을 초기화 합니다. __init__(self, radius)\n",
    "  - 넓이, 둘레를 구하는 함수를 작성하세요 get_area(self),  get_length(self)\n",
    "  \n",
    "1. BankAccount class를 작성하세요\n",
    "  - 해당 클래스는 amount라는 속성을 갖습니다.\n",
    "  - 생성자에서 해당 속성을 초기화 해줍니다. (__init__(self, amount))\n",
    "  - 해당 클래스는 인출, 저금의 기능을 갖습니다. withdraw(self, amount), save(self, amount)\n",
    "  - 해당 클래스는 잔액 확인 기능을 갖습니다. check(self)\n",
    "  - 해당 클래스는 복리 이자 체크 기능을 갖습니다. check_interest(self, interest_month, duration_month)\n",
    "\n",
    "2. 학생 성적 class관리를 위해 class를 작성하세요\n",
    " - 해당 클래스는 kor, eng, math라는 float 속성을 갖습니다.\n",
    " - 해당 클래스는 각 점수를 출력 기능을 갖습니다. print(self)\n",
    " - 해당 클래스는 점수의 평균을 반환하는 기능을 갖습니다. get_average(self)\n",
    " \n",
    "3. 비디오 가게 관리 class를 작성하세요\n",
    " - videos라는 딕셔너리 속성을 갖습니다.\n",
    " - 새 비디오 추가 기능 add_video(title)\n",
    " - 비디오 검색 기능 find_video(title)\n",
    " - 비디오가 신작인지 아닌지 판별하는 함수 (나온지 일주일 내를 신작이라고 평가) is_new_release(title)"
   ]
  },
  {
   "cell_type": "code",
   "execution_count": 16,
   "metadata": {
    "collapsed": false
   },
   "outputs": [],
   "source": [
    "class Circle(object):\n",
    "    def __init__(self, r=10):\n",
    "        self.radius = r\n",
    "        \n",
    "    def get_area(self):\n",
    "        return 3.14 * self.radius**2\n",
    "    \n",
    "    def get_length(self):\n",
    "        return 2 * 3.14 * self.radius\n"
   ]
  },
  {
   "cell_type": "code",
   "execution_count": 17,
   "metadata": {
    "collapsed": false
   },
   "outputs": [
    {
     "name": "stdout",
     "output_type": "stream",
     "text": [
      "314.0 62.8\n",
      "1256.0 125.6\n"
     ]
    }
   ],
   "source": [
    "c1 = Circle()\n",
    "c2 = Circle(20)\n",
    "\n",
    "print c1.get_area(), c1.get_length()\n",
    "print c2.get_area(), c2.get_length()"
   ]
  },
  {
   "cell_type": "code",
   "execution_count": 23,
   "metadata": {
    "collapsed": false
   },
   "outputs": [
    {
     "name": "stdout",
     "output_type": "stream",
     "text": [
      "False\n"
     ]
    }
   ],
   "source": [
    "import datetime as dt\n",
    "a = dt.datetime.now()\n",
    "b = dt.datetime(2017, 6, 10, 10, 35)\n",
    "print a - b > dt.timedelta(days=7)"
   ]
  },
  {
   "cell_type": "code",
   "execution_count": 27,
   "metadata": {
    "collapsed": false
   },
   "outputs": [
    {
     "name": "stdout",
     "output_type": "stream",
     "text": [
      "you have 1000000\n",
      "you have 8000\n",
      "1795856.32602\n"
     ]
    }
   ],
   "source": [
    "class BankAccount(object):\n",
    "    def __init__(self, amount):\n",
    "        self.amount = amount\n",
    "        \n",
    "    def save_money(self, money):\n",
    "        self.amount += money\n",
    "         \n",
    "    def withdraw(self, money):\n",
    "        if self.amount >= money:\n",
    "            self.amount -= money\n",
    "            return True\n",
    "        return False\n",
    "    \n",
    "    def check_account(self):\n",
    "        print 'you have {}'.format(self.amount)\n",
    "    \n",
    "    def check_interest(self, interest, duration):\n",
    "        return self.amount * (1 + interest) ** duration\n",
    "       \n",
    "bob = BankAccount(0)\n",
    "alice = BankAccount(10000)\n",
    "\n",
    "bob.save_money(1000000)\n",
    "bob.check_account()\n",
    "\n",
    "alice.withdraw(2000)\n",
    "alice.check_account()\n",
    "\n",
    "print bob.check_interest(0.05, 12)"
   ]
  },
  {
   "cell_type": "code",
   "execution_count": null,
   "metadata": {
    "collapsed": true
   },
   "outputs": [],
   "source": [
    "class ScoreManager(object):\n",
    "    def __init__(self, kor, eng, math):\n",
    "        self.kor = kor\n",
    "        self.eng = eng\n",
    "        self.math = math\n",
    "        \n",
    "    def show_scores(self):\n",
    "        print 'kor : {}, eng : {}, math : {}' \\\n",
    "                .format(self.kor, self.eng, self.math)\n",
    "            \n",
    "    def get_average(self):\n",
    "        return (self.kor + self.eng + self.math) / 3.0"
   ]
  },
  {
   "cell_type": "code",
   "execution_count": 25,
   "metadata": {
    "collapsed": true
   },
   "outputs": [],
   "source": [
    "class VideoManager(object):\n",
    "    def __init__(self):\n",
    "        self.videos = {}\n",
    "        \n",
    "    def add_title(self, title):\n",
    "        self.videos[title] = dt.datetime.now()\n",
    "        \n",
    "    def find_title(self, title):\n",
    "        return title in self.videos\n",
    "    \n",
    "    def is_new_release(self, title):\n",
    "        return dt.datetime.now() - self.videos[title] \\\n",
    "                    <= dt.timedelta(days=7)"
   ]
  },
  {
   "cell_type": "code",
   "execution_count": 28,
   "metadata": {
    "collapsed": false
   },
   "outputs": [
    {
     "name": "stdout",
     "output_type": "stream",
     "text": [
      "True\n",
      "False\n",
      "True\n"
     ]
    }
   ],
   "source": [
    "manager = VideoManager()\n",
    "manager.add_title('attack')\n",
    "manager.add_title('attack2')\n",
    "\n",
    "print manager.find_title('attack')\n",
    "print manager.find_title('attack3')\n",
    "\n",
    "print manager.is_new_release('attack')"
   ]
  },
  {
   "cell_type": "markdown",
   "metadata": {},
   "source": [
    " * **Class Inheritance (상속)**\n",
    "  - 기존에 정의해둔 클래스의 기능을 그대로 물려받을 수 있다.\n",
    "  - 기존 클래스에 기능 일부를 추가하거나, 변경하여 새로운 클래스를 정의한다.\n",
    "  - 코드를 재사용할 수 있게된다.\n",
    "  - 상속 받고자 하는 대상인 기존 클래스는 (Parent, Super, Base class 라고 부른다.)\n",
    "  - 상속 받는 새로운 클래스는(Child, Sub, Derived class 라고 부른다.)\n",
    "  - 의미적으로 is-a관계를 갖는다"
   ]
  },
  {
   "cell_type": "code",
   "execution_count": null,
   "metadata": {
    "collapsed": false
   },
   "outputs": [],
   "source": [
    "class Person(object):\n",
    "    pass\n",
    "\n",
    "class Student(Person):\n",
    "    pass\n",
    "\n",
    "p1 = Person()\n",
    "s1 = Student()\n",
    "\n",
    "print p1\n",
    "print s1"
   ]
  },
  {
   "cell_type": "code",
   "execution_count": 33,
   "metadata": {
    "collapsed": false
   },
   "outputs": [
    {
     "name": "stdout",
     "output_type": "stream",
     "text": [
      "work hard\n",
      "work hard\n"
     ]
    }
   ],
   "source": [
    "class Person(object):\n",
    "    def work(self):\n",
    "        print 'work hard'\n",
    "\n",
    "#class Student(object):\n",
    "class Student(Person):\n",
    "    pass\n",
    "\n",
    "p1 = Person()\n",
    "s1 = Student()\n",
    "\n",
    "p1.work()\n",
    "s1.work()"
   ]
  },
  {
   "cell_type": "markdown",
   "metadata": {},
   "source": [
    "* **method override**\n",
    " - 부모 클래스의 method를 재정의(override)\n",
    " - 하위 클래스(자식 클래스) 의 인스턴스로 호출시, 재정의된 메소드가 호출됨"
   ]
  },
  {
   "cell_type": "code",
   "execution_count": 34,
   "metadata": {
    "collapsed": false
   },
   "outputs": [
    {
     "name": "stdout",
     "output_type": "stream",
     "text": [
      "work hard\n",
      "Study hard\n"
     ]
    }
   ],
   "source": [
    "class Person(object):\n",
    "    def work(self):\n",
    "        print 'work hard'\n",
    "\n",
    "class Student(Person):\n",
    "    def work(self):\n",
    "        print 'Study hard'\n",
    "        \n",
    "p1 = Person()\n",
    "s1 = Student()\n",
    "\n",
    "p1.work()\n",
    "s1.work()"
   ]
  },
  {
   "cell_type": "code",
   "execution_count": 36,
   "metadata": {
    "collapsed": false
   },
   "outputs": [
    {
     "name": "stdout",
     "output_type": "stream",
     "text": [
      "work hard\n",
      "Study hard\n",
      "Go to school\n"
     ]
    }
   ],
   "source": [
    "class Person(object):\n",
    "    def work(self):\n",
    "        print 'work hard'\n",
    "\n",
    "class Student(Person):\n",
    "    def work(self):\n",
    "        print 'Study hard'\n",
    "        \n",
    "    def go_to_school(self):\n",
    "        print 'Go to school'\n",
    "        \n",
    "\n",
    "p1 = Person()\n",
    "s1 = Student()\n",
    "\n",
    "p1.work()\n",
    "#p1.go_to_school()\n",
    "\n",
    "s1.work()\n",
    "s1.go_to_school()"
   ]
  },
  {
   "cell_type": "markdown",
   "metadata": {},
   "source": [
    "* super \n",
    " - 하위클래스(자식 클래스)에서 부모클래스의 method를 호출할 때 사용"
   ]
  },
  {
   "cell_type": "code",
   "execution_count": null,
   "metadata": {
    "collapsed": false
   },
   "outputs": [],
   "source": [
    "class Person(object):\n",
    "    def __init__(self, name):\n",
    "        self.name = name\n",
    "        print self.name\n",
    "\n",
    "class Student(Person):\n",
    "    pass\n",
    "\n",
    "p1 = Person('aaron')\n",
    "s1 = Student('aaron')"
   ]
  },
  {
   "cell_type": "code",
   "execution_count": 40,
   "metadata": {
    "collapsed": false
   },
   "outputs": [
    {
     "name": "stdout",
     "output_type": "stream",
     "text": [
      "Dr.bob\n",
      "Dr.aaron\n",
      "True\n",
      "True\n",
      "True\n",
      "False\n"
     ]
    }
   ],
   "source": [
    "class Person(object):\n",
    "    def __init__(self, name):\n",
    "        self.name = 'Dr.' + name\n",
    "        print self.name\n",
    "\n",
    "class Student(Person):\n",
    "    def __init__(self, name, email):\n",
    "        super(Student, self).__init__(name)\n",
    "        #self.name = name\n",
    "        self.email = email\n",
    "        \n",
    "p1 = Person('bob')\n",
    "s1 = Student('aaron', 'macmath22@gmail.com')\n",
    "\n",
    "print isinstance(s1, Person)  \n",
    "print isinstance(s1, Student) \n",
    "\n",
    "print isinstance(p1, Person)  \n",
    "print isinstance(p1, Student)  \n",
    "\n",
    "#print s1.name, s1.email\n",
    "#print p1.name, #p1.email"
   ]
  },
  {
   "cell_type": "markdown",
   "metadata": {},
   "source": [
    "* **self**\n",
    " - 파이썬의 method는 항상 첫번째 인자로 self를 전달\n",
    " - self는 현재 해당 메쏘드가 호출되는 객체 자신을 가리킴\n",
    " - C++/C#, Java의 this에 해당\n",
    " - 역시, 이름이 self일 필요는 없으나, 위치는 항상 맨 처음의 parameter이며 관례적으로 self로 사용"
   ]
  },
  {
   "cell_type": "code",
   "execution_count": 42,
   "metadata": {
    "collapsed": false
   },
   "outputs": [
    {
     "name": "stdout",
     "output_type": "stream",
     "text": [
      "bob\n",
      "bob\n",
      "studying english for 10\n",
      "studying science for 10\n"
     ]
    },
    {
     "ename": "TypeError",
     "evalue": "unbound method study() must be called with Person instance as first argument (got nothing instead)",
     "output_type": "error",
     "traceback": [
      "\u001b[0;31m---------------------------------------------------------------------\u001b[0m",
      "\u001b[0;31mTypeError\u001b[0m                           Traceback (most recent call last)",
      "\u001b[0;32m<ipython-input-42-4da3758ed71c>\u001b[0m in \u001b[0;36m<module>\u001b[0;34m()\u001b[0m\n\u001b[1;32m     19\u001b[0m \u001b[0;34m\u001b[0m\u001b[0m\n\u001b[1;32m     20\u001b[0m \u001b[0;31m#study(10)\u001b[0m\u001b[0;34m\u001b[0m\u001b[0;34m\u001b[0m\u001b[0m\n\u001b[0;32m---> 21\u001b[0;31m \u001b[0mPerson\u001b[0m\u001b[0;34m.\u001b[0m\u001b[0mstudy\u001b[0m\u001b[0;34m(\u001b[0m\u001b[0;34m)\u001b[0m\u001b[0;34m\u001b[0m\u001b[0m\n\u001b[0m",
      "\u001b[0;31mTypeError\u001b[0m: unbound method study() must be called with Person instance as first argument (got nothing instead)"
     ]
    }
   ],
   "source": [
    "class Person(object):\n",
    "    def __init__(self, name):\n",
    "        self.name = name\n",
    "        print self.name\n",
    "        \n",
    "    def study(self, hour):\n",
    "        print self.name\n",
    "        self.study_english(hour)\n",
    "        self.study_science(hour)\n",
    "    \n",
    "    def study_english(self, hour):\n",
    "        print 'studying english for {}'.format(hour)\n",
    "    \n",
    "    def study_science(self, hour):\n",
    "        print 'studying science for {}'.format(hour)\n",
    "        \n",
    "p1 = Person('bob')\n",
    "p1.study(10)\n",
    "\n",
    "#study(10)\n",
    "#Person.study(10)\n"
   ]
  },
  {
   "cell_type": "code",
   "execution_count": 9,
   "metadata": {
    "collapsed": false
   },
   "outputs": [
    {
     "name": "stdout",
     "output_type": "stream",
     "text": [
      "aaron\n",
      "aaron\n",
      "Ted\n",
      "Ted\n"
     ]
    }
   ],
   "source": [
    "p1 = Person('aaron')\n",
    "print p1.name\n",
    "p1.test = 100\n",
    "\n",
    "p2 = Person('Ted')\n",
    "print p2.name"
   ]
  },
  {
   "cell_type": "code",
   "execution_count": null,
   "metadata": {
    "collapsed": true
   },
   "outputs": [],
   "source": [
    "p1 = Person('aaa')\n",
    "p2 = Person('bbb')"
   ]
  },
  {
   "cell_type": "markdown",
   "metadata": {},
   "source": [
    "* **method type**\n",
    " - instance method - 객체로 호출\n",
    "   - 메쏘드는 객체 레벨로 호출 되기 때문에, 해당 메쏘드를 호출한 객체에만 영향을 미침\n",
    " - class method    - class로 호출\n",
    "       - 클래스 메쏘드의 경우, 클래스 레벨로 호출되기 때문에, 클래스 멤버 변수만 변경 가능\n"
   ]
  },
  {
   "cell_type": "code",
   "execution_count": 8,
   "metadata": {
    "collapsed": false
   },
   "outputs": [
    {
     "name": "stdout",
     "output_type": "stream",
     "text": [
      "1\n",
      "2\n",
      "44\n",
      "3\n"
     ]
    }
   ],
   "source": [
    "class A(object):\n",
    "    count = 0 # static member (class variable)\n",
    "    \n",
    "    def __init__(self, cnt):\n",
    "        A.count += 1\n",
    "        self.cnt = cnt # member variable, attribute\n",
    "        \n",
    "    def print_cnt(self): # memeber function, method\n",
    "        print self.cnt\n",
    "        \n",
    "    @classmethod # class method, static function\n",
    "    def print_count(cls):\n",
    "        print cls.count\n",
    "        \n",
    "a1 = A(1)\n",
    "a2 = A(2)\n",
    "a3 = A(44)\n",
    "\n",
    "a1.print_cnt()\n",
    "a2.print_cnt()\n",
    "a3.print_cnt()\n",
    "\n",
    "A.print_count()"
   ]
  },
  {
   "cell_type": "markdown",
   "metadata": {},
   "source": [
    "* **Duck typing**\n",
    " - 다형성에 대한 느슨한 구현.\n",
    " - 클래스에 관계없이 같은 동작을 다른객체에 적용\n",
    " - 타입에 관계없이 같은 method를 구현한 것으로 다형성에 활용"
   ]
  },
  {
   "cell_type": "code",
   "execution_count": null,
   "metadata": {
    "collapsed": false
   },
   "outputs": [],
   "source": [
    "class BaseballPlayer(object):\n",
    "    def __init__(self, name):\n",
    "        self.name = name\n",
    "        \n",
    "    def play(self):\n",
    "        print self.name, 'play baseball'\n",
    "        \n",
    "class BasketballPlayer(object):\n",
    "    def __init__(self, name):\n",
    "        self.name = name\n",
    "        \n",
    "    def play(self):\n",
    "        print self.name, 'play basketball'\n",
    "        \n",
    "\n",
    "class Video(object):\n",
    "    def play(self):\n",
    "        print 'video played...'\n",
    "        \n",
    "        \n",
    "b1 = BaseballPlayer('aaron')\n",
    "b2 = BaseballPlayer('bob')\n",
    "b3 = BaseballPlayer('mike')\n",
    "\n",
    "b11 = BasketballPlayer('sam')\n",
    "b12 = BasketballPlayer('knight')\n",
    "b13 = BasketballPlayer('tim')\n",
    "\n",
    "b1.play()\n",
    "b2.play()\n",
    "\n",
    "players = [b1, b11, b12, b2, b3, b13]\n",
    "\n",
    "for player in players:\n",
    "    player.play()\n",
    "        "
   ]
  },
  {
   "cell_type": "code",
   "execution_count": 44,
   "metadata": {
    "collapsed": false
   },
   "outputs": [
    {
     "name": "stdout",
     "output_type": "stream",
     "text": [
      "<test_class.People object at 0x10650c910>\n"
     ]
    }
   ],
   "source": [
    "from test_class import People as P\n",
    "\n",
    "p1 = P('aaron', 100)\n",
    "print p1"
   ]
  },
  {
   "cell_type": "code",
   "execution_count": 44,
   "metadata": {
    "collapsed": false
   },
   "outputs": [
    {
     "name": "stdout",
     "output_type": "stream",
     "text": [
      "True\n",
      "name : bobkateken salary : 5500\n",
      "name : bob salary : 2000\n",
      "name : bob salary : 2000\n",
      "[name : bob salary : 1000, name : fox salary : 500, name : kate salary : 2000, name : ken salary : 2500]\n"
     ]
    },
    {
     "data": {
      "text/plain": [
       "[name : fox salary : 500,\n",
       " name : bob salary : 1000,\n",
       " name : kate salary : 2000,\n",
       " name : ken salary : 2500]"
      ]
     },
     "execution_count": 44,
     "metadata": {},
     "output_type": "execute_result"
    }
   ],
   "source": [
    "class Employee(object):\n",
    "    def __init__(self, name, salary):\n",
    "        self.name = name\n",
    "        self.salary = salary\n",
    "        \n",
    "    def __str__(self):\n",
    "        return 'name : {} salary : {}'.format(self.name, self.salary)\n",
    "    \n",
    "    def __repr__(self):\n",
    "        return 'name : {} salary : {}'.format(self.name, self.salary)\n",
    "    \n",
    "    def __add__(self, other):\n",
    "        if type(other) == int:\n",
    "            new_emp = Employee(self.name, self.salary + other) \n",
    "        else:\n",
    "            new_emp = Employee(self.name+other.name, self.salary + other.salary)\n",
    "        return new_emp\n",
    "    \n",
    "    def __radd__(self, other):\n",
    "        return Employee(self.name, self.salary + other) \n",
    "    \n",
    "    def __len__(self):\n",
    "        return len(self.name)\n",
    "    \n",
    "    def __gt__(self, other):\n",
    "        return self.salary > other.salary\n",
    "    \n",
    "    def __gte__(self, other):\n",
    "        return self.salary >= other.salary\n",
    "    \n",
    "    def __lt__(self, other):\n",
    "        return self.salary < other.salary\n",
    "    \n",
    "    def __lte__(self, other):\n",
    "        return self.salary <= other.salary\n",
    "    \n",
    "    def __eq__(self, other):\n",
    "        return len(self.name) == len(other.name)\n",
    "        \n",
    "e1 = Employee('bob', 1000)\n",
    "e2 = Employee('kate', 2000)\n",
    "e3 = Employee('ken', 2500)\n",
    "e4 = Employee('fox', 500)\n",
    "\n",
    "print e1 == e3\n",
    "        \n",
    "print e1 + e2 + e3\n",
    "print e1 + 1000\n",
    "print 1000 + e1\n",
    "\n",
    "len(e2)\n",
    "\n",
    "lst = [e1, e4, e2, e3]\n",
    "print lst\n",
    "\n",
    "sorted(lst, key=lambda x : x.salary)"
   ]
  },
  {
   "cell_type": "markdown",
   "metadata": {},
   "source": [
    "* **special method**\n",
    " - __로 시작 __로 끝나는 특수 함수\n",
    " - 해당 메쏘드들을 구현하면, 커스텀 객체에 여러가지 파이썬 내장 함수나 연산자를 적용 가능\n",
    " - https://docs.python.org/2/reference/datamodel.html"
   ]
  },
  {
   "cell_type": "code",
   "execution_count": 46,
   "metadata": {
    "collapsed": false
   },
   "outputs": [
    {
     "name": "stdout",
     "output_type": "stream",
     "text": [
      "True\n",
      "True\n",
      "True\n",
      "5\n",
      "5\n",
      "5\n"
     ]
    },
    {
     "ename": "TypeError",
     "evalue": "__init__() takes exactly 3 arguments (2 given)",
     "output_type": "error",
     "traceback": [
      "\u001b[0;31m---------------------------------------------------------------------------\u001b[0m",
      "\u001b[0;31mTypeError\u001b[0m                                 Traceback (most recent call last)",
      "\u001b[0;32m<ipython-input-46-41629b2f8055>\u001b[0m in \u001b[0;36m<module>\u001b[0;34m()\u001b[0m\n\u001b[1;32m     43\u001b[0m \u001b[0;32mprint\u001b[0m \u001b[0mw1\u001b[0m\u001b[0;34m.\u001b[0m\u001b[0mlength\u001b[0m\u001b[0;34m(\u001b[0m\u001b[0;34m)\u001b[0m\u001b[0;34m\u001b[0m\u001b[0m\n\u001b[1;32m     44\u001b[0m \u001b[0;34m\u001b[0m\u001b[0m\n\u001b[0;32m---> 45\u001b[0;31m \u001b[0mw4\u001b[0m \u001b[0;34m=\u001b[0m \u001b[0mw1\u001b[0m\u001b[0;34m.\u001b[0m\u001b[0mappend\u001b[0m\u001b[0;34m(\u001b[0m\u001b[0mw2\u001b[0m\u001b[0;34m)\u001b[0m\u001b[0;34m\u001b[0m\u001b[0m\n\u001b[0m\u001b[1;32m     46\u001b[0m \u001b[0mw5\u001b[0m \u001b[0;34m=\u001b[0m \u001b[0mw1\u001b[0m \u001b[0;34m+\u001b[0m \u001b[0mw2\u001b[0m\u001b[0;34m\u001b[0m\u001b[0m\n\u001b[1;32m     47\u001b[0m \u001b[0;34m\u001b[0m\u001b[0m\n",
      "\u001b[0;32m<ipython-input-46-41629b2f8055>\u001b[0m in \u001b[0;36mappend\u001b[0;34m(self, word2)\u001b[0m\n\u001b[1;32m     17\u001b[0m \u001b[0;34m\u001b[0m\u001b[0m\n\u001b[1;32m     18\u001b[0m     \u001b[0;32mdef\u001b[0m \u001b[0mappend\u001b[0m\u001b[0;34m(\u001b[0m\u001b[0mself\u001b[0m\u001b[0;34m,\u001b[0m \u001b[0mword2\u001b[0m\u001b[0;34m)\u001b[0m\u001b[0;34m:\u001b[0m\u001b[0;34m\u001b[0m\u001b[0m\n\u001b[0;32m---> 19\u001b[0;31m         \u001b[0;32mreturn\u001b[0m \u001b[0mWord\u001b[0m\u001b[0;34m(\u001b[0m\u001b[0mself\u001b[0m\u001b[0;34m.\u001b[0m\u001b[0mtext\u001b[0m \u001b[0;34m+\u001b[0m \u001b[0;34m' '\u001b[0m \u001b[0;34m+\u001b[0m \u001b[0mword2\u001b[0m\u001b[0;34m.\u001b[0m\u001b[0mtext\u001b[0m\u001b[0;34m)\u001b[0m\u001b[0;34m\u001b[0m\u001b[0m\n\u001b[0m\u001b[1;32m     20\u001b[0m \u001b[0;34m\u001b[0m\u001b[0m\n\u001b[1;32m     21\u001b[0m     \u001b[0;32mdef\u001b[0m \u001b[0m__add__\u001b[0m\u001b[0;34m(\u001b[0m\u001b[0mself\u001b[0m\u001b[0;34m,\u001b[0m \u001b[0mword2\u001b[0m\u001b[0;34m)\u001b[0m\u001b[0;34m:\u001b[0m\u001b[0;34m\u001b[0m\u001b[0m\n",
      "\u001b[0;31mTypeError\u001b[0m: __init__() takes exactly 3 arguments (2 given)"
     ]
    }
   ],
   "source": [
    "class Word(object):\n",
    "    def __init__(self, text, email):\n",
    "        self.text = text\n",
    "        self.email = email\n",
    "        \n",
    "    def compare(self, word2):\n",
    "        return self.text.lower() == word2.text.lower()\n",
    "    \n",
    "    def __eq__(self, word2):\n",
    "        return self.text.lower() == word2.text.lower() and \\\n",
    "                self.email == word2.email\n",
    "    \n",
    "    def __len__(self):\n",
    "        return len(self.text)\n",
    "    \n",
    "    def length(self):\n",
    "        return len(self.text)\n",
    "    \n",
    "    def append(self, word2):\n",
    "        return Word(self.text + ' ' + word2.text)\n",
    "    \n",
    "    def __add__(self, word2):\n",
    "        return Word(self.text + ' ' + word2.text)\n",
    "    \n",
    "    def __str__(self):\n",
    "        return self.text\n",
    "    \n",
    "    def __repr__(self):\n",
    "        return self.text\n",
    "         \n",
    "    \n",
    "w1 = Word('aaron', 'test@gmail.com')\n",
    "w2 = Word('Aaron', 'test@gmail.com')\n",
    "w3 = Word('Bob', '')\n",
    "\n",
    "print w1.compare(w2)\n",
    "print w1 == w2\n",
    "print w1.__eq__(w2)\n",
    "\n",
    "\n",
    "print len(w1)\n",
    "print len(w2)\n",
    "\n",
    "print w1.length()\n",
    "\n",
    "w4 = w1.append(w2)\n",
    "w5 = w1 + w2\n",
    "\n",
    "a = [w1, w2, w3, w4]\n",
    "print a"
   ]
  },
  {
   "cell_type": "code",
   "execution_count": null,
   "metadata": {
    "collapsed": false
   },
   "outputs": [],
   "source": [
    "class Word(object):\n",
    "    def __init__(self, text, num):\n",
    "        self.text = text\n",
    "        self.number = num\n",
    "        \n",
    "    def __eq__(self, word2):\n",
    "        return self.text.lower() == word2.text.lower()\n",
    "    \n",
    "    def __add__(self, word2):\n",
    "        return Word(self.text + word2.text, self.number)\n",
    "    \n",
    "    def __repr__(self):\n",
    "        return self.text\n",
    "    \n",
    "    def __str__(self):\n",
    "        return self.text\n",
    "    \n",
    "    def __len__(self):\n",
    "        return len(self.text) * 2\n",
    "\n",
    "    \n",
    "w1 = Word('aaron', 10)\n",
    "w2 = Word('Aaron', 20)\n",
    "w4 = Word('Test', 30)\n",
    "\n",
    "w3 = w1 + w2 + w4\n",
    "#w3 = w1.__add__(w2)\n",
    "\n",
    "print w3\n",
    "print len(w3)"
   ]
  },
  {
   "cell_type": "code",
   "execution_count": null,
   "metadata": {
    "collapsed": true
   },
   "outputs": [],
   "source": [
    "w1 = Word('aaron')\n",
    "w2 = Word('Akronhaha')\n",
    "w3 = Word('Bob')\n",
    "w4 = Word('hb')\n",
    "\n",
    "words = [w1, w2, w3, w4]\n",
    "\n",
    "len(w1)\n",
    "\n",
    "__len__(self)\n",
    "\n",
    "__getitem__(self, key)\n",
    "\n",
    "w1[0]"
   ]
  },
  {
   "cell_type": "markdown",
   "metadata": {},
   "source": [
    "* 연습문제 \n",
    "  - Word 클래스를 생성하여 Word를 원소로 갖는 리스트를 생성하세요.\n",
    "   1. 문자의 길이를 기준으로 정렬해보세요. ( __len__(self)를 정의하면 len(w1)을 사용 할 수 있습니다. )\n",
    "   2. 두번째 문자를 기준으로 정렬해보세요. ( __getitem__(self, key)를 정의하면 w1[]을 사용 할 수 있습니다. )"
   ]
  },
  {
   "cell_type": "code",
   "execution_count": 57,
   "metadata": {
    "collapsed": false
   },
   "outputs": [
    {
     "name": "stdout",
     "output_type": "stream",
     "text": [
      "p\n",
      "p\n"
     ]
    }
   ],
   "source": [
    "class Word(object):\n",
    "    def __init__(self, text):\n",
    "        self.text = text\n",
    "        \n",
    "    def __str__(self):\n",
    "        return self.text\n",
    "    \n",
    "    def __repr__(self):\n",
    "        return self.text\n",
    "    \n",
    "    def __len__(self):\n",
    "        return len(self.text)\n",
    "    \n",
    "    def __getitem__(self, index):\n",
    "        return self.text[index]\n",
    "    \n",
    "w1 = Word('apple')\n",
    "w2 = Word('banana')\n",
    "w3 = Word('imagine')\n",
    "\n",
    "lst = [w3, w1, w2]\n",
    "lst2 = sorted(lst, key=lambda x : len(x))\n",
    "print lst2\n",
    "\n",
    "filter2()"
   ]
  },
  {
   "cell_type": "code",
   "execution_count": null,
   "metadata": {
    "collapsed": true
   },
   "outputs": [],
   "source": []
  },
  {
   "cell_type": "markdown",
   "metadata": {},
   "source": [
    "* **composition(포함)**\n",
    " - 다른 클래스의 기능을 그대로 이용하고 싶으나, 상속을 피하고 싶을 때 사용\n",
    " - 컴포지션, 또는 어그리게이션(aggregation)이라고 한다.\n",
    " - 주로 의미적으로 is-a 관계가 맞지 않을 때 사용한다"
   ]
  },
  {
   "cell_type": "code",
   "execution_count": null,
   "metadata": {
    "collapsed": false
   },
   "outputs": [],
   "source": [
    "class Bill(object):\n",
    "    def __init__(self, desc):\n",
    "        self.desc = desc\n",
    "        \n",
    "    def drink(self):\n",
    "        pass\n",
    "        \n",
    "class Tail(object):\n",
    "    def __init__(self, length):\n",
    "        self.length = length\n",
    "        \n",
    "class Duck(object):\n",
    "    \n",
    "    def __init__(self):\n",
    "        self.bill = bill\n",
    "        self.tail = tail\n",
    "        self.name = name\n",
    "        \n",
    "    def eat(self):\n",
    "        self.bill.eat()\n",
    "        \n",
    "    def about(self):\n",
    "        print self.name, 'has a bill and it is', self.bill.desc, 'and a tail length of', self.tail.length\n",
    "        \n",
    "tail = Tail(8)\n",
    "bill = Bill('very good')\n",
    "\n",
    "duck = Duck(bill, tail, 'aaron')\n",
    "duck.eat()"
   ]
  },
  {
   "cell_type": "code",
   "execution_count": null,
   "metadata": {
    "collapsed": true
   },
   "outputs": [],
   "source": []
  },
  {
   "cell_type": "markdown",
   "metadata": {},
   "source": [
    "* 파이썬의 경우, 복소수를 지원하지만, 직접 만들어 봅시다"
   ]
  },
  {
   "cell_type": "code",
   "execution_count": 58,
   "metadata": {
    "collapsed": false
   },
   "outputs": [
    {
     "data": {
      "text/plain": [
       "(3+9j)"
      ]
     },
     "execution_count": 58,
     "metadata": {},
     "output_type": "execute_result"
    }
   ],
   "source": [
    "1 + 4j + 2 + 5j"
   ]
  },
  {
   "cell_type": "markdown",
   "metadata": {},
   "source": [
    "* 연습문제)\n",
    " - 복소수 클래스를 정의 해봅시다.\n",
    " - 덧셈, 뺄셈, 곱셈 연산자 지원\n",
    " - 길이 (복소수의 크기) 지원 \n",
    " - 복소수 출력 '1 + 4j'와 같이 표현\n",
    " - 비교 연산 ==, != 지원\n",
    " - >=, <= , <, > 연산 지원\n",
    " - 절대값 지원\n"
   ]
  },
  {
   "cell_type": "code",
   "execution_count": 59,
   "metadata": {
    "collapsed": false
   },
   "outputs": [
    {
     "name": "stdout",
     "output_type": "stream",
     "text": [
      "1 + 4j\n",
      "2 + 2j\n"
     ]
    }
   ],
   "source": [
    "class CN(object):\n",
    "    def __init__(self, real, imaginary):\n",
    "        self.real = real\n",
    "        self.imaginary = imaginary\n",
    "        \n",
    "    def __str__(self):\n",
    "        return '{} + {}j'.format(self.real, self.imaginary)\n",
    "    \n",
    "    def __repr__(self):\n",
    "        return '{} + {}j'.format(self.real, self.imaginary)\n",
    "    \n",
    "a = CN(1, 4)\n",
    "b = CN(2, 2)\n",
    "\n",
    "print a\n",
    "print b"
   ]
  },
  {
   "cell_type": "markdown",
   "metadata": {},
   "source": [
    "* class 설계를\n",
    " - 기능명세 작성\n",
    " - 기능을 담당할 클래스 추출\n",
    " - 멤버함수 정의\n",
    " \n",
    " \n",
    "* 연습문제\n",
    "* news를 crawling하여 해당 뉴스가 스포츠인지, 시사인지 경제인지 분류하는 소프트웨어 설계\n",
    " - 어떤 역할이 필요할까요?\n",
    " - 해당 역할을 클래스로 나누어 보세요\n",
    " - 클래스가 그려지면 각 클래스의 멤버함수는 어떻게 구성할 수 있을까요?"
   ]
  },
  {
   "cell_type": "code",
   "execution_count": null,
   "metadata": {
    "collapsed": true
   },
   "outputs": [],
   "source": []
  },
  {
   "cell_type": "markdown",
   "metadata": {},
   "source": [
    "### Project 3\n",
    " - 1인용 체스게임 만들기\n",
    " - 체스게임을 만들기 위해 가장 먼저 생각해야할 것은?\n",
    " - 체스판과 체스의 유닛을 어떻게 표현해야 할 것인지?\n",
    " "
   ]
  },
  {
   "cell_type": "code",
   "execution_count": null,
   "metadata": {
    "collapsed": true
   },
   "outputs": [],
   "source": []
  }
 ],
 "metadata": {
  "kernelspec": {
   "display_name": "Python 2",
   "language": "python",
   "name": "python2"
  },
  "language_info": {
   "codemirror_mode": {
    "name": "ipython",
    "version": 2
   },
   "file_extension": ".py",
   "mimetype": "text/x-python",
   "name": "python",
   "nbconvert_exporter": "python",
   "pygments_lexer": "ipython2",
   "version": "2.7.13"
  }
 },
 "nbformat": 4,
 "nbformat_minor": 1
}
