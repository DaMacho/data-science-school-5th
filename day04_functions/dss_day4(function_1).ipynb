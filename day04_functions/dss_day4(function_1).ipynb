{
 "cells": [
  {
   "cell_type": "markdown",
   "metadata": {},
   "source": [
    "# Function 1\n",
    "\n",
    "## 학습목표\n",
    " 1. 함수의 이해\n",
    " 2. 함수 구현 및 사용 숙지\n",
    " 3. 재귀함수 구현 및 사용 숙지"
   ]
  },
  {
   "cell_type": "markdown",
   "metadata": {},
   "source": [
    "## Function basic "
   ]
  },
  {
   "cell_type": "code",
   "execution_count": null,
   "metadata": {
    "collapsed": true
   },
   "outputs": [],
   "source": []
  },
  {
   "cell_type": "markdown",
   "metadata": {},
   "source": [
    "* 지금까지 무심코 코드에서 사용된 많은 함수들이 존재 합니다.\n",
    "* 예를들면, sum, len, range 같은 함수 등이 있죠.\n",
    "* 함수란 우리가 알고있는 개념처럼 주어진 입력(input)에 대해서 의도된 출력(output)를 전달하는 역할을 합니다.\n",
    "\n",
    "* 그렇다면, 하나씩 살펴보겠습니다.\n",
    "  > range 함수는 정수를 입력으로 전달하면 [0, 정수) 로 이루어진 리스트를 생성하는 역할을 합니다.\n",
    "  \n",
    "  > sum 함수는 리스트, 튜플등을 입력으로 전달하면 전체 아이템의 합을 출력으로 전달하는 역할을 합니다.\n",
    "  \n",
    "  > len 함수는 리스트, 튜플등을 입력으로 전달하면 아이템의 개수를 출력으로 전달하는 역할을 합니다.\n",
    "  \n",
    "* 그리고, 위의 함수들은 모두 python 내부에 이미 정의(구현)이 되어 있습니다.\n",
    "* 위와 같은 함수를 내장함수(built-in function)이라고 합니다."
   ]
  },
  {
   "cell_type": "code",
   "execution_count": null,
   "metadata": {
    "collapsed": false
   },
   "outputs": [],
   "source": [
    "# 내장 함수의 예\n",
    "\n",
    "nums = range(11)\n",
    "print sum(nums)\n",
    "print len(nums)\n",
    "\n",
    "print add(2, 3) # add는 정의 되어 있지 않아 오류 발생"
   ]
  },
  {
   "cell_type": "markdown",
   "metadata": {},
   "source": [
    "* **함수의 정의**\n",
    "  + 정의 시 최초에 def 키워드 사용\n",
    "  + argument 정의 (함수에 입력으로 전달하는 값을 의미, argument 또는 parameter라고 함) \n",
    "  + : (콜론) -> 함수 역시 코드 블록이기 때문에 콜론(:) 필요\n",
    "  + body (함수의 구현 부분, 함수 역시 코드 블록이기 때문에 들여쓰기 된 부분까지 함수의 코드블록으로 인지 함)\n",
    "    - 함수를 호출한 코드 (caller)로 함수가 해당 기능을 수행하고 완료된 값(output)을 전달하기 위해 return 키워드 사용\n",
    "    - 즉, return 이후에 오는 값을 caller로 전달\n",
    "  + 함수의 네이밍 역시 중요\n",
    "    - 즉, 어떤 기능을 하는 함수인지 이름으로 최대한 나타날 수 있게 해야함\n",
    "    - e.g) get_a (x) get_student_name (o)"
   ]
  },
  {
   "cell_type": "code",
   "execution_count": 1,
   "metadata": {
    "collapsed": false
   },
   "outputs": [],
   "source": [
    "# add 함수의 정의\n",
    "def add(num1, num2):\n",
    "    # 전달받은 두개의 숫자를 합하여 return \n",
    "    return num1 + num2"
   ]
  },
  {
   "cell_type": "code",
   "execution_count": null,
   "metadata": {
    "collapsed": true
   },
   "outputs": [],
   "source": [
    "# add2 함수의 정의\n",
    "def add2(num1, num2):\n",
    "    print 'function is called...'\n",
    "    print num1, num2\n",
    "    \n",
    "    # 전달받은 두개의 숫자를 합하여 return \n",
    "    return num1 + num2"
   ]
  },
  {
   "cell_type": "markdown",
   "metadata": {},
   "source": [
    "* **exercise** 함수를 정의해 봅시다.\n",
    "1. 전달받은 3개의 숫자를 한줄에 출력 한뒤, 세 숫자의 곱을 반환하는 함수를 만드세요\n",
    "2. 문자열 2개를 전달받아 앞의 문자열이 뒤의 문자열에 포함되는지 판단(True, False)하는 함수를 만드세요\n",
    "3. 정수 한개를 입력 받아, 그것이 소수인지 아닌지 판단(True, False)하는 함수를 만드세요"
   ]
  },
  {
   "cell_type": "code",
   "execution_count": null,
   "metadata": {
    "collapsed": true
   },
   "outputs": [],
   "source": [
    "def temp1(x, y, z):\n",
    "    print x, y, z\n",
    "    return x * y * z"
   ]
  },
  {
   "cell_type": "code",
   "execution_count": null,
   "metadata": {
    "collapsed": true
   },
   "outputs": [],
   "source": [
    "def temp2(str1, str2):\n",
    "    if str1 in str2:\n",
    "        return True\n",
    "    else:\n",
    "        return False"
   ]
  },
  {
   "cell_type": "code",
   "execution_count": null,
   "metadata": {
    "collapsed": true
   },
   "outputs": [],
   "source": [
    "def temp2(str1, str2):\n",
    "    return str1 in str2"
   ]
  },
  {
   "cell_type": "code",
   "execution_count": null,
   "metadata": {
    "collapsed": true
   },
   "outputs": [],
   "source": [
    "def is_prime(num):\n",
    "    # \n",
    "    #\n",
    "    return True, False"
   ]
  },
  {
   "cell_type": "markdown",
   "metadata": {},
   "source": [
    "* **함수의 사용(호출)**\n",
    " + 함수명(파라미터1, 파라미터2, ... 파라미터n)\n",
    " + 위와 같이 정의 된 함수의 이름과 전달되는 parameter(인자)를 괄호안에 전달하여 함수를 호출\n",
    " + 함수가 호출되면 실행의 흐름이 호출자(caller)에서 함수(callee)로 변경 됨\n",
    " \n",
    " + 함수의 입력(인풋) 파라미터(parameter), 아규먼트(argument)라고도 함"
   ]
  },
  {
   "cell_type": "code",
   "execution_count": 6,
   "metadata": {
    "collapsed": false
   },
   "outputs": [
    {
     "name": "stdout",
     "output_type": "stream",
     "text": [
      "50\n"
     ]
    }
   ],
   "source": [
    "print add(30, 20)"
   ]
  },
  {
   "cell_type": "markdown",
   "metadata": {},
   "source": [
    "* **함수 네이밍(naming)**\n",
    "  * 함수 이름으로부터 기능이 명시 \n",
    "  * 의미와 반대되거나 맞지 않는 이름은 사용금지"
   ]
  },
  {
   "cell_type": "code",
   "execution_count": 8,
   "metadata": {
    "collapsed": false
   },
   "outputs": [
    {
     "ename": "TypeError",
     "evalue": "unsupported operand type(s) for -: 'int' and 'str'",
     "output_type": "error",
     "traceback": [
      "\u001b[0;31m---------------------------------------------------------------------------\u001b[0m",
      "\u001b[0;31mTypeError\u001b[0m                                 Traceback (most recent call last)",
      "\u001b[0;32m<ipython-input-8-3ad7711a3692>\u001b[0m in \u001b[0;36m<module>\u001b[0;34m()\u001b[0m\n\u001b[1;32m      2\u001b[0m     \u001b[0;32mreturn\u001b[0m \u001b[0mnum1\u001b[0m \u001b[0;34m-\u001b[0m \u001b[0mnum2\u001b[0m\u001b[0;34m\u001b[0m\u001b[0m\n\u001b[1;32m      3\u001b[0m \u001b[0;34m\u001b[0m\u001b[0m\n\u001b[0;32m----> 4\u001b[0;31m \u001b[0;32mprint\u001b[0m \u001b[0msubstract\u001b[0m\u001b[0;34m(\u001b[0m\u001b[0;36m5\u001b[0m\u001b[0;34m,\u001b[0m \u001b[0;34m'dfdfdf'\u001b[0m\u001b[0;34m)\u001b[0m\u001b[0;34m\u001b[0m\u001b[0m\n\u001b[0m",
      "\u001b[0;32m<ipython-input-8-3ad7711a3692>\u001b[0m in \u001b[0;36msubstract\u001b[0;34m(num1, num2)\u001b[0m\n\u001b[1;32m      1\u001b[0m \u001b[0;32mdef\u001b[0m \u001b[0msubstract\u001b[0m\u001b[0;34m(\u001b[0m\u001b[0mnum1\u001b[0m\u001b[0;34m,\u001b[0m \u001b[0mnum2\u001b[0m\u001b[0;34m)\u001b[0m\u001b[0;34m:\u001b[0m\u001b[0;34m\u001b[0m\u001b[0m\n\u001b[0;32m----> 2\u001b[0;31m     \u001b[0;32mreturn\u001b[0m \u001b[0mnum1\u001b[0m \u001b[0;34m-\u001b[0m \u001b[0mnum2\u001b[0m\u001b[0;34m\u001b[0m\u001b[0m\n\u001b[0m\u001b[1;32m      3\u001b[0m \u001b[0;34m\u001b[0m\u001b[0m\n\u001b[1;32m      4\u001b[0m \u001b[0;32mprint\u001b[0m \u001b[0msubstract\u001b[0m\u001b[0;34m(\u001b[0m\u001b[0;36m5\u001b[0m\u001b[0;34m,\u001b[0m \u001b[0;34m'dfdfdf'\u001b[0m\u001b[0;34m)\u001b[0m\u001b[0;34m\u001b[0m\u001b[0m\n",
      "\u001b[0;31mTypeError\u001b[0m: unsupported operand type(s) for -: 'int' and 'str'"
     ]
    }
   ],
   "source": [
    "def substract(num1, num2):\n",
    "    return num1 - num2\n",
    "\n",
    "print substract(5, 'dfdfdf')"
   ]
  },
  {
   "cell_type": "markdown",
   "metadata": {},
   "source": [
    "* **parameter(argument) (인자)**\n",
    " + 함수에 전달되는 입력(input)\n",
    " + 입력이 필요하지 않을 수도, 1개의 입력만 있을 수도, 여러개의 입력이 존재할 수 도 있음\n",
    " + 파라미터로 int, string, float, boolm, list, dict 등등 어떤 파이썬 객체도 전달 가능\n",
    " + 심지어, 함수도 함수의 파라미터로 전달 가능\n",
    " \n",
    " + python의 경우, 타입 명시가 없기 때문에, 함수 생성 시, 의도된 파라미터의 타입에 맞게 입력을 전달하는 것이 중요\n",
    " + 또한 파라미터를 전달 할 때, 정의된 순서에 따라 값을 전달하는 것이 중요\n"
   ]
  },
  {
   "cell_type": "code",
   "execution_count": 9,
   "metadata": {
    "collapsed": false
   },
   "outputs": [
    {
     "name": "stdout",
     "output_type": "stream",
     "text": [
      "4\n",
      "4\n"
     ]
    }
   ],
   "source": [
    "# string이라는 파라미터 1개를 입력으로 받도록 의도\n",
    "# 또한, 길이를 구하기 위해 의도 하였으므로 리스트, 문자열 등의 타입이 전달 되는 것을 의도\n",
    "def len2(string):\n",
    "    return len(string)\n",
    "\n",
    "print len2('test')\n",
    "print len2([1, 2, 3, 4])"
   ]
  },
  {
   "cell_type": "markdown",
   "metadata": {},
   "source": [
    "* **exercise**)\n",
    "아래 두 코드는 실행시 오류가 발생합니다. 각가 이유를 말하시오"
   ]
  },
  {
   "cell_type": "code",
   "execution_count": null,
   "metadata": {
    "collapsed": true
   },
   "outputs": [],
   "source": [
    "# 함수를 잘못 사용한 예\n",
    "print len2('test2', 23)\n",
    "print len2(23)"
   ]
  },
  {
   "cell_type": "code",
   "execution_count": null,
   "metadata": {
    "collapsed": true
   },
   "outputs": [],
   "source": []
  },
  {
   "cell_type": "code",
   "execution_count": null,
   "metadata": {
    "collapsed": false
   },
   "outputs": [],
   "source": [
    "# nums라는 파라미터 1개를 입력 받도록 의도\n",
    "def sum2(nums):\n",
    "    return sum(nums)\n",
    "\n",
    "print sum2([1, 2, 3, 4])"
   ]
  },
  {
   "cell_type": "markdown",
   "metadata": {},
   "source": [
    "* **Default parameter (기본 인자) ** \n",
    " + 함수의 파라미터에 기본값 지정 가능\n",
    " + 파라미터를 명시하지 않을 경우, 지정된 기본값으로 대체"
   ]
  },
  {
   "cell_type": "code",
   "execution_count": 10,
   "metadata": {
    "collapsed": false
   },
   "outputs": [
    {
     "name": "stdout",
     "output_type": "stream",
     "text": [
      "hi world\n",
      "hello world\n"
     ]
    },
    {
     "data": {
      "text/plain": [
       "8"
      ]
     },
     "execution_count": 10,
     "metadata": {},
     "output_type": "execute_result"
    }
   ],
   "source": [
    "def print_hello(nums='hello world'):\n",
    "    print nums\n",
    "    return 1 + 3 + 4\n",
    "    \n",
    "print_hello('hi world')\n",
    "\n",
    "print_hello()"
   ]
  },
  {
   "cell_type": "markdown",
   "metadata": {},
   "source": [
    "* **exercise** \n",
    "  * 다음 조건을 만족하는 add3함수를 작성하시오.\n",
    "    * 파라미터 : 정수 파라미터 2개 (두번째 정수가, 입력되지 않은 경우 기본값으로 10 설정)\n",
    "    * 반환 값 : 입력된 두 정수의 합\n",
    "  \n",
    "  "
   ]
  },
  {
   "cell_type": "code",
   "execution_count": null,
   "metadata": {
    "collapsed": true
   },
   "outputs": [],
   "source": [
    "def add3(x, y=10):\n",
    "    return x + y\n",
    "\n",
    "print add3(100, 200)\n",
    "print add3(200)"
   ]
  },
  {
   "cell_type": "code",
   "execution_count": null,
   "metadata": {
    "collapsed": true
   },
   "outputs": [],
   "source": [
    "def magicsort(nums, sort_method='selection'):\n",
    "    if sort_method == 'bubble':\n",
    "        pass\n",
    "    elif sort_method == 'selection':\n",
    "        pass \n",
    "    elif sort_method == 'quick':\n",
    "        pass\n",
    "    \n",
    "magicsort(nums, 'bubble')\n",
    "magicsort(nums, 'quick')\n",
    "magicsort(nums, 'selection')\n",
    "\n",
    "magicsort(nums)"
   ]
  },
  {
   "cell_type": "markdown",
   "metadata": {},
   "source": [
    "* ** Default parameter 사용 시 주의 점**\n",
    "  * 디폴트 파라미터 뒤에 일반 파라미터가 위치할 수 없음\n",
    "  \n",
    "  * e.g) 올바른 예\n",
    "    > def test(a, b, c = 1)\n",
    "    \n",
    "    > def test(a, b = 1, c = 2)\n",
    "    \n",
    "    > def test(a = 1, b = 1, c = 3)\n",
    "    \n",
    "  * e.g) 올바르지 않은 예\n",
    "    > def test(a, b = 1, c)\n",
    "    \n",
    "    > def test(a = 1, b, c)\n",
    "    \n",
    "    > def test(a = 1, b = 1, c)"
   ]
  },
  {
   "cell_type": "code",
   "execution_count": 14,
   "metadata": {
    "collapsed": true
   },
   "outputs": [],
   "source": [
    "def increment_by(a, b = 1):\n",
    "    return a + b"
   ]
  },
  {
   "cell_type": "code",
   "execution_count": null,
   "metadata": {
    "collapsed": false
   },
   "outputs": [],
   "source": [
    "# 올바른 호출\n",
    "print increment_by(45)\n",
    "print increment_by(34, 10)"
   ]
  },
  {
   "cell_type": "code",
   "execution_count": 15,
   "metadata": {
    "collapsed": false
   },
   "outputs": [
    {
     "ename": "TypeError",
     "evalue": "increment_by() takes at least 1 argument (0 given)",
     "output_type": "error",
     "traceback": [
      "\u001b[0;31m---------------------------------------------------------------------------\u001b[0m",
      "\u001b[0;31mTypeError\u001b[0m                                 Traceback (most recent call last)",
      "\u001b[0;32m<ipython-input-15-7aebcb389ddf>\u001b[0m in \u001b[0;36m<module>\u001b[0;34m()\u001b[0m\n\u001b[1;32m      1\u001b[0m \u001b[0;31m# 올바르지 않은 호출\u001b[0m\u001b[0;34m\u001b[0m\u001b[0;34m\u001b[0m\u001b[0m\n\u001b[0;32m----> 2\u001b[0;31m \u001b[0;32mprint\u001b[0m \u001b[0mincrement_by\u001b[0m\u001b[0;34m(\u001b[0m\u001b[0;34m)\u001b[0m\u001b[0;34m\u001b[0m\u001b[0m\n\u001b[0m\u001b[1;32m      3\u001b[0m \u001b[0;34m\u001b[0m\u001b[0m\n\u001b[1;32m      4\u001b[0m \u001b[0;31m# 이유는?\u001b[0m\u001b[0;34m\u001b[0m\u001b[0;34m\u001b[0m\u001b[0m\n",
      "\u001b[0;31mTypeError\u001b[0m: increment_by() takes at least 1 argument (0 given)"
     ]
    }
   ],
   "source": [
    "# 올바르지 않은 호출\n",
    "print increment_by()\n",
    "\n",
    "# 이유는?"
   ]
  },
  {
   "cell_type": "markdown",
   "metadata": {},
   "source": [
    "* **keyword parameter (키워드 파라미터)**\n",
    "  * 파이썬의 경우, 파라미터에 값을 전달 할 때, 파라미터의 이름을 명시하여 전달 가능\n",
    "  * 파라미터 이름을 사용하지 않을 경우, 기본적으로 순서에 맞게 전달"
   ]
  },
  {
   "cell_type": "code",
   "execution_count": 16,
   "metadata": {
    "collapsed": false
   },
   "outputs": [
    {
     "name": "stdout",
     "output_type": "stream",
     "text": [
      "1 1 1 2\n",
      "1 1 3 4\n"
     ]
    }
   ],
   "source": [
    "def func_test(a, b, c = 1, d = 2):\n",
    "    print a, b, c, d\n",
    "\n",
    "# 일반적인 호출\n",
    "func_test(1, 1)\n",
    "func_test(1, 1, 3, 4)"
   ]
  },
  {
   "cell_type": "code",
   "execution_count": 17,
   "metadata": {
    "collapsed": false
   },
   "outputs": [
    {
     "name": "stdout",
     "output_type": "stream",
     "text": [
      "4 2 1 2\n",
      "1 7 10 20\n",
      "1 2 4 5\n",
      "3 2 1 2\n",
      "3 2 1 2\n",
      "3 2 1 10\n"
     ]
    }
   ],
   "source": [
    "# 키워드 파라미터를 사용하는 호출\n",
    "func_test(b = 2, a = 4)\n",
    "func_test(1, 7, c = 10, d = 20)\n",
    "func_test(a = 1, b = 2, c = 4, d = 5)\n",
    "func_test(c = 1, d = 2, a = 3, b = 2)\n",
    "func_test(c = 1, a = 3, b = 2)\n",
    "func_test(d = 10, a = 3, b = 2)"
   ]
  },
  {
   "cell_type": "code",
   "execution_count": 19,
   "metadata": {
    "collapsed": false
   },
   "outputs": [
    {
     "ename": "TypeError",
     "evalue": "func_test() takes at least 2 arguments (2 given)",
     "output_type": "error",
     "traceback": [
      "\u001b[0;31m---------------------------------------------------------------------------\u001b[0m",
      "\u001b[0;31mTypeError\u001b[0m                                 Traceback (most recent call last)",
      "\u001b[0;32m<ipython-input-19-79643838a6ba>\u001b[0m in \u001b[0;36m<module>\u001b[0;34m()\u001b[0m\n\u001b[1;32m      1\u001b[0m \u001b[0;31m# 잘못된 호출\u001b[0m\u001b[0;34m\u001b[0m\u001b[0;34m\u001b[0m\u001b[0m\n\u001b[1;32m      2\u001b[0m \u001b[0;31m#func_test(c = 1, d = 2, 1, 3)\u001b[0m\u001b[0;34m\u001b[0m\u001b[0;34m\u001b[0m\u001b[0m\n\u001b[0;32m----> 3\u001b[0;31m \u001b[0mfunc_test\u001b[0m\u001b[0;34m(\u001b[0m\u001b[0mc\u001b[0m \u001b[0;34m=\u001b[0m \u001b[0;36m1\u001b[0m\u001b[0;34m,\u001b[0m \u001b[0md\u001b[0m \u001b[0;34m=\u001b[0m \u001b[0;36m2\u001b[0m\u001b[0;34m)\u001b[0m\u001b[0;34m\u001b[0m\u001b[0m\n\u001b[0m\u001b[1;32m      4\u001b[0m \u001b[0mfunc_test\u001b[0m\u001b[0;34m(\u001b[0m\u001b[0;36m1\u001b[0m\u001b[0;34m,\u001b[0m \u001b[0mc\u001b[0m \u001b[0;34m=\u001b[0m \u001b[0;36m1\u001b[0m\u001b[0;34m,\u001b[0m \u001b[0md\u001b[0m \u001b[0;34m=\u001b[0m \u001b[0;36m2\u001b[0m\u001b[0;34m)\u001b[0m\u001b[0;34m\u001b[0m\u001b[0m\n\u001b[1;32m      5\u001b[0m \u001b[0mfunc_test\u001b[0m\u001b[0;34m(\u001b[0m\u001b[0;34m)\u001b[0m\u001b[0;34m\u001b[0m\u001b[0m\n",
      "\u001b[0;31mTypeError\u001b[0m: func_test() takes at least 2 arguments (2 given)"
     ]
    }
   ],
   "source": [
    "# 잘못된 호출\n",
    "#func_test(c = 1, d = 2, 1, 3)\n",
    "func_test(c = 1, d = 2)\n",
    "func_test(1, c = 1, d = 2)\n",
    "func_test()"
   ]
  },
  {
   "cell_type": "markdown",
   "metadata": {},
   "source": [
    "* ** range 함수의 구현**\n"
   ]
  },
  {
   "cell_type": "code",
   "execution_count": null,
   "metadata": {
    "collapsed": true
   },
   "outputs": [],
   "source": [
    "range(10)\n",
    "range(1, 10)\n",
    "range(1, 10, 2)\n",
    "\n",
    "# 아래와 같다고 생각하기 쉬움\n",
    "def my_range(s=0, e, j=1):\n",
    "    pass"
   ]
  },
  {
   "cell_type": "code",
   "execution_count": 5,
   "metadata": {
    "collapsed": false
   },
   "outputs": [
    {
     "name": "stdout",
     "output_type": "stream",
     "text": [
      "[0, 1, 2, 3, 4, 5, 6, 7, 8, 9]\n",
      "[2, 3, 4, 5, 6, 7, 8, 9]\n",
      "[2, 4, 6, 8]\n"
     ]
    }
   ],
   "source": [
    "def range2(start, limit=None, jump=1):\n",
    "    if limit == None:\n",
    "        start, limit = 0, start\n",
    "        \n",
    "    result = []\n",
    "    i = start\n",
    "    while i < limit:\n",
    "        result.append(i)\n",
    "        i += jump\n",
    "        \n",
    "    return result\n",
    "\n",
    "print range2(10)\n",
    "print range2(2, 10)\n",
    "print range2(2, 10, 2)\n",
    "    "
   ]
  },
  {
   "cell_type": "markdown",
   "metadata": {},
   "source": [
    "* **return (리턴)**\n",
    " + 기본적으로 함수의 종료를 명시\n",
    "   + return 옆에 값이나 수식이 있다면 해당 값을 호출자(caller)에게 반환(전달)\n",
    "   + return 만 존재하면 None 반환\n",
    "   + return이 없는 경우, 기본적으로 함수 코드 블록이 종료되면 종료로 간주. 이때도 None 반환"
   ]
  },
  {
   "cell_type": "code",
   "execution_count": 89,
   "metadata": {
    "collapsed": false
   },
   "outputs": [],
   "source": [
    "# 1을 반환하는 함수 생성\n",
    "def simple():\n",
    "    print 'hahah'\n",
    "    print 'hohohs'\n",
    "    return 1\n",
    "\n",
    "    print 'hahah'"
   ]
  },
  {
   "cell_type": "code",
   "execution_count": 90,
   "metadata": {
    "collapsed": false
   },
   "outputs": [
    {
     "data": {
      "text/plain": [
       "1"
      ]
     },
     "execution_count": 90,
     "metadata": {},
     "output_type": "execute_result"
    }
   ],
   "source": [
    "# simple 함수 호출\n",
    "simple()"
   ]
  },
  {
   "cell_type": "code",
   "execution_count": 91,
   "metadata": {
    "collapsed": false
   },
   "outputs": [
    {
     "name": "stdout",
     "output_type": "stream",
     "text": [
      "1\n"
     ]
    }
   ],
   "source": [
    "# simple 함수 호출 결과를 s 변수에 대입\n",
    "# caller는 현재 cell이며, simple의 코드가 수행된 후, 반환값으로 1을 전달 하였기 때문에\n",
    "# s에 1이 대입\n",
    "s = simple()\n",
    "print s"
   ]
  },
  {
   "cell_type": "code",
   "execution_count": 92,
   "metadata": {
    "collapsed": false
   },
   "outputs": [],
   "source": [
    "# 반환값이 없는 함수\n",
    "def print_something(a):\n",
    "    print 'hi there'\n",
    "    print a\n",
    "    print 'see you again'"
   ]
  },
  {
   "cell_type": "code",
   "execution_count": 93,
   "metadata": {
    "collapsed": false
   },
   "outputs": [
    {
     "name": "stdout",
     "output_type": "stream",
     "text": [
      "hi there\n",
      "dds\n",
      "see you again\n"
     ]
    }
   ],
   "source": [
    "print_something('dds')"
   ]
  },
  {
   "cell_type": "code",
   "execution_count": null,
   "metadata": {
    "collapsed": false
   },
   "outputs": [],
   "source": [
    "# 해당 함수는 아무것도 반환하지 않으므로, None 반환\n",
    "# 즉, 변수 c에는 None 대입\n",
    "c = print_something('dds')\n",
    "print c"
   ]
  },
  {
   "cell_type": "code",
   "execution_count": null,
   "metadata": {
    "collapsed": true
   },
   "outputs": [],
   "source": []
  },
  {
   "cell_type": "code",
   "execution_count": 94,
   "metadata": {
    "collapsed": false
   },
   "outputs": [
    {
     "name": "stdout",
     "output_type": "stream",
     "text": [
      "None\n"
     ]
    }
   ],
   "source": [
    "# return 만 명시하여도 None을 반환\n",
    "def just_return():\n",
    "    a = 1\n",
    "    b = 1\n",
    "    return \n",
    "    #return None\n",
    "\n",
    "c = just_return()\n",
    "print c"
   ]
  },
  {
   "cell_type": "markdown",
   "metadata": {},
   "source": [
    "* **exercise** \n",
    "0에서 부터 주어진 정수값의 두배 크기까지의 숫자를 차례대로 갖는 리스트를 생성하여 반환하는 함수를 만드시오"
   ]
  },
  {
   "cell_type": "code",
   "execution_count": null,
   "metadata": {
    "collapsed": true
   },
   "outputs": [],
   "source": [
    "def double_range(n):\n",
    "    return range(2 * n + 1)\n",
    "    \n",
    "\n",
    "def double_range2(n):\n",
    "    i = 0\n",
    "    result = []\n",
    "    while i <= 2 * n:\n",
    "        result.append(i)\n",
    "        i += 1\n",
    "    return result"
   ]
  },
  {
   "cell_type": "code",
   "execution_count": 98,
   "metadata": {
    "collapsed": false
   },
   "outputs": [
    {
     "name": "stdout",
     "output_type": "stream",
     "text": [
      "3\n",
      "40\n",
      "3\n",
      "41\n"
     ]
    },
    {
     "data": {
      "text/plain": [
       "123"
      ]
     },
     "execution_count": 98,
     "metadata": {},
     "output_type": "execute_result"
    }
   ],
   "source": [
    "def add(a, b):\n",
    "    print a\n",
    "    print b\n",
    "    \n",
    "    return a * b\n",
    "    \n",
    "print add(3, 40)"
   ]
  },
  {
   "cell_type": "markdown",
   "metadata": {},
   "source": [
    "* **multiple return (복수 값 반환)**\n",
    " + tuple반환을 하여 복수개의 값 리턴 가능\n",
    " + 부득이한 경우가 아니면 지양 "
   ]
  },
  {
   "cell_type": "code",
   "execution_count": 99,
   "metadata": {
    "collapsed": false
   },
   "outputs": [],
   "source": [
    "def add_sub(a, b):\n",
    "    return a+b, a-b\n",
    "\n",
    "def add(a, b):\n",
    "    return a + b\n",
    "\n",
    "def sub(a, b):\n",
    "    return a - b"
   ]
  },
  {
   "cell_type": "code",
   "execution_count": 100,
   "metadata": {
    "collapsed": false
   },
   "outputs": [
    {
     "name": "stdout",
     "output_type": "stream",
     "text": [
      "<type 'tuple'> (9, -1)\n",
      "9 -1\n"
     ]
    }
   ],
   "source": [
    "c = add_sub(4, 5)\n",
    "e, f = add_sub(4, 5)\n",
    "\n",
    "print type(c), c\n",
    "print e, f"
   ]
  },
  {
   "cell_type": "markdown",
   "metadata": {},
   "source": [
    "* **variable scope (변수의 범위)** \n",
    " + 변수가 참조 가능한 코드상의 범위를 명시\n",
    " + 함수내의 변수는 자신이 속한 코드 블록이 종료되면 소멸됨\n",
    " + 이렇게 특정 코드 블록에서 선언된 변수를 **지역변수(local variable)** 이라고 함\n",
    " + 반대로 가장 상단에서 정의되어 프로그램 종료 전까지 유지되는 변수를 **전역변수(global variable)**이라고 함\n",
    " + 같은 이름의 지역변수와 전역변수가 존재할 경우, 지역변수의 우선순위가 더 높음"
   ]
  },
  {
   "cell_type": "code",
   "execution_count": 101,
   "metadata": {
    "collapsed": false
   },
   "outputs": [
    {
     "name": "stdout",
     "output_type": "stream",
     "text": [
      "java\n"
     ]
    }
   ],
   "source": [
    "def f(): \n",
    "    s = 'java'\n",
    "    print s # 지역변수 s를 출력\n",
    "    \n",
    "s = \"Python\"\n",
    "\n",
    "f()"
   ]
  },
  {
   "cell_type": "code",
   "execution_count": 102,
   "metadata": {
    "collapsed": false
   },
   "outputs": [],
   "source": [
    "del s # 아래 예제를 위해 전역 변수 s 삭제"
   ]
  },
  {
   "cell_type": "code",
   "execution_count": 104,
   "metadata": {
    "collapsed": true
   },
   "outputs": [
    {
     "name": "stdout",
     "output_type": "stream",
     "text": [
      "Perl\n",
      "None\n"
     ]
    },
    {
     "ename": "NameError",
     "evalue": "name 's' is not defined",
     "output_type": "error",
     "traceback": [
      "\u001b[0;31m---------------------------------------------------------------------------\u001b[0m",
      "\u001b[0;31mNameError\u001b[0m                                 Traceback (most recent call last)",
      "\u001b[0;32m<ipython-input-104-a078d7435597>\u001b[0m in \u001b[0;36m<module>\u001b[0;34m()\u001b[0m\n\u001b[1;32m      5\u001b[0m \u001b[0;32mprint\u001b[0m \u001b[0mf\u001b[0m\u001b[0;34m(\u001b[0m\u001b[0;34m)\u001b[0m\u001b[0;34m\u001b[0m\u001b[0m\n\u001b[1;32m      6\u001b[0m \u001b[0;34m\u001b[0m\u001b[0m\n\u001b[0;32m----> 7\u001b[0;31m \u001b[0;32mprint\u001b[0m \u001b[0ms\u001b[0m\u001b[0;34m\u001b[0m\u001b[0m\n\u001b[0m\u001b[1;32m      8\u001b[0m \u001b[0;31m# s는 함수f의 지역변수였기 때문에 함수가 종료되면서 scope이 종료되어 사라짐, 따라서 오류 발생\u001b[0m\u001b[0;34m\u001b[0m\u001b[0;34m\u001b[0m\u001b[0m\n",
      "\u001b[0;31mNameError\u001b[0m: name 's' is not defined"
     ]
    }
   ],
   "source": [
    "def f(): \n",
    "    s = \"Perl\" # 로컬 변수 생성\n",
    "    print(s) \n",
    "\n",
    "print f()\n",
    "\n",
    "print s \n",
    "# s는 함수f의 지역변수였기 때문에 함수가 종료되면서 scope이 종료되어 사라짐, 따라서 오류 발생"
   ]
  },
  {
   "cell_type": "code",
   "execution_count": 105,
   "metadata": {
    "collapsed": false
   },
   "outputs": [
    {
     "name": "stdout",
     "output_type": "stream",
     "text": [
      "Python\n"
     ]
    }
   ],
   "source": [
    "def f():\n",
    "    print s \n",
    "    \n",
    "s = 'Python'\n",
    "\n",
    "f()"
   ]
  },
  {
   "cell_type": "code",
   "execution_count": 106,
   "metadata": {
    "collapsed": true
   },
   "outputs": [
    {
     "name": "stdout",
     "output_type": "stream",
     "text": [
      "test\n"
     ]
    },
    {
     "ename": "UnboundLocalError",
     "evalue": "local variable 's' referenced before assignment",
     "output_type": "error",
     "traceback": [
      "\u001b[0;31m---------------------------------------------------------------------------\u001b[0m",
      "\u001b[0;31mUnboundLocalError\u001b[0m                         Traceback (most recent call last)",
      "\u001b[0;32m<ipython-input-106-420fbccc6bea>\u001b[0m in \u001b[0;36m<module>\u001b[0;34m()\u001b[0m\n\u001b[1;32m      9\u001b[0m \u001b[0ms\u001b[0m \u001b[0;34m=\u001b[0m \u001b[0;34m\"Python\"\u001b[0m\u001b[0;34m\u001b[0m\u001b[0m\n\u001b[1;32m     10\u001b[0m \u001b[0;34m\u001b[0m\u001b[0m\n\u001b[0;32m---> 11\u001b[0;31m \u001b[0mf\u001b[0m\u001b[0;34m(\u001b[0m\u001b[0;34m)\u001b[0m\u001b[0;34m\u001b[0m\u001b[0m\n\u001b[0m",
      "\u001b[0;32m<ipython-input-106-420fbccc6bea>\u001b[0m in \u001b[0;36mf\u001b[0;34m()\u001b[0m\n\u001b[1;32m      3\u001b[0m \u001b[0;34m\u001b[0m\u001b[0m\n\u001b[1;32m      4\u001b[0m     \u001b[0;31m# 한 scope 내에 동시에 글로벌 변수와 로컬 변수가 존재 하는 경우 에러 발생\u001b[0m\u001b[0;34m\u001b[0m\u001b[0;34m\u001b[0m\u001b[0m\n\u001b[0;32m----> 5\u001b[0;31m     \u001b[0;32mprint\u001b[0m \u001b[0ms\u001b[0m \u001b[0;31m# 여기서는 전역변수\u001b[0m\u001b[0;34m\u001b[0m\u001b[0m\n\u001b[0m\u001b[1;32m      6\u001b[0m     \u001b[0ms\u001b[0m \u001b[0;34m=\u001b[0m \u001b[0;34m\"Perl\"\u001b[0m\u001b[0;34m\u001b[0m\u001b[0m\n\u001b[1;32m      7\u001b[0m     \u001b[0;32mprint\u001b[0m \u001b[0ms\u001b[0m \u001b[0;31m# 지역변수\u001b[0m\u001b[0;34m\u001b[0m\u001b[0m\n",
      "\u001b[0;31mUnboundLocalError\u001b[0m: local variable 's' referenced before assignment"
     ]
    }
   ],
   "source": [
    "def f(): \n",
    "    print 'test'\n",
    "    \n",
    "    # 한 scope 내에 동시에 글로벌 변수와 로컬 변수가 존재 하는 경우 에러 발생\n",
    "    print s # 여기서는 전역변수\n",
    "    s = \"Perl\"\n",
    "    print s # 지역변수\n",
    "\n",
    "s = \"Python\" \n",
    "\n",
    "f()"
   ]
  },
  {
   "cell_type": "code",
   "execution_count": 107,
   "metadata": {
    "collapsed": false
   },
   "outputs": [
    {
     "name": "stdout",
     "output_type": "stream",
     "text": [
      "cat\n",
      "cat\n",
      "dog\n",
      "dog\n"
     ]
    }
   ],
   "source": [
    "def f():\n",
    "    global s # 명시적으로 global variable 임을 명시 해야 함\n",
    "    print s\n",
    "    s = \"dog\" # 지역변수가 아닌, 전역변수가 인식 (새로운 변수를 만드는 것이 아닌 전역변수에 새로운 값 대입)\n",
    "    print s \n",
    "    \n",
    "s = \"cat\" \n",
    "print s\n",
    "\n",
    "f()\n",
    "print s"
   ]
  },
  {
   "cell_type": "markdown",
   "metadata": {},
   "source": [
    "* 연습문제 \n",
    " 1. 섭씨 온도를 입력받아, 화씨 온도로 변환하는 함수를 만들고, 섭씨 36.5의 화씨 값을 출력하세요. 화씨 = 섭씨x1.8 + 32\n",
    " 2. 숫자로 이루어진 리스트를 입력 받아, 그 수 중 홀수인 경우만 합하여 반환하는 함수를 만드세요.\n",
    " 3. 숫자로 이루어진 리스트를 입력 받아, 그 수 중 가장 큰 수를 반환하는 함수를 만드세요.\n",
    " 4. 문자열을 입력받아 거꾸로된 문자열을 반환하는 함수를 만드세요. \n",
    " 5. 숫자를 입력 받아 factorial을 반환하는 함수를 만드세요. 5! = factorial(5) = 5x4x3x2x1\n",
    " 6. 숫자로 이루어진 리스트를 입력 받아, 중복을 제거한 리스트만 반환하는 함수를 만드세요. 반환되는 리스트의 순서는 관계 없음 [1,1, 2, 3, 3, 2, 4] -> [1, 2, 3, 4]\n",
    " 7. 숫자로 이루어진 리스트를 입력 받아, 특정 숫자를 검색하는 함수를 만드세요. 없는 경우 -1 반환\n",
    " 8. 정렬된 숫자로 이루어진 리스트를 입력 받아, 이진탐색으로 특정 숫자를 검색하는 함수를 만드세요. 없는 경우 -1 반환\n",
    " 9. 두개의 정렬된 정수 리스트를 입력 받아, 하나의 리스트로 정렬하여 반환하는 함수를 만드세요. sort, sorted함수 사용 금지\n",
    " 10. 두개의 정수 리스트를 입력 받아, 모든 리스트에 포함된 숫자만 포함하는 리스트를 반환하시오. 이때, 생성되는 리스트는 정렬할 필요가 없습니다."
   ]
  },
  {
   "cell_type": "code",
   "execution_count": 108,
   "metadata": {
    "collapsed": false
   },
   "outputs": [
    {
     "name": "stdout",
     "output_type": "stream",
     "text": [
      "212.0\n"
     ]
    }
   ],
   "source": [
    "def c_to_f(celcious):\n",
    "    return 1.8 * celcious + 32\n",
    "\n",
    "print c_to_f(100)"
   ]
  },
  {
   "cell_type": "code",
   "execution_count": null,
   "metadata": {
    "collapsed": true
   },
   "outputs": [],
   "source": [
    "def sum_of_odd(nums):\n",
    "    sum1 = 0\n",
    "    for n in nums:\n",
    "        if n % 2:\n",
    "            sum1 += n\n",
    "    return sum1\n",
    "\n",
    "def sum_of_odd_lc(nums):\n",
    "    return sum([n for n in nums if n % 2])\n",
    "            "
   ]
  },
  {
   "cell_type": "code",
   "execution_count": null,
   "metadata": {
    "collapsed": true
   },
   "outputs": [],
   "source": [
    "def max_in_list(nums):\n",
    "    max_val = nums[0]\n",
    "    \n",
    "    for n in nums:\n",
    "        if max_val < n:\n",
    "            max_val = n\n",
    "    return max_val    \n",
    "            "
   ]
  },
  {
   "cell_type": "code",
   "execution_count": 109,
   "metadata": {
    "collapsed": false
   },
   "outputs": [
    {
     "name": "stdout",
     "output_type": "stream",
     "text": [
      "olleH\n"
     ]
    }
   ],
   "source": [
    "def reverse_string(string):\n",
    "    return string[::-1]\n",
    "\n",
    "def reverse_string2(string):\n",
    "    i = len(string)-1\n",
    "    \n",
    "    new_str = ''\n",
    "    while i >= 0:\n",
    "        new_str += string[i]\n",
    "        i -= 1\n",
    "        \n",
    "    return new_str\n",
    "\n",
    "print reverse_string2('Hello')"
   ]
  },
  {
   "cell_type": "code",
   "execution_count": null,
   "metadata": {
    "collapsed": true
   },
   "outputs": [],
   "source": [
    "def factorial(n):\n",
    "    product = 1\n",
    "    for i in range(1, n+1):\n",
    "        product *= i\n",
    "    return product\n",
    "\n",
    "def factorial_while(n):\n",
    "    product = 1\n",
    "    while n >=1 :\n",
    "        product *= n\n",
    "        n -= 1\n",
    "    return product"
   ]
  },
  {
   "cell_type": "code",
   "execution_count": null,
   "metadata": {
    "collapsed": true
   },
   "outputs": [],
   "source": [
    "a = [1,1, 2, 3, 3, 2, 4]\n",
    "\n",
    "def get_unique(nums):\n",
    "    return list(set(nums))\n",
    "\n",
    "def get_unique(nums):\n",
    "    dict1 = {} # []\n",
    "    result = []\n",
    "    \n",
    "    for i in nums:\n",
    "        if i not in dict1:\n",
    "            result.append(i)\n",
    "            dict1[i] = 1\n",
    "            \n",
    "    return result\n",
    "        "
   ]
  },
  {
   "cell_type": "code",
   "execution_count": null,
   "metadata": {
    "collapsed": true
   },
   "outputs": [],
   "source": [
    "def search(nums, find):\n",
    "    for i, n in enumerate(nums):\n",
    "        if n == find:\n",
    "            return i\n",
    "    return -1\n",
    "        "
   ]
  },
  {
   "cell_type": "code",
   "execution_count": null,
   "metadata": {
    "collapsed": true
   },
   "outputs": [],
   "source": []
  },
  {
   "cell_type": "code",
   "execution_count": null,
   "metadata": {
    "collapsed": true
   },
   "outputs": [],
   "source": []
  },
  {
   "cell_type": "code",
   "execution_count": 24,
   "metadata": {
    "collapsed": true
   },
   "outputs": [
    {
     "name": "stdout",
     "output_type": "stream",
     "text": [
      "1\n"
     ]
    }
   ],
   "source": []
  },
  {
   "cell_type": "markdown",
   "metadata": {},
   "source": [
    "+ **variable length argument (가변길이 인자)**\n",
    " - 전달되는 파라미터의 개수가 고정적이지 않은 경우 사용\n",
    " - e.g)\n",
    "   - print 함수\n",
    "   - format 함수\n",
    "  \n",
    "> ***args**,  ****kwargs**\n",
    "\n",
    "> ***args**    : 파라미터를 튜플의 형태로 전달\n",
    "\n",
    "> ****kwargs** : 파리미터를 딕셔너리 형태로 전달(네임드 파라미터)"
   ]
  },
  {
   "cell_type": "code",
   "execution_count": 110,
   "metadata": {
    "collapsed": false
   },
   "outputs": [
    {
     "name": "stdout",
     "output_type": "stream",
     "text": [
      "1 2 3 4\n",
      "(1, 2, 3, 4, 5, 6)\n"
     ]
    }
   ],
   "source": [
    "print 1, 2, 3, 4\n",
    "\n",
    "print(1, 2, 3, 4, 5, 6)"
   ]
  },
  {
   "cell_type": "code",
   "execution_count": 111,
   "metadata": {
    "collapsed": false
   },
   "outputs": [
    {
     "name": "stdout",
     "output_type": "stream",
     "text": [
      "formal arg: (1, 'two', 'three') <type 'tuple'>\n",
      "another arg: 1\n",
      "another arg: two\n",
      "another arg: three\n",
      "--------------------------------------------------\n",
      "formal arg: (1, 'two') <type 'tuple'>\n",
      "another arg: 1\n",
      "another arg: two\n",
      "--------------------------------------------------\n",
      "formal arg: (1,) <type 'tuple'>\n",
      "another arg: 1\n",
      "--------------------------------------------------\n",
      "formal arg: () <type 'tuple'>\n",
      "--------------------------------------------------\n"
     ]
    }
   ],
   "source": [
    "# 파라미터 이름 앞에 *가 붙어 가변인수로 정의\n",
    "def test_var_args(*args):\n",
    "    print \"formal arg:\", args, type(args)\n",
    "    \n",
    "    for arg in args:\n",
    "        print \"another arg:\", arg\n",
    "\n",
    "test_var_args(1, \"two\", 'three')\n",
    "print '-' * 50\n",
    "\n",
    "test_var_args(1, 'two')\n",
    "print '-' * 50\n",
    "\n",
    "test_var_args(1)\n",
    "print '-' * 50\n",
    "\n",
    "test_var_args()\n",
    "print '-' * 50"
   ]
  },
  {
   "cell_type": "code",
   "execution_count": null,
   "metadata": {
    "collapsed": true
   },
   "outputs": [],
   "source": [
    "# 파라미터 이름 앞에 *가 붙어 가변인수로 정의\n",
    "# 여기서는 첫번째 파라미터는 일반 파라미터\n",
    "def test_var_args(farg, *args):\n",
    "    print \"formal arg:\", args, type(args)\n",
    "    \n",
    "    print farg,\n",
    "    for arg in args:\n",
    "        print \"another arg:\", arg\n",
    "\n",
    "test_var_args(1, \"two\", 'three')\n",
    "print '-' * 50\n",
    "\n",
    "test_var_args(1, 'two')\n",
    "print '-' * 50\n",
    "\n",
    "test_var_args(1)\n",
    "print '-' * 50\n",
    "\n",
    "# 에러 발생. 이유는?\n",
    "test_var_args()\n",
    "print '-' * 50"
   ]
  },
  {
   "cell_type": "code",
   "execution_count": null,
   "metadata": {
    "collapsed": true
   },
   "outputs": [],
   "source": [
    "# 위 함수와의 차이점은?\n",
    "# 두개의 파라미터 모두 일반 파라미터 이기 때문에 2개이 인자만 전달 할 수 있음\n",
    "def test_tuple_args(farg, tuple_args):\n",
    "    print \"formal arg:\", farg\n",
    "    print type(tuple_args)\n",
    "    for arg in tuple_args:\n",
    "        print \"another arg:\", arg\n",
    "\n",
    "#test_tuple_args(1, \"two\", 3) 인자의 개수가 맞지 않아 에러 발생\n",
    "\n",
    "test_tuple_args(1, (\"two\", 3))\n",
    "print '-' * 30\n",
    "\n",
    "#test_tuple_args(1) 인자의 개수가 맞지 않아 에러 발생"
   ]
  },
  {
   "cell_type": "code",
   "execution_count": null,
   "metadata": {
    "collapsed": true
   },
   "outputs": [],
   "source": [
    "def test(a, b, c = 1, d = 2):\n",
    "    pass \n",
    "\n",
    "test(a = 1, b = 2)"
   ]
  },
  {
   "cell_type": "code",
   "execution_count": null,
   "metadata": {
    "collapsed": false
   },
   "outputs": [],
   "source": [
    "# 키워드 파라미터, 딕셔너리 타입을 가짐\n",
    "# 키워드 파라미터 형태로 전달해야함\n",
    "def test_var_kwargs(**kwargs):\n",
    "    print type(kwargs)\n",
    "    for key in kwargs:\n",
    "        print \"another keyword arg: %s: %s\" \\\n",
    "        % (key, kwargs[key])\n",
    "\n",
    "test_var_kwargs(two = \"two\", three = 'three')"
   ]
  },
  {
   "cell_type": "code",
   "execution_count": 112,
   "metadata": {
    "collapsed": false
   },
   "outputs": [
    {
     "name": "stdout",
     "output_type": "stream",
     "text": [
      "formal arg: (1, 'two', 'three')\n",
      "<type 'tuple'>\n",
      "\n",
      "another arg: 1\n",
      "another arg: two\n",
      "another arg: three\n",
      "a aa\n",
      "b bb\n"
     ]
    }
   ],
   "source": [
    "# 일반적인 경우, 아래와 같이 정의 하여 사용\n",
    "# kwags가 뒤에 위치하는 이유는?\n",
    "def test_var_args(*args, **kwargs):\n",
    "    print \"formal arg:\", args\n",
    "    print type(args)\n",
    "    print \n",
    "    \n",
    "    for arg in args:\n",
    "        print \"another arg:\", arg\n",
    "        \n",
    "    for kw in kwargs:\n",
    "        print kw, kwargs[kw]\n",
    "\n",
    "test_var_args(1, \"two\", 'three', a = 'aa', b = 'bb')"
   ]
  },
  {
   "cell_type": "markdown",
   "metadata": {},
   "source": [
    "* 고정길이 함수에 \\*, \\** 사용 \n",
    "  - 튜플 혹은 딕셔너리를 가변길이 인자로 변경하여 전달"
   ]
  },
  {
   "cell_type": "code",
   "execution_count": null,
   "metadata": {
    "collapsed": false
   },
   "outputs": [],
   "source": [
    "def test_var_args_call(arg1, arg2, arg3):\n",
    "    print \"arg1:\", arg1\n",
    "    print \"arg2:\", arg2\n",
    "    print \"arg3:\", arg3\n",
    "\n",
    "args = (\"two\", 3, 1)\n",
    "test_var_args_call(*args)"
   ]
  },
  {
   "cell_type": "code",
   "execution_count": null,
   "metadata": {
    "collapsed": false
   },
   "outputs": [],
   "source": [
    "def test_var_args_call(arg1, arg2, arg3):\n",
    "    print \"arg1:\", arg1\n",
    "    print \"arg2:\", arg2\n",
    "    print \"arg3:\", arg3\n",
    "\n",
    "kwargs = {\"arg3\": 3, \"arg2\": \"two\"}\n",
    "test_var_args_call(1, **kwargs)"
   ]
  },
  {
   "cell_type": "markdown",
   "metadata": {},
   "source": [
    "* e.g) 가변길이 함수의 대표적인 예\n",
    " **문자열 포맷 함수**\n",
    " - 여러가지 값과 포맷을 이용하여 문자열을 정의할 수 있는 함수\n",
    " - {} placeholder를 문자열 내에 위치 시킨 후, 해당 위치에 format함수로 전달된 값으로 대체하여 문자열 생성\n",
    " - 포맷 구성은 다음 링크 참조 : https://pyformat.info/"
   ]
  },
  {
   "cell_type": "code",
   "execution_count": 114,
   "metadata": {
    "collapsed": false
   },
   "outputs": [
    {
     "name": "stdout",
     "output_type": "stream",
     "text": [
      "Hi my name is younghyo and the weather is 100\n"
     ]
    }
   ],
   "source": [
    "str1 = 'Hi my name is {} and the weather is {}' \\\n",
    "                        .format('younghyo', 100)\n",
    "print str1"
   ]
  },
  {
   "cell_type": "code",
   "execution_count": 116,
   "metadata": {
    "collapsed": false
   },
   "outputs": [
    {
     "name": "stdout",
     "output_type": "stream",
     "text": [
      "hello mike world pop\n",
      "hello world aaron\n",
      "Hello 100! my name is aaron 200\n",
      "Hello aaron! my name is bryan\n",
      "Hello Tom! my name is Boby\n",
      "Wow it is a big number! 1,073,741,824\n",
      "Wow it is a big number! 3.1416\n",
      "Wow it is a big number! 3.14159\n",
      "Wow it is a big number! 1213.14159\n",
      "Wow it is a big number! 01213.1\n",
      "Wow it is a big number! 01213.1\n"
     ]
    }
   ],
   "source": [
    "aa = 'hello {} world {}'.format('mike', 'pop')\n",
    "print aa\n",
    "\n",
    "a = 'hello world {}'.format('aaron')\n",
    "print a\n",
    "\n",
    "b = 'Hello {}! my name is {} {}'.format(100, 'aaron', 200)\n",
    "print b\n",
    "\n",
    "# 순서 명시 가능\n",
    "# 순서가 명시 되지 않으면 왼쪽부터 0부터 시작\n",
    "b = 'Hello {1}! my name is {0}'.format('bryan', 'aaron')\n",
    "print b\n",
    "\n",
    "c = 'Hello {aa}! my name is {bb}'.format(aa = 'Tom', bb = 'Boby')\n",
    "print c\n",
    "\n",
    "# 정수 콤마로 표시\n",
    "d = 'Wow it is a big number! {:,}'.format(2 ** 30)\n",
    "print d\n",
    "\n",
    "# 숫자 precision 5자리로 제한\n",
    "d = 'Wow it is a big number! {:.5}'.format(3.14159262840725)\n",
    "print d\n",
    "\n",
    "# .이후의 precision 5자리로 제한\n",
    "d = 'Wow it is a big number! {:.5f}'.format(3.14159262840725)\n",
    "print d\n",
    "\n",
    "# 최소 7자리는 필요 .이후 precision 5자리로 제한\n",
    "d = 'Wow it is a big number! {:7.5f}'.format(1213.14159262840725)\n",
    "print d\n",
    "\n",
    "# 최소 7자리는 필요 .이후 precision 1자리로 제한\n",
    "# 숫자의 경우 오른쪽 부터 채워짐. (패딩이 왼쪽에 위치)\n",
    "d = 'Wow it is a big number! {:07.1f}'.format(1213.14159262840725)\n",
    "print d\n",
    "\n",
    "# 패딩을 넣은 경우s\n",
    "d = 'Wow it is a big number! {:07.1f}'.format(1213.14159262840725)\n",
    "print d"
   ]
  },
  {
   "cell_type": "code",
   "execution_count": null,
   "metadata": {
    "collapsed": false
   },
   "outputs": [],
   "source": [
    "# old style 문자열 포매팅\n",
    "d = 'Hello %s %d %s' % ('aaron', 4454, 'cathy')\n",
    "print d"
   ]
  },
  {
   "cell_type": "code",
   "execution_count": 53,
   "metadata": {
    "collapsed": false
   },
   "outputs": [
    {
     "name": "stdout",
     "output_type": "stream",
     "text": [
      "0042\n",
      " 420\n",
      "4,200\n",
      "42,000\n",
      " 3.142\n"
     ]
    }
   ],
   "source": [
    "print '{:04}'.format(42)\n",
    "print '{:4}'.format(420)\n",
    "print '{:4,}'.format(4200)\n",
    "print '{:4,}'.format(42000)\n",
    "print '{:6.3f}'.format(3.14159223232)"
   ]
  },
  {
   "cell_type": "markdown",
   "metadata": {},
   "source": [
    "* **1st class citizen(일등 시민)**\n",
    " + 프로그래밍 언어에서 1st class라는 의미는 해당 객체를 사용하는데 있어서 아무런 **\"제약없음\"**을 의미\n",
    " + python에서는 모든 것이 객체(object)!\n",
    " + 숫자, 문자열, 튜플, 리스트, 딕셔너리 등등, 존재하는 모든 값을 객체로 볼 수 있음\n",
    " + 함수 역시 객체이며, 객체이기 때문에 변수의 값에 할당하거나, 함수의 파라미터로 전달하거나, 리스트의 원소가 되는 등 일반 타입처럼 사용 할 수 있음"
   ]
  },
  {
   "cell_type": "code",
   "execution_count": 117,
   "metadata": {
    "collapsed": false
   },
   "outputs": [
    {
     "name": "stdout",
     "output_type": "stream",
     "text": [
      "23\n",
      "<function test1 at 0x109bb17d0> <type 'function'>\n",
      "23\n"
     ]
    }
   ],
   "source": [
    "def test1():\n",
    "    print 23\n",
    "    \n",
    "def run_something(func):\n",
    "    func()\n",
    "    \n",
    "test2 = test1 # 함수를 변수에 대입\n",
    "test2()\n",
    "\n",
    "print test1, type(test1)\n",
    "run_something(test1)"
   ]
  },
  {
   "cell_type": "code",
   "execution_count": 120,
   "metadata": {
    "collapsed": false
   },
   "outputs": [
    {
     "name": "stdout",
     "output_type": "stream",
     "text": [
      "3\n"
     ]
    }
   ],
   "source": [
    "def bubble_sort():\n",
    "    pass\n",
    "\n",
    "def quick_sort():\n",
    "    pass\n",
    "\n",
    "def sort(sort_method):\n",
    "    return sort_method()\n",
    "\n",
    "\n",
    "sort(bubble_sort)\n",
    "sort(quick_sort)\n",
    "\n",
    "print1 = len\n",
    "print print1([1, 2, 3])"
   ]
  },
  {
   "cell_type": "markdown",
   "metadata": {},
   "source": [
    "## Recursive Function"
   ]
  },
  {
   "cell_type": "markdown",
   "metadata": {},
   "source": [
    "* 재귀함수\n",
    "* 내부적으로 자기 자신을 호출함 (러시아 인형, 혹은 프랙탈을 연상)\n",
    "* 점화식으로 표현되는 모든 수식을 간결히 표현할 수 있음\n",
    "* 종료조건이 꼭! 필요함 (명시하지 않으면 무한 호출반복)\n",
    "* 코드는 간결하나, 호출에 따른 오버헤드가 큼\n",
    "* 따라서 성능과 코드의 간결함에 대한 trade-off를 고려하여 구현이 필요\n"
   ]
  },
  {
   "cell_type": "code",
   "execution_count": 122,
   "metadata": {
    "collapsed": false
   },
   "outputs": [],
   "source": [
    "# factorial을 다시 작성해 봅시다.\n",
    "def factorial(n):\n",
    "    mul = 1\n",
    "    for i in range(2, n+1):\n",
    "        mul *= i\n",
    "        \n",
    "    return mul\n",
    "\n",
    "# assert 함수 : 주어진 값이 True가 아니면 에러를 발생\n",
    "# 주로 간단한 테스트에 사용\n",
    "assert(factorial(5) == 120)\n",
    "assert(factorial(4) == 24)\n",
    "assert(factorial(1) == 1)"
   ]
  },
  {
   "cell_type": "code",
   "execution_count": 127,
   "metadata": {
    "collapsed": false
   },
   "outputs": [],
   "source": [
    "def rf(n):\n",
    "    if n == 0:\n",
    "        return 1\n",
    "    \n",
    "    return n * rf(n-1)\n",
    "\n",
    "assert(rf(5) == 120)\n",
    "assert(rf(4) == 24)\n",
    "assert(rf(1) == 1)"
   ]
  },
  {
   "cell_type": "code",
   "execution_count": 125,
   "metadata": {
    "collapsed": false
   },
   "outputs": [
    {
     "name": "stdout",
     "output_type": "stream",
     "text": [
      "10 loops, best of 3: 21.4 ms per loop\n"
     ]
    }
   ],
   "source": [
    "%timeit factorial(10000)"
   ]
  },
  {
   "cell_type": "code",
   "execution_count": 126,
   "metadata": {
    "collapsed": false
   },
   "outputs": [
    {
     "name": "stdout",
     "output_type": "stream",
     "text": [
      "10 loops, best of 3: 23.8 ms per loop\n"
     ]
    }
   ],
   "source": [
    "# 재귀함수 호출의 값이 기본적으로 5000이기 때문에 늘려줌\n",
    "import sys\n",
    "sys.setrecursionlimit(200000)\n",
    "\n",
    "%timeit rf(10000)"
   ]
  },
  {
   "cell_type": "code",
   "execution_count": 128,
   "metadata": {
    "collapsed": false
   },
   "outputs": [
    {
     "name": "stdout",
     "output_type": "stream",
     "text": [
      "610\n",
      "100000 loops, best of 3: 3.78 µs per loop\n"
     ]
    }
   ],
   "source": [
    "def fibonacci(n):\n",
    "    fibo = [1, 1]\n",
    "    for i in range(2, n):\n",
    "        fibo.append(fibo[i-1] + fibo[i-2])\n",
    "\n",
    "    return fibo[-1]\n",
    "\n",
    "print fibonacci(15)\n",
    "%timeit fibonacci(20)"
   ]
  },
  {
   "cell_type": "code",
   "execution_count": 129,
   "metadata": {
    "collapsed": false
   },
   "outputs": [
    {
     "name": "stdout",
     "output_type": "stream",
     "text": [
      "610\n",
      "1000 loops, best of 3: 1.61 ms per loop\n"
     ]
    }
   ],
   "source": [
    "def recursive_fibonacci(n):\n",
    "    if n == 1 or n == 2:\n",
    "        return 1\n",
    "    \n",
    "    return recursive_fibonacci(n-1) + recursive_fibonacci(n-2)\n",
    "\n",
    "print recursive_fibonacci(15)\n",
    "%timeit recursive_fibonacci(20)"
   ]
  },
  {
   "cell_type": "markdown",
   "metadata": {},
   "source": [
    "* **연습문제**\n",
    "1. 계단오르기 문제. 계단을 한번에 1,2 혹은 3칸까지 오를 수 있다고 할 때\n",
    "\n",
    "n층의 계단을 오르기 위해서는 몇가지 경우가 가능한가?"
   ]
  },
  {
   "cell_type": "raw",
   "metadata": {},
   "source": [
    "1 1\n",
    "\n",
    "2 1 1\n",
    "  2\n",
    "  \n",
    "3 1 1 1\n",
    "  1 2\n",
    "  2 1\n",
    "  3\n",
    "\n",
    "4 1 1 1 1 \n",
    "  1 1 2\n",
    "  1 2 1\n",
    "  1 3 \n",
    "  2 1 1\n",
    "  2 2\n",
    "  3 1\n",
    "  \n",
    "5 1 1 1 1 1 \n",
    "  1 1 1 2\n",
    "  1 1 2 1\n",
    "  1 1 3 \n",
    "  1 2 1 1\n",
    "  1 2 2\n",
    "  1 3 1\n",
    "  2 1 1 1\n",
    "  2 1 2\n",
    "  2 2 1\n",
    "  2 3\n",
    "  3 1 1\n",
    "  3 2\n",
    "  \n",
    "  "
   ]
  },
  {
   "cell_type": "code",
   "execution_count": 131,
   "metadata": {
    "collapsed": false
   },
   "outputs": [
    {
     "name": "stdout",
     "output_type": "stream",
     "text": [
      "274\n",
      "10000 loops, best of 3: 21.2 µs per loop\n"
     ]
    }
   ],
   "source": [
    "#f(n) = f(n-1) + f(n-2) + f(n-3)\n",
    "\n",
    "memo = {}\n",
    "def staircase(n):\n",
    "    if n == 1:\n",
    "        return 1\n",
    "    \n",
    "    if n == 2:\n",
    "        return 2\n",
    "    \n",
    "    if n == 3:\n",
    "        return 4\n",
    "\n",
    "    return staircase(n-1) + staircase(n-2) + staircase(n-3)\n",
    "\n",
    "print staircase(10)\n",
    "%timeit staircase(10)"
   ]
  },
  {
   "cell_type": "code",
   "execution_count": 75,
   "metadata": {
    "collapsed": false
   },
   "outputs": [
    {
     "name": "stdout",
     "output_type": "stream",
     "text": [
      "The slowest run took 1536.88 times longer than the fastest. This could mean that an intermediate result is being cached.\n",
      "1000000 loops, best of 3: 216 ns per loop\n"
     ]
    }
   ],
   "source": [
    "#f(n) = f(n-1) + f(n-2) + f(n-3)\n",
    "\n",
    "memo = {}\n",
    "def staircase(n):\n",
    "    if n == 1:\n",
    "        return 1\n",
    "    \n",
    "    if n == 2:\n",
    "        return 2\n",
    "    \n",
    "    # 1, 1, 1\n",
    "    # 1, 2\n",
    "    # 2, 1\n",
    "    # 3\n",
    "    if n == 3:\n",
    "        return 4\n",
    "    \n",
    "    if n in memo:\n",
    "        return memo[n]\n",
    "    \n",
    "    memo[n] = staircase(n-1) + staircase(n-2) + staircase(n-3)\n",
    "    return memo[n]\n",
    "\n",
    "%timeit staircase(64)"
   ]
  },
  {
   "cell_type": "markdown",
   "metadata": {},
   "source": [
    "* **memozation(메모이제이션)**\n",
    "  - 이미 계산한 값은 따로 저장해두고, 필요하면 다시 불러와서 사용 하는 기법\n",
    "  - dynamic programming의 재귀적 구현 기법에서 많이 사용"
   ]
  },
  {
   "cell_type": "code",
   "execution_count": 134,
   "metadata": {
    "collapsed": false
   },
   "outputs": [
    {
     "name": "stdout",
     "output_type": "stream",
     "text": [
      "610\n",
      "The slowest run took 316.84 times longer than the fastest. This could mean that an intermediate result is being cached.\n",
      "10000000 loops, best of 3: 174 ns per loop\n"
     ]
    }
   ],
   "source": [
    "memo = {}\n",
    "def recursive_fibonacci(n):\n",
    "    if n == 1 or n == 2:\n",
    "        return 1\n",
    "    \n",
    "    if n in memo:\n",
    "        return memo[n]\n",
    "    \n",
    "    memo[n] = recursive_fibonacci(n-1) + recursive_fibonacci(n-2)\n",
    "    return memo[n]\n",
    "\n",
    "\n",
    "print recursive_fibonacci(15)\n",
    "%timeit recursive_fibonacci(50)"
   ]
  },
  {
   "cell_type": "code",
   "execution_count": null,
   "metadata": {
    "collapsed": false
   },
   "outputs": [],
   "source": [
    "fib_cache = {}\n",
    "def recursive_fibonacci_memo(n):\n",
    "    if n in fib_cache:\n",
    "        return fib_cache[n]\n",
    "    else:\n",
    "        if n == 1 or n == 2:\n",
    "            fib_cache[n] = 1\n",
    "        else:\n",
    "            fib_cache[n] =  recursive_fibonacci_memo(n-2) + recursive_fibonacci_memo(n-1)\n",
    "            \n",
    "        return fib_cache[n]\n",
    "\n",
    "print recursive_fibonacci_memo(15)\n",
    "%timeit recursive_fibonacci_memo(20)"
   ]
  },
  {
   "cell_type": "code",
   "execution_count": null,
   "metadata": {
    "collapsed": true
   },
   "outputs": [],
   "source": []
  },
  {
   "cell_type": "markdown",
   "metadata": {},
   "source": [
    "* recursive function 연습문제\n",
    " 1. 숫자 리스트를 인자로 받아 그 숫자의 합을 구하는 재귀함수를 작성하시오.\n",
    " 2. 숫자를 입력받아 각 자리수의 합을 구하는 재귀함수를 작성하시오.\n",
    " 3. 주어진 두 수의 최대 공약수를 찾는 재귀함수를 작성하시오.\n",
    "    A와 B의 최대 공약수는 B와 A%B의 최대 공약수와 같다."
   ]
  },
  {
   "cell_type": "code",
   "execution_count": null,
   "metadata": {
    "collapsed": true
   },
   "outputs": [],
   "source": []
  },
  {
   "cell_type": "code",
   "execution_count": 88,
   "metadata": {
    "collapsed": false
   },
   "outputs": [
    {
     "name": "stdout",
     "output_type": "stream",
     "text": [
      "2\n",
      "15\n"
     ]
    }
   ],
   "source": [
    "def sum_digit(number):\n",
    "    if number < 10:\n",
    "        return number\n",
    "    \n",
    "    return sum_digit(number/10) + number%10\n",
    "\n",
    "def sum_digit2(number):\n",
    "    str_number = str(number)\n",
    "    \n",
    "    if len(str_number) == 1:\n",
    "        return int(str_number)\n",
    "    \n",
    "    return sum_digit2(str_number[:-1]) + int(str_number[-1])\n",
    "\n",
    "print sum_digit(200)\n",
    "print sum_digit2(12345)"
   ]
  },
  {
   "cell_type": "code",
   "execution_count": null,
   "metadata": {
    "collapsed": true
   },
   "outputs": [],
   "source": []
  }
 ],
 "metadata": {
  "kernelspec": {
   "display_name": "Python 2",
   "language": "python",
   "name": "python2"
  },
  "language_info": {
   "codemirror_mode": {
    "name": "ipython",
    "version": 2
   },
   "file_extension": ".py",
   "mimetype": "text/x-python",
   "name": "python",
   "nbconvert_exporter": "python",
   "pygments_lexer": "ipython2",
   "version": "2.7.13"
  }
 },
 "nbformat": 4,
 "nbformat_minor": 1
}
