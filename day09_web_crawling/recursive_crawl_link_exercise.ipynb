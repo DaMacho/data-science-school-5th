{
 "cells": [
  {
   "cell_type": "markdown",
   "metadata": {},
   "source": [
    "* ** recursive web page cralwer**"
   ]
  },
  {
   "cell_type": "code",
   "execution_count": null,
   "metadata": {
    "collapsed": false
   },
   "outputs": [],
   "source": [
    "import requests\n",
    "from bs4 import BeautifulSoup\n",
    "\n",
    "\n",
    "def crawl_links(url, url_dict, depth=0):\n",
    "    if depth == 3:\n",
    "        return \n",
    "    \n",
    "    res = requests.get(url)\n",
    "    soup = BeautifulSoup(res.text, 'html5lib')\n",
    "    \n",
    "    links = soup.select('a[href^=\"http://\"]')\n",
    "    for link in links[:10]:\n",
    "        if link['href'] not in url_dict:\n",
    "            url_dict[link['href']] = 1\n",
    "            print link['href']\n",
    "            crawl_links(link['href'], url_dict, depth+1)\n",
    "        \n",
    "url_dict = {}\n",
    "crawl_links('http://media.daum.net/economic/', url_dict)\n",
    "    "
   ]
  },
  {
   "cell_type": "markdown",
   "metadata": {},
   "source": [
    "* daum comment crawling with selenium"
   ]
  },
  {
   "cell_type": "code",
   "execution_count": 1,
   "metadata": {
    "collapsed": true
   },
   "outputs": [],
   "source": [
    "from selenium import webdriver\n",
    "from selenium.webdriver.common.keys import Keys\n",
    "from selenium.webdriver.common.by import By\n",
    "from selenium.webdriver.support.ui import WebDriverWait\n",
    "from selenium.webdriver.support import expected_conditions as EC"
   ]
  },
  {
   "cell_type": "code",
   "execution_count": 9,
   "metadata": {
    "collapsed": false
   },
   "outputs": [
    {
     "name": "stdout",
     "output_type": "stream",
     "text": [
      "clicked\n",
      "clicked\n",
      "clicked\n",
      "clicked\n",
      "clicked\n",
      "clicked\n",
      "Message: unknown error: Element <a href=\"#more\" class=\"link_fold #more\" data-reactid=\".0.0.0.4.2.0\">...</a> is not clickable at point (385, 593). Other element would receive the click: <div class=\"inner_realtime\">...</div>\n",
      "  (Session info: chrome=59.0.3071.115)\n",
      "  (Driver info: chromedriver=2.30.477690 (c53f4ad87510ee97b5c3425a14c0e79780cdf262),platform=Mac OS X 10.12.5 x86_64)\n",
      "\n",
      "역대 최악 불경기다.자영업은 절대로 하지마라 하면은 무조건 90%이상은 망한다. 그리고 사업자 내는 순간, 4대보험, 각종세금. 건보료. 국민연금등 내라고 바로 통지서 날아오고. 전가족들 돈도 못벌면서 주말 밤낮으로 쉬지도 못하고. 개고생하고 골병들고. 재료값 비싸고 사람구하기 힘들고. 상도덕도 개념도 없는 또라이들 바로 옆에다 똑같은 메뉴로 가게차리고..결국에는 몆개월만에 보증금, 권리금까지 수억 다 까먹고 전가족들 노숙자 되고, 자살한다. 반면에 각종 세금, 건보료, 국민연금만 엄청 뜯어가는 지자체와 정부만 좋은일 시킨것 같다\n",
      "지자체와 국가는 세금만 뜯어갈줄 알앗지. 자영업자들 힘든줄 진짜로 모른다. 장사가 잘되어야 세금도 잘낸다. 장사가 잘될수 있도록 주차장도 확보해주고. 한가한 시간에는 주변에 주차할수 있도록해라. 세금 엄청 뜯어 가면서. 과태료까지 뜯어가지 말고\n",
      "전재산 현금으로 바꿔서 숨겨놓고. 기초생활 수급자로 등록하면. 정부에서 열심히 노력해서 잘사는 사람들것 세금 엄청 뜯어서. 평생 영구임대 아파트 주지. 월 얼마씩 지원해주지. 건보료 한푼도 안내면서 병원은 자기집 안방 드나들듯 공짜로 다니지, 그러면 평생동안 고생안하고 놀고 편히 먹고 산다.\n"
     ]
    },
    {
     "data": {
      "text/plain": [
       "3"
      ]
     },
     "execution_count": 9,
     "metadata": {},
     "output_type": "execute_result"
    }
   ],
   "source": [
    "driver = webdriver.Chrome()\n",
    "driver.get('http://v.media.daum.net/v/20170702140544532?rcmd=rn')\n",
    "\n",
    "while True:\n",
    "    try:\n",
    "        wait = WebDriverWait(driver, 10)\n",
    "        wait.until(EC.presence_of_element_located((By.CSS_SELECTOR, \n",
    "                                        \"div.alex_more a\")))\n",
    "        \n",
    "        load_more = driver.find_element_by_css_selector('div.alex_more a')\n",
    "        load_more.click()\n",
    "        print 'clicked'\n",
    "    except Exception as e:\n",
    "        print e\n",
    "        break\n",
    "\n",
    "all_comments = []\n",
    "\n",
    "comments = driver.find_elements_by_css_selector('ul.list_comment p.desc_txt')\n",
    "\n",
    "for comment in comments:\n",
    "    txt = comment.text\n",
    "    print txt\n",
    "\n",
    "    all_comments.append(txt)\n",
    "        \n",
    "len(all_comments)"
   ]
  },
  {
   "cell_type": "code",
   "execution_count": null,
   "metadata": {
    "collapsed": true
   },
   "outputs": [],
   "source": []
  }
 ],
 "metadata": {
  "kernelspec": {
   "display_name": "Python 2",
   "language": "python",
   "name": "python2"
  },
  "language_info": {
   "codemirror_mode": {
    "name": "ipython",
    "version": 2
   },
   "file_extension": ".py",
   "mimetype": "text/x-python",
   "name": "python",
   "nbconvert_exporter": "python",
   "pygments_lexer": "ipython2",
   "version": "2.7.13"
  }
 },
 "nbformat": 4,
 "nbformat_minor": 2
}
