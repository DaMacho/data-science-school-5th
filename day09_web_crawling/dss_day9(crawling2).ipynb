{
 "cells": [
  {
   "cell_type": "markdown",
   "metadata": {},
   "source": [
    "## 로그인이 필요한 웹페이지 크롤링"
   ]
  },
  {
   "cell_type": "markdown",
   "metadata": {},
   "source": [
    "* 실습내용\n",
    " 1. 한빛미디어 홈페이지 http://www.hanbit.co.kr\n",
    "   - 마일리지 크롤링\n",
    " 2. 쏘카 홈페이지 https://www.socar.kr\n",
    "   - 쿠폰 크롤링"
   ]
  },
  {
   "cell_type": "markdown",
   "metadata": {},
   "source": [
    "* ** 웹사이트 로그인 과정 분석**\n",
    " - 개발자 도구 실행\n",
    " - 네트워크 -> preserve log 체크\n",
    " - 사이트 내에서 직접 로그인\n",
    " - 로그인 시 처리되는 url 확인"
   ]
  },
  {
   "cell_type": "markdown",
   "metadata": {},
   "source": [
    "* ** 한빛미디어 개인 마일리지 크롤링**"
   ]
  },
  {
   "cell_type": "code",
   "execution_count": 1,
   "metadata": {
    "collapsed": true
   },
   "outputs": [],
   "source": [
    "import requests\n",
    "from bs4 import BeautifulSoup"
   ]
  },
  {
   "cell_type": "code",
   "execution_count": 2,
   "metadata": {
    "collapsed": true
   },
   "outputs": [],
   "source": [
    "login_url = 'http://www.hanbit.co.kr/member/login_proc.php'"
   ]
  },
  {
   "cell_type": "code",
   "execution_count": 3,
   "metadata": {
    "collapsed": false
   },
   "outputs": [
    {
     "name": "stdout",
     "output_type": "stream",
     "text": [
      "mileage is 760\n"
     ]
    }
   ],
   "source": [
    "user = 'macmath22'\n",
    "password = 'test1234'\n",
    "\n",
    "session = requests.session()\n",
    "\n",
    "data = {}\n",
    "data['m_id'] = user\n",
    "data['m_passwd'] = password\n",
    "\n",
    "res = session.post(login_url, data=data)\n",
    "res.raise_for_status()\n",
    "\n",
    "mypage_url = 'http://www.hanbit.co.kr/myhanbit/myhanbit.html'\n",
    "res = session.get(mypage_url)\n",
    "res.raise_for_status()\n",
    "\n",
    "soup = BeautifulSoup(res.text, 'html5lib')\n",
    "he_coin = soup.select_one('.mileage_section2 span')\n",
    "print 'mileage is', he_coin.get_text()"
   ]
  },
  {
   "cell_type": "markdown",
   "metadata": {
    "collapsed": true
   },
   "source": [
    "* ** socar 쿠폰 크롤링**"
   ]
  },
  {
   "cell_type": "code",
   "execution_count": 6,
   "metadata": {
    "collapsed": true
   },
   "outputs": [],
   "source": [
    "login_url = 'https://www.socar.kr/user/login'"
   ]
  },
  {
   "cell_type": "code",
   "execution_count": 7,
   "metadata": {
    "collapsed": false
   },
   "outputs": [
    {
     "name": "stdout",
     "output_type": "stream",
     "text": [
      "쉿! 쏘친님만 드리는 비밀쿠폰 - 1시간 무료\n",
      "쏘카로 퇴근부터 출근까지 - 14시간 13,000원\n"
     ]
    }
   ],
   "source": [
    "user = 'macmath22@gmail.com'\n",
    "password = ''\n",
    "\n",
    "session = requests.session()\n",
    "\n",
    "data = {}\n",
    "data['email'] = user\n",
    "data['password'] = password\n",
    "\n",
    "res = session.post(login_url, data=data)\n",
    "res.raise_for_status()\n",
    "\n",
    "mypage_url = 'https://www.socar.kr/mypage/coupon'\n",
    "res = session.get(mypage_url)\n",
    "res.raise_for_status()\n",
    "\n",
    "soup = BeautifulSoup(res.text, 'html5lib')\n",
    "coupons = soup.select('h4.coupon_usage')\n",
    "for coupon in coupons:\n",
    "    # 한글이 깨져서 나올 경우 encode(res.encoding) 호출하여 문자열 타입으로 인코딩\n",
    "    print coupon.get_text().encode(res.encoding)"
   ]
  },
  {
   "cell_type": "markdown",
   "metadata": {
    "collapsed": true
   },
   "source": [
    "### Note!\n",
    " - 위의 방법이 모든 사이트에서 적용되진 않음\n",
    " - 다수의 국내의 포털 사이트에서 위 방법이 실행되지 않는 경우 존재\n",
    " - 적용되지 않는 경우, selenium 모듈 사용!"
   ]
  }
 ],
 "metadata": {
  "kernelspec": {
   "display_name": "Python 2",
   "language": "python",
   "name": "python2"
  },
  "language_info": {
   "codemirror_mode": {
    "name": "ipython",
    "version": 2
   },
   "file_extension": ".py",
   "mimetype": "text/x-python",
   "name": "python",
   "nbconvert_exporter": "python",
   "pygments_lexer": "ipython2",
   "version": "2.7.13"
  }
 },
 "nbformat": 4,
 "nbformat_minor": 2
}
