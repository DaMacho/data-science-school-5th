{
 "cells": [
  {
   "cell_type": "markdown",
   "metadata": {},
   "source": [
    " 1. 14577을 소인수 분해 하시오.\n",
    " 2. expression = '10+5+9'라는 문자열이 있습니다. 이 문자열을 리스트로 분리하여 각 값들을 추출 한 뒤, 해당 값과 연산자를 활용하여 문자열의 식을 계산하시오.\n",
    " 3. 2^28와 근사값으로 계산한 2^28의 차이를 구하시오.\n",
    " 5. 'python programming makes your life easier' 문자열을 가지고 딕셔너리를 생성하세요\n",
    " 딕셔너리의 키는 해당 문자열에서 나타난 알파벳이고 값은 그 알파벳이 문자열에서 나온 개수 입니다."
   ]
  },
  {
   "cell_type": "code",
   "execution_count": 7,
   "metadata": {
    "collapsed": false
   },
   "outputs": [
    {
     "name": "stdout",
     "output_type": "stream",
     "text": [
      "False\n",
      "True\n",
      "False\n",
      "False\n",
      "False\n",
      "True\n",
      "False\n",
      "True\n"
     ]
    }
   ],
   "source": [
    "print 14577 % 2 == 0\n",
    "print 14577 % 3 == 0\n",
    "print 14577 % 4 == 0\n",
    "print 14577 % 5 == 0\n",
    "# .....\n",
    "print 14577 % 42 == 0\n",
    "print 14577 % 43 == 0\n",
    "# .....\n",
    "print 14577 % 112 == 0\n",
    "print 14577 % 113 == 0"
   ]
  },
  {
   "cell_type": "code",
   "execution_count": null,
   "metadata": {
    "collapsed": true
   },
   "outputs": [],
   "source": []
  },
  {
   "cell_type": "code",
   "execution_count": null,
   "metadata": {
    "collapsed": true
   },
   "outputs": [],
   "source": []
  },
  {
   "cell_type": "code",
   "execution_count": null,
   "metadata": {
    "collapsed": true
   },
   "outputs": [],
   "source": []
  }
 ],
 "metadata": {
  "kernelspec": {
   "display_name": "Python 2",
   "language": "python",
   "name": "python2"
  },
  "language_info": {
   "codemirror_mode": {
    "name": "ipython",
    "version": 2
   },
   "file_extension": ".py",
   "mimetype": "text/x-python",
   "name": "python",
   "nbconvert_exporter": "python",
   "pygments_lexer": "ipython2",
   "version": "2.7.13"
  }
 },
 "nbformat": 4,
 "nbformat_minor": 2
}
