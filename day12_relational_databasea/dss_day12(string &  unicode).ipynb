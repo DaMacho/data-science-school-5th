{
 "cells": [
  {
   "cell_type": "markdown",
   "metadata": {},
   "source": [
    "## 학습목표\n",
    " 1. unicode란?\n",
    " 1. python2에서 문자열과 unicode 문자열\n",
    " 2. python2에서 한글 표기"
   ]
  },
  {
   "cell_type": "markdown",
   "metadata": {},
   "source": [
    "### 문자 집합\n",
    " - 초기 컴퓨터 설계 당시, 수치 계산이 주 목적이었기 때문에 문자를 표시해야할 요구가 없었음\n",
    " - 하지만, 시간이 지나면서 자연스럽게 문자를 표시하거나, 기기 사이에 문자 데이터를 전송해야 하는 요구가 생김\n",
    " - 이렇게 다양한 기기 사이에 문자를 사용해야하는 이유로 표준이 필요했는데, 이 것이 ASCII\n",
    "\n",
    "### 인코딩\n",
    " - 문자를 표시하기 위해서는 일단, 사용될 문자의 종류와 그들의 순서가 정의되어 있어야 함\n",
    " - 위와 같은 문자 집합은 정수 하나에 대응되는데, 컴퓨터에서는 내부적으로 각 문자가 정수로 표현됨\n",
    " - 컴퓨터에 비트 단위로 코드화 되어 문자를 저장하는 것을 encoding(인코딩)이라고 함"
   ]
  },
  {
   "cell_type": "markdown",
   "metadata": {},
   "source": [
    "### 다양한 인코딩의 문제점\n",
    " - 초기에 영어문자와 특수기호를 표현하기 위해 7비트 ASCII code 사용 됨\n",
    " - 추가적으로 유럽의 알파벳을 사용하기 위해 8비트 확장 ASCII code 사용 됨\n",
    "   - 각 인코딩마다 다른 값이 할당되는 문제가 존재\n",
    " - CJK(중국, 일본, 한국) 문자 표현을 위해 각 나라마다 다른 인코딩 방식 사용\n",
    "   - 한글의 경우, 완성형, 조합형 등 다양한 인코딩이 사용 \n",
    " \n",
    "### 한 문서에서 여러 언어를 표현할 일이 생긴다면 어떤 인코딩을 사용해야 하나?\n",
    " - 모든 언어를 하나의 집합으로 표현해야하 요구가 발생"
   ]
  },
  {
   "cell_type": "markdown",
   "metadata": {},
   "source": [
    "### Unicode\n",
    " - 전세계 언어를 표현하기 위한 codepage\n",
    " - 각 언어의 글자가 정수값과 대응됨\n",
    " - 일반적으로 prefix로 U+를 사용\n",
    "   - A : U+0041\n",
    "   - 한 : U+d55c"
   ]
  },
  {
   "cell_type": "markdown",
   "metadata": {},
   "source": [
    "### 한글 문자열"
   ]
  },
  {
   "cell_type": "code",
   "execution_count": null,
   "metadata": {
    "collapsed": false
   },
   "outputs": [],
   "source": [
    "hg = '한글'\n",
    "print hg, type(hg)"
   ]
  },
  {
   "cell_type": "code",
   "execution_count": null,
   "metadata": {
    "collapsed": false
   },
   "outputs": [],
   "source": [
    "hg"
   ]
  },
  {
   "cell_type": "code",
   "execution_count": null,
   "metadata": {
    "collapsed": false
   },
   "outputs": [],
   "source": [
    "# 문자열의 경우 바이트 수로 길이를 나타냄\n",
    "len(hg)"
   ]
  },
  {
   "cell_type": "code",
   "execution_count": null,
   "metadata": {
    "collapsed": false
   },
   "outputs": [],
   "source": [
    "len('array')"
   ]
  },
  {
   "cell_type": "code",
   "execution_count": null,
   "metadata": {
    "collapsed": false
   },
   "outputs": [],
   "source": [
    "len('세종대왕')"
   ]
  },
  {
   "cell_type": "markdown",
   "metadata": {},
   "source": [
    "### 한글 유니코드 문자열\n",
    " - 유니코드 문자열은 앞에 u를 붙여 정의\n",
    " - [유니코드 확인](http://www.unicodemap.org)\n",
    "   * [한](http://www.unicodemap.org/details/0xD55C/index.html)\n",
    "   * [글](http://www.unicodemap.org/details/0xAE00/index.html)"
   ]
  },
  {
   "cell_type": "code",
   "execution_count": null,
   "metadata": {
    "collapsed": false
   },
   "outputs": [],
   "source": [
    "uhg = u'한글'\n",
    "print uhg, type(uhg)"
   ]
  },
  {
   "cell_type": "code",
   "execution_count": null,
   "metadata": {
    "collapsed": false
   },
   "outputs": [],
   "source": [
    "uhg"
   ]
  },
  {
   "cell_type": "code",
   "execution_count": null,
   "metadata": {
    "collapsed": false
   },
   "outputs": [],
   "source": [
    "# 유니코드의 경우 바이트가 아닌, 문자열의 길이를 반환\n",
    "len(uhg)"
   ]
  },
  {
   "cell_type": "markdown",
   "metadata": {},
   "source": [
    "### 유니코드 인코딩\n",
    "  - 유니코드의 경우 컴퓨터에서 표현하기 위해 인코딩 되어야 함\n",
    "  - 다양한 인코딩이 존재하나 UTF-8이 가장 많이 사용\n",
    "  - UTF-8으로 인코딩 할 경우, 한글은 글자당 3바이트로 인코딩 됨\n",
    "    - encode함수 : 유니코드 -> 문자열 \n",
    "    - decode함수 : 문자열   -> 유니코드"
   ]
  },
  {
   "cell_type": "code",
   "execution_count": null,
   "metadata": {
    "collapsed": false
   },
   "outputs": [],
   "source": [
    "hg.decode('utf-8').encode('euc-kr')"
   ]
  },
  {
   "cell_type": "code",
   "execution_count": null,
   "metadata": {
    "collapsed": false
   },
   "outputs": [],
   "source": [
    "print hg.decode('utf-8').encode('euc-kr')"
   ]
  },
  {
   "cell_type": "code",
   "execution_count": null,
   "metadata": {
    "collapsed": false
   },
   "outputs": [],
   "source": [
    "uhg.encode('utf-8')"
   ]
  },
  {
   "cell_type": "code",
   "execution_count": null,
   "metadata": {
    "collapsed": false
   },
   "outputs": [],
   "source": [
    "print uhg.encode('utf-8')"
   ]
  },
  {
   "cell_type": "code",
   "execution_count": null,
   "metadata": {
    "collapsed": false
   },
   "outputs": [],
   "source": [
    "print uhg.encode('euc-kr')"
   ]
  },
  {
   "cell_type": "markdown",
   "metadata": {},
   "source": [
    "### str, unicode 함수\n",
    "  - str, uicode 함수를 이용하여 각각 타입 변환 가능\n",
    "  - 하지만, 각 함수는 기본적으로 ascii 인코딩을 이용하기 때문에 에러 발생\n",
    "  - 이를 해결하기 위해 .py 파일 상단 혹은 notebook 상에 아래와 같이 기본 인코딩 변경 명시 가능\n",
    "  ```python\n",
    "  import sys\n",
    "  reload(sys)\n",
    "  sys.setdefaultencoding('utf-8')\n",
    "  ```"
   ]
  },
  {
   "cell_type": "code",
   "execution_count": null,
   "metadata": {
    "collapsed": false
   },
   "outputs": [],
   "source": [
    "str(uhg)"
   ]
  },
  {
   "cell_type": "code",
   "execution_count": null,
   "metadata": {
    "collapsed": false
   },
   "outputs": [],
   "source": [
    "unicode(hg)"
   ]
  },
  {
   "cell_type": "code",
   "execution_count": null,
   "metadata": {
    "collapsed": false
   },
   "outputs": [],
   "source": [
    "unicode(hg, encoding='utf-8')"
   ]
  },
  {
   "cell_type": "code",
   "execution_count": null,
   "metadata": {
    "collapsed": true
   },
   "outputs": [],
   "source": [
    "import sys\n",
    "reload(sys)\n",
    "sys.setdefaultencoding('utf-8')"
   ]
  },
  {
   "cell_type": "code",
   "execution_count": null,
   "metadata": {
    "collapsed": false
   },
   "outputs": [],
   "source": [
    "str(uhg)"
   ]
  },
  {
   "cell_type": "code",
   "execution_count": null,
   "metadata": {
    "collapsed": false
   },
   "outputs": [],
   "source": [
    "unicode(hg)"
   ]
  },
  {
   "cell_type": "code",
   "execution_count": null,
   "metadata": {
    "collapsed": true
   },
   "outputs": [],
   "source": [
    "import sys\n",
    "reload(sys)\n",
    "sys.setdefaultencoding('euc-kr')"
   ]
  },
  {
   "cell_type": "code",
   "execution_count": null,
   "metadata": {
    "collapsed": false
   },
   "outputs": [],
   "source": [
    "str(uhg)"
   ]
  },
  {
   "cell_type": "code",
   "execution_count": null,
   "metadata": {
    "collapsed": false
   },
   "outputs": [],
   "source": [
    "unicode(str(uhg))"
   ]
  },
  {
   "cell_type": "markdown",
   "metadata": {},
   "source": [
    "### 웹에서 한글처리 하기\n",
    " - 각 웹 사이트 마다 해당 페이지를 인코딩 한 방식과 맞지 않게 문자열을 해석하면 글씨가 제대로 출력되지 않음\n",
    " - 브라우져는 자동으로 해당 페이지의 인코딩을 추출\n",
    "  \n",
    "     <head> 하위 태그에서 아래와 같이 content에 명시 되어 있거나,\n",
    "       <meta http-equiv=\"Content-Type\" content=\"text/html; charset=euc-kr\" />\n",
    "     response의 header에서 encoding 확인\n",
    " - requests 모듈의 Response객체의 encoding속성으로 확인 가능"
   ]
  },
  {
   "cell_type": "code",
   "execution_count": null,
   "metadata": {
    "collapsed": true
   },
   "outputs": [],
   "source": [
    "import requests\n",
    "from bs4 import BeautifulSoup"
   ]
  },
  {
   "cell_type": "code",
   "execution_count": null,
   "metadata": {
    "collapsed": false
   },
   "outputs": [],
   "source": [
    "res = requests.get('http://v.media.daum.net/v/20170701111544355?rcmd=rn')\n",
    "res.encoding # 사이트의 문자열 인코딩 확인"
   ]
  },
  {
   "cell_type": "markdown",
   "metadata": {},
   "source": [
    "### .text vs .content\n",
    " - .content : 문자열 반환\n",
    " - .text    : 유니코드 반환"
   ]
  },
  {
   "cell_type": "code",
   "execution_count": null,
   "metadata": {
    "collapsed": true
   },
   "outputs": [],
   "source": [
    "res.content"
   ]
  },
  {
   "cell_type": "code",
   "execution_count": null,
   "metadata": {
    "collapsed": false
   },
   "outputs": [],
   "source": [
    "type(res.content)"
   ]
  },
  {
   "cell_type": "code",
   "execution_count": null,
   "metadata": {
    "collapsed": true
   },
   "outputs": [],
   "source": [
    "res.text"
   ]
  },
  {
   "cell_type": "code",
   "execution_count": null,
   "metadata": {
    "collapsed": false
   },
   "outputs": [],
   "source": [
    "type(res.text)"
   ]
  },
  {
   "cell_type": "markdown",
   "metadata": {},
   "source": [
    "### Tag.get_text 함수\n",
    " - soup에서 명시된 인코딩 혹은 내부적으로 파악한 인코딩을 이용하여 유니코드로 디코딩한 결과 바환"
   ]
  },
  {
   "cell_type": "markdown",
   "metadata": {},
   "source": [
    "* daum 뉴스 웹사이트"
   ]
  },
  {
   "cell_type": "code",
   "execution_count": null,
   "metadata": {
    "collapsed": false
   },
   "outputs": [],
   "source": [
    "soup = BeautifulSoup(res.content, 'html5lib')\n",
    "\n",
    "# content 속성을 이용하여도 아래 title의 경우 unicode로 반환 됨\n",
    "title = soup.find('h3', class_='tit_view').get_text()\n",
    "\n",
    "print title\n",
    "title # unicode 표현"
   ]
  },
  {
   "cell_type": "code",
   "execution_count": null,
   "metadata": {
    "collapsed": false
   },
   "outputs": [],
   "source": [
    "# 명시적으로 encoding 설정 가능\n",
    "soup = BeautifulSoup(res.content, 'html5lib', from_encoding='utf-8')\n",
    "\n",
    "# content 속성을 이용하여도 아래 title의 경우 unicode로 반환 됨\n",
    "title = soup.find('h3', class_='tit_view').get_text()\n",
    "\n",
    "print title\n",
    "title # unicode 표현"
   ]
  },
  {
   "cell_type": "code",
   "execution_count": null,
   "metadata": {
    "collapsed": false
   },
   "outputs": [],
   "source": [
    "soup = BeautifulSoup(res.text)\n",
    "soup.find('h3', class_='tit_view').get_text()"
   ]
  },
  {
   "cell_type": "markdown",
   "metadata": {},
   "source": [
    "* socar 웹사이트\n",
    " - utf-8으로 명시되어 있지만, encoding을 확인하면 ISO-8859-1(latin1)으로 표시 됨\n",
    " - 사이트의 헤더에서 인코딩을 명시하지 않으면 아래 규약에 따라 default 값인 ISO-8859-1로 처리\n",
    "   - [RFC2616](https://www.ietf.org/rfc/rfc2616.txt)\n",
    "   - RFC(Request for Comment) : 인터넷이나 네트워크등의 공학 분야에서 적용 가능한 새로운 연구, 혁신 등에 관한 노트"
   ]
  },
  {
   "cell_type": "code",
   "execution_count": null,
   "metadata": {
    "collapsed": false
   },
   "outputs": [],
   "source": [
    "res = requests.get('http://socar.kr')\n",
    "res.encoding"
   ]
  },
  {
   "cell_type": "code",
   "execution_count": null,
   "metadata": {
    "collapsed": true
   },
   "outputs": [],
   "source": [
    "res.content"
   ]
  },
  {
   "cell_type": "code",
   "execution_count": null,
   "metadata": {
    "collapsed": true
   },
   "outputs": [],
   "source": [
    "# 제대로 unicode로 디코딩 하지 못함\n",
    "res.text"
   ]
  },
  {
   "cell_type": "markdown",
   "metadata": {},
   "source": [
    "* 인코딩이 다르게 나올 경우\n",
    " - **아래 코드에서와 같이 명시적으로 인코딩 설정 가능**"
   ]
  },
  {
   "cell_type": "code",
   "execution_count": null,
   "metadata": {
    "collapsed": false
   },
   "outputs": [],
   "source": [
    "res = requests.get('http://socar.kr')\n",
    "res.encoding = 'utf-8'\n",
    "res.encoding"
   ]
  },
  {
   "cell_type": "code",
   "execution_count": null,
   "metadata": {
    "collapsed": true
   },
   "outputs": [],
   "source": [
    "res.content"
   ]
  },
  {
   "cell_type": "code",
   "execution_count": null,
   "metadata": {
    "collapsed": true
   },
   "outputs": [],
   "source": [
    "# unicode로 제대로 디코딩 함\n",
    "res.text"
   ]
  },
  {
   "cell_type": "markdown",
   "metadata": {},
   "source": [
    "* 혹은 아래와 같이 content 속성을 이용하고, from_encoding 속성을 이용"
   ]
  },
  {
   "cell_type": "code",
   "execution_count": null,
   "metadata": {
    "collapsed": false
   },
   "outputs": [],
   "source": [
    "soup = BeautifulSoup(res.content, from_encoding='utf-8')\n",
    "print soup.title.get_text()"
   ]
  },
  {
   "cell_type": "code",
   "execution_count": null,
   "metadata": {
    "collapsed": false
   },
   "outputs": [],
   "source": [
    "soup = BeautifulSoup(res.text)\n",
    "print soup.title.get_text()"
   ]
  },
  {
   "cell_type": "markdown",
   "metadata": {},
   "source": [
    "* 경향신문 웹사이트\n",
    " - 인코딩으로 euc-kr 사용"
   ]
  },
  {
   "cell_type": "code",
   "execution_count": null,
   "metadata": {
    "collapsed": false
   },
   "outputs": [],
   "source": [
    "res = requests.get('http://www.khan.co.kr/', allow_redirects = False)\n",
    "res.encoding"
   ]
  },
  {
   "cell_type": "code",
   "execution_count": null,
   "metadata": {
    "collapsed": false
   },
   "outputs": [],
   "source": [
    "type(res.content)"
   ]
  },
  {
   "cell_type": "code",
   "execution_count": null,
   "metadata": {
    "collapsed": false
   },
   "outputs": [],
   "source": [
    "type(res.text)"
   ]
  },
  {
   "cell_type": "code",
   "execution_count": null,
   "metadata": {
    "collapsed": true
   },
   "outputs": [],
   "source": [
    "res.content"
   ]
  },
  {
   "cell_type": "code",
   "execution_count": null,
   "metadata": {
    "collapsed": true
   },
   "outputs": [],
   "source": [
    "res.text"
   ]
  },
  {
   "cell_type": "code",
   "execution_count": null,
   "metadata": {
    "collapsed": true
   },
   "outputs": [],
   "source": [
    "res = requests.get('http://www.khan.co.kr/', allow_redirects = False)\n",
    "res.encoding = 'euc-kr'"
   ]
  },
  {
   "cell_type": "code",
   "execution_count": null,
   "metadata": {
    "collapsed": true
   },
   "outputs": [],
   "source": [
    "res.content"
   ]
  },
  {
   "cell_type": "code",
   "execution_count": null,
   "metadata": {
    "collapsed": true
   },
   "outputs": [],
   "source": [
    "res.text"
   ]
  },
  {
   "cell_type": "code",
   "execution_count": null,
   "metadata": {
    "collapsed": false
   },
   "outputs": [],
   "source": [
    "soup = BeautifulSoup(res.content, from_encoding='euc-kr')\n",
    "print soup.title.get_text()"
   ]
  },
  {
   "cell_type": "code",
   "execution_count": null,
   "metadata": {
    "collapsed": false
   },
   "outputs": [],
   "source": [
    "soup = BeautifulSoup(res.text)\n",
    "print soup.title.get_text()"
   ]
  }
 ],
 "metadata": {
  "kernelspec": {
   "display_name": "Python 2",
   "language": "python",
   "name": "python2"
  },
  "language_info": {
   "codemirror_mode": {
    "name": "ipython",
    "version": 2
   },
   "file_extension": ".py",
   "mimetype": "text/x-python",
   "name": "python",
   "nbconvert_exporter": "python",
   "pygments_lexer": "ipython2",
   "version": "2.7.13"
  }
 },
 "nbformat": 4,
 "nbformat_minor": 2
}
