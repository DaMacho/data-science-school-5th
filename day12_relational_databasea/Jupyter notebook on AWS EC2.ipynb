{
 "cells": [
  {
   "cell_type": "markdown",
   "metadata": {},
   "source": [
    "## 학습목표\n",
    " - EC2에서 Jupyter notebook 환경 설정"
   ]
  },
  {
   "cell_type": "raw",
   "metadata": {},
   "source": []
  },
  {
   "cell_type": "markdown",
   "metadata": {},
   "source": [
    "### 환경설정\n",
    " 1. Launching instance\n",
    " 2. Install python environment\n",
    " 3. Install jupyter\n",
    " 4. Configure jupyter \n",
    "  - SSL setting\n",
    " 5. Running jupyter"
   ]
  },
  {
   "cell_type": "raw",
   "metadata": {},
   "source": []
  },
  {
   "cell_type": "markdown",
   "metadata": {},
   "source": [
    "### Install Jupyter \n",
    " - pip install jupyter"
   ]
  },
  {
   "cell_type": "markdown",
   "metadata": {},
   "source": [
    "### Configure jupyter\n",
    " 1. jupyter notebook --generate-config\n",
    "   - /home/ubuntu/.jupyter/jupyter_notebook_config.py 파일 생성\n",
    " 2. cd ~\n",
    " 3. mkdir certs\n",
    " 4. cd certs\n",
    " 5. sudo openssl req -x509 -nodes -days 365 -newkey rsa:1024 -keyout dsscert.pem -out dsscert.pem\n",
    " 6. vi ~/.jupyter/jupyter_notebook_config.py\n",
    "  - 파일 두번째 라인부터 아래 내용 추가\n",
    "  \n",
    "  ```python\n",
    "  c = get_config()\n",
    "  c.NotebookApp.certfile = u'/home/ubuntu/certs/dsscert.pem'\n",
    "  c.NotebookApp.ip = '*'\n",
    "  c.NotebookApp.open_browser = False\n",
    "  c.NotebookApp.port = 8888\n",
    "  ```\n",
    " 7. **tmux 세션**에서 jupyter notebook 실행\n",
    " 8. AWS console에서 **jupyter notebook port open\\**"
   ]
  }
 ],
 "metadata": {
  "kernelspec": {
   "display_name": "Python 2",
   "language": "python",
   "name": "python2"
  },
  "language_info": {
   "codemirror_mode": {
    "name": "ipython",
    "version": 2
   },
   "file_extension": ".py",
   "mimetype": "text/x-python",
   "name": "python",
   "nbconvert_exporter": "python",
   "pygments_lexer": "ipython2",
   "version": "2.7.13"
  }
 },
 "nbformat": 4,
 "nbformat_minor": 2
}
