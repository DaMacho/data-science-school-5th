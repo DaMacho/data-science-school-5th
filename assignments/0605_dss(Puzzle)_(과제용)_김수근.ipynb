{
 "cells": [
  {
   "cell_type": "code",
   "execution_count": null,
   "metadata": {},
   "outputs": [
    {
     "name": "stdout",
     "output_type": "stream",
     "text": [
      "6 7 _\n",
      "4 8 1\n",
      "3 2 5\n"
     ]
    }
   ],
   "source": [
    "## -*- coding: utf-8 -*-\n",
    "import random\n",
    "from IPython.display import clear_output\n",
    "\n",
    "def show_puzzle(puzzle):\n",
    "    for row in puzzle:\n",
    "        for item in row:\n",
    "            print item,\n",
    "        print\n",
    "        \n",
    "\n",
    "def initiate_puzzle(size):\n",
    "    init_puzzle = [[idx + idx_2 for idx in range(1, size+1)] for idx_2 in range(0, size**2, size)]\n",
    "    init_puzzle[len(init_puzzle)-1][len(init_puzzle)-1] = '_'\n",
    "    return init_puzzle\n",
    "\n",
    "\n",
    "def shuffle_puzzle(puzzle):\n",
    "    dxs = [1, 0, -1,  0]\n",
    "    dys = [0, 1,  0, -1]\n",
    "\n",
    "    cnt = 0\n",
    "    while cnt <= 300:\n",
    "        rnd = random.randint(0, 3)\n",
    "        dx = dxs[rnd]\n",
    "        dy = dys[rnd]\n",
    "\n",
    "        i, j = get_index(puzzle, '_')\n",
    "        ni = i + dx\n",
    "        nj = j + dy\n",
    "\n",
    "        if 0 <= ni < len(puzzle) and 0 <= nj < len(puzzle[0]):\n",
    "            puzzle[ni][nj], puzzle[i][j] = puzzle[i][j], puzzle[ni][nj]\n",
    "        cnt += 1\n",
    "\n",
    "\n",
    "def get_index(puzzle, n):\n",
    "    for row_idx, row_val in enumerate(puzzle):\n",
    "        for item_idx, item_val in enumerate(row_val):\n",
    "            if n == item_val:\n",
    "                return row_idx, item_idx\n",
    "\n",
    "\n",
    "def is_done(puzzle, complete):\n",
    "#     if complete == puzzle:\n",
    "#         return True\n",
    "#     else:\n",
    "#         return False\n",
    "    return puzzle == complete\n",
    "\n",
    "\n",
    "def move_by_number(puzzle, n):\n",
    "    ni, nj = get_index(puzzle, n)\n",
    "    for (empty_row, empty_col) in ((-1,0), (1,0), (0,-1), (0,1)):\n",
    "        try:\n",
    "            if 0 <= ni+empty_row <= len(puzzle) and 0 <= nj+empty_col <= len(puzzle) and \\\n",
    "            puzzle[ni+empty_row][nj+empty_col] == '_':\n",
    "                puzzle[ni][nj], puzzle[ni+empty_row][nj+empty_col] = puzzle[ni+empty_row][nj+empty_col], puzzle[ni][nj]\n",
    "                #a,b = b,a\n",
    "                return puzzle\n",
    "        except:\n",
    "            continue\n",
    "    return \"Can't move {}\".format(puzzle[ni][nj])\n",
    "\n",
    "\n",
    "size = int(raw_input(' -> please insert puzzle size : '))\n",
    "\n",
    "puzzle = initiate_puzzle(size)\n",
    "\n",
    "complete = [row[:] for row in puzzle]\n",
    "\n",
    "shuffle_puzzle(puzzle)\n",
    "\n",
    "show_puzzle(puzzle)\n",
    "\n",
    "while not is_done(puzzle, complete): # not Ture => False\n",
    "    num = int(raw_input(' -> select a number to move : '))\n",
    "    clear_output()\n",
    "    move_by_number(puzzle, num)\n",
    "#     import os\n",
    "#     cls = lambda: os.system('clear')\n",
    "#     cls()\n",
    "    show_puzzle(puzzle)\n",
    "print '\\nyou solved the puzzle!'"
   ]
  },
  {
   "cell_type": "code",
   "execution_count": null,
   "metadata": {
    "collapsed": true
   },
   "outputs": [],
   "source": []
  }
 ],
 "metadata": {
  "kernelspec": {
   "display_name": "Python 2",
   "language": "python",
   "name": "python2"
  },
  "language_info": {
   "codemirror_mode": {
    "name": "ipython",
    "version": 2
   },
   "file_extension": ".py",
   "mimetype": "text/x-python",
   "name": "python",
   "nbconvert_exporter": "python",
   "pygments_lexer": "ipython2",
   "version": "2.7.13"
  }
 },
 "nbformat": 4,
 "nbformat_minor": 2
}
