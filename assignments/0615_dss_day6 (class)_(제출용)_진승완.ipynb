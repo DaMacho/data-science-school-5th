{
 "cells": [
  {
   "cell_type": "code",
   "execution_count": 1,
   "metadata": {
    "collapsed": false
   },
   "outputs": [
    {
     "name": "stdout",
     "output_type": "stream",
     "text": [
      "a = 1 + 4j, b = 2 + 2j, c = 4 + 3j\n",
      "\n",
      "a + b = 3 + 6j\n",
      "a + b + c = 7 + 9j\n",
      "\n",
      "a - b = -1 + 2j\n",
      "a - b - c = -5 + -1j\n",
      "\n",
      "a * b = -6 + 10j\n",
      "a * b * c = -54 + 22j\n",
      "\n",
      "|a| = 4.0\n",
      "|b| = 2.0\n",
      "|c| = 5.0\n",
      "\n",
      "|a| > |b| : True, |a| >= |b| : True\n",
      "|a| = |b| : False\n",
      "|a| != |c| : True\n",
      "|b| < |c| : True, |b| <= |c| : False\n"
     ]
    }
   ],
   "source": [
    "class CN(object):\n",
    "    def __init__(self, real, imaginary):\n",
    "        self.real = real\n",
    "        self.imaginary = imaginary\n",
    "        \n",
    "    def __str__(self):\n",
    "        return '{} + {}j'.format(self.real, self.imaginary)\n",
    "    \n",
    "    def __repr__(self):\n",
    "        return '{} + {}j'.format(self.real, self.imaginary)\n",
    "    \n",
    "    def __add__(self, other):\n",
    "        new_real = self.real + other.real\n",
    "        new_imaginary = self.imaginary + other.imaginary\n",
    "        return CN(new_real, new_imaginary)\n",
    "\n",
    "    def __sub__(self, other):\n",
    "        new_real = self.real - other.real\n",
    "        new_imaginary = self.imaginary - other.imaginary\n",
    "        return CN(new_real, new_imaginary)\n",
    "    \n",
    "    def __mul__(self, other):\n",
    "        new_real = self.real*other.real + (-1)*self.imaginary*other.imaginary\n",
    "        new_imaginary = self.real*other.imaginary + self.imaginary*other.real\n",
    "        return CN(new_real, new_imaginary)\n",
    "    \n",
    "    def __gt__(self, other): \n",
    "        return len(self) > len(other)\n",
    "    \n",
    "    def __gte__(self, other):\n",
    "        return len(self) >= (other) \n",
    "    \n",
    "    def __lt__(self, other):\n",
    "        return len(self) < len(other)\n",
    " \n",
    "    def __lte__(self, other):\n",
    "        return len(self) <= len(other)\n",
    "        \n",
    "    def __eq__(self, other):\n",
    "        return len(self) == len(other) \n",
    "                   \n",
    "    def __len__(self):\n",
    "        return (self.real**2 + self.imaginary**2)**(0.5)\n",
    "    \n",
    "a = CN(1, 4)\n",
    "b = CN(2, 2)\n",
    "c = CN(4, 3)\n",
    "\n",
    "print 'a = {}, b = {}, c = {}\\n'.format(a, b, c)\n",
    "\n",
    "print 'a + b = {}'.format(a + b)\n",
    "print 'a + b + c = {}\\n'.format(a + b + c)\n",
    "\n",
    "print 'a - b = {}'.format(a - b)\n",
    "print 'a - b - c = {}\\n'.format(a - b - c)\n",
    "\n",
    "print 'a * b = {}'.format(a * b)\n",
    "print 'a * b * c = {}\\n'.format(a *  b * c)\n",
    "\n",
    "print '|a| = {:.1f}'.format(len(a))\n",
    "print '|b| = {:.1f}'.format(len(b))\n",
    "print '|c| = {:.1f}\\n'.format(len(c))\n",
    "\n",
    "print '|a| > |b| : {}, |a| >= |b| : {}'.format(a > b, a >= b)\n",
    "print '|a| = |b| : {}'.format(a == b)\n",
    "print '|a| != |c| : {}'.format(a != c)\n",
    "print '|b| < |c| : {}, |b| <= |c| : {}'.format(b < c, b <= c)"
   ]
  },
  {
   "cell_type": "code",
   "execution_count": null,
   "metadata": {
    "collapsed": true
   },
   "outputs": [],
   "source": [
    "`"
   ]
  }
 ],
 "metadata": {
  "kernelspec": {
   "display_name": "Python 2",
   "language": "python",
   "name": "python2"
  },
  "language_info": {
   "codemirror_mode": {
    "name": "ipython",
    "version": 2
   },
   "file_extension": ".py",
   "mimetype": "text/x-python",
   "name": "python",
   "nbconvert_exporter": "python",
   "pygments_lexer": "ipython2",
   "version": "2.7.13"
  }
 },
 "nbformat": 4,
 "nbformat_minor": 2
}
