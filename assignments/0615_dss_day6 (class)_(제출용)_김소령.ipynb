{
 "cells": [
  {
   "cell_type": "markdown",
   "metadata": {},
   "source": [
    "* 연습문제)\n",
    " - 복소수 클래스를 정의 해봅시다.\n",
    " - 덧셈, 뺄셈, 곱셈 연산자 지원\n",
    " - 길이 (복소수의 크기) 지원 \n",
    " - 복소수 출력 '1 + 4j'와 같이 표현\n",
    " - 비교 연산 ==, != 지원\n",
    " - >=, <= , <, > 연산 지원\n",
    " - 절대값 지원\n"
   ]
  },
  {
   "cell_type": "code",
   "execution_count": 20,
   "metadata": {
    "collapsed": false
   },
   "outputs": [
    {
     "name": "stdout",
     "output_type": "stream",
     "text": [
      "5.0\n",
      "5.0 5.0\n",
      "True\n"
     ]
    }
   ],
   "source": [
    "import math\n",
    "class CN(object):\n",
    "    def __init__(self, real, imaginary):\n",
    "        self.real  = real\n",
    "        self.imaginary = imaginary\n",
    "     # 복소수 출력 '1 + 4j'와 같이 표현   \n",
    "    def __str__(self):\n",
    "        return '{} + {}j'.format(self.real, self.imaginary)\n",
    "    \n",
    "    def __repr__(self):\n",
    "        return '{} + {}j'.format(self.real, self.imaginary)\n",
    "    \n",
    "    # 길이 (복소수의 크기) 지원  \n",
    "    def __len__(self):\n",
    "        return float((self.real**2 +self.imaginary**2)**0.5)\n",
    "        #return len(self.real + imaginary)\n",
    "    \n",
    "    # 덧셈, 뺄셈, 곱셈\n",
    "    def __add__(self, other):\n",
    "        #return Word(self.real + other.real , self.imaginary + other.imaginary )\n",
    "        return CN(self.real + other.real , self.imaginary + other.imaginary )\n",
    "    \n",
    "    def __sub__(self, other):\n",
    "        return CN(self.real - other.real , self.imaginary - other.imaginary )\n",
    "\n",
    "    def __mul__(self, other):\n",
    "        return CN((self.real * other.real)+(-1)*( self.imaginary * other.imaginary) ,(self.real*other.imaginary)+(self.imaginary * other.real))\n",
    "    \n",
    "    #절대값 지원\n",
    "    def __abs__(self):\n",
    "        #return math.sqrt(self.real**2 +self.imaginary**2)\n",
    "        return float((self.real**2 +self.imaginary**2)**0.5)\n",
    "    \n",
    "    \n",
    "    def __eq__(self, other):\n",
    "        #return Word(self.real == other.real , self.imaginary==other.imaginary )\n",
    "        return self.real== other.real and self.imaginary == other.imaginary\n",
    "    \n",
    "    def __gt__(self, other):\n",
    "        print 'h'\n",
    "        #print float((self.real**2 +self.imaginary**2)**0.5) , float((other.real**2 +other.imaginary**2)**0.5)\n",
    "        return float((self.real**2 +self.imaginary**2)**0.5) >  float((other.real**2 +other.imaginary**2)**0.5)\n",
    "    def __ge__(self, other):\n",
    "        return abs(self) >= abs(other)\n",
    "        \n",
    "    def __lt__(self, other) :\n",
    "        return float((self.real**2 +self.imaginary**2)**0.5) < float((other.real**2 +other.imaginary**2)**0.5)\n",
    "    \n",
    "    def __le__(self, other) :\n",
    "        return  float((self.real**2 +self.imaginary**2)**0.5) <= float((other.real**2 +other.imaginary**2)**0.5)\n",
    " \n",
    "    def __ne__(self,other) :\n",
    "        if self.real == other.real and self.imaginary == other.imaginary:\n",
    "            return False\n",
    "        else :\n",
    "            return True\n",
    "    \n",
    "b1 = CN(3,4)\n",
    "b2 = CN(3,4)\n",
    "b3 = CN(2,3)\n",
    "b4 = CN(3,-4)\n",
    "\n",
    "print abs(b1)\n",
    "print b1 >= b2\n"
   ]
  }
 ],
 "metadata": {
  "kernelspec": {
   "display_name": "Python 2",
   "language": "python",
   "name": "python2"
  },
  "language_info": {
   "codemirror_mode": {
    "name": "ipython",
    "version": 2
   },
   "file_extension": ".py",
   "mimetype": "text/x-python",
   "name": "python",
   "nbconvert_exporter": "python",
   "pygments_lexer": "ipython2",
   "version": "2.7.13"
  }
 },
 "nbformat": 4,
 "nbformat_minor": 2
}
