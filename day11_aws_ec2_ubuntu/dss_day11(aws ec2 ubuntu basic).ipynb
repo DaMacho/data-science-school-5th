{
 "cells": [
  {
   "cell_type": "markdown",
   "metadata": {},
   "source": [
    "## 학습목표\n",
    "\n",
    " 1. aws ec2 instance 생성 및 접속 \n",
    " 2. linux 기본 명령어\n",
    " 3. mysql 설치, 환경설정, 설치 확인"
   ]
  },
  {
   "cell_type": "markdown",
   "metadata": {},
   "source": [
    "### Server, Client & Cloud\n",
    "  - 개념 설명"
   ]
  },
  {
   "cell_type": "markdown",
   "metadata": {
    "collapsed": true
   },
   "source": [
    "### aws 서버 생성 및 접속하기\n",
    "  - instance 생성 (함께 실습)\n",
    "  - 이때, pem파일을 다운 받게 되는데, 절대 유실하시면 안됩니다.\n",
    "  - 서버 접속 방법\n",
    "    + **osx**\n",
    "      - chmod 400 [pem_file]\n",
    "      - ssh -i path/[pemfile] ubuntu@[aws_server_public_ip]\n",
    "      \n",
    "    + **windows** \n",
    "      - 윈도우즈에서 접속하기 링크(https://docs.aws.amazon.com/AWSEC2/latest/UserGuide/putty.html)\n",
    "      - putty(ssh client), puttygen download (http://www.chiark.greenend.org.uk/~sgtatham/putty/download.html)"
   ]
  },
  {
   "cell_type": "markdown",
   "metadata": {},
   "source": [
    "### 설치된 python package 확인\n",
    "  - 시스템에 설치된 패키지 출력\n",
    "    - pip freeze\n",
    "  - 시스템에 설치된 패키지를 requirements.txt파일로 생성\n",
    "    - pip freeze > requirements.txt (파일 생성)"
   ]
  },
  {
   "cell_type": "markdown",
   "metadata": {},
   "source": [
    "### 서버로 파일 복사 (네트워크 복사)\n",
    " - **OSX**\n",
    "   + scp 명령어 이용\n",
    "   + scp -i [pem] [file_to_be_copied]  ubuntu@[server_ip]:[path]\n",
    "   + e.g) scp -i Downloads/dss_server.pem Desktop/dss/week6/primer-dataset.json  ubuntu@ec2-54-191-110-146.us-west-2.compute.amazonaws.com:/home/ubuntu\n",
    " - **Widnows** \n",
    "   + winscp 이용 (http://winscp.net/eng/download.php)\n",
    "   + ppk 파일 설정 (http://jinpyolab.tistory.com/75)\n",
    "   + GUI를 이용하여 파일 복사"
   ]
  },
  {
   "cell_type": "markdown",
   "metadata": {},
   "source": [
    "### Linux basic\n",
    "  + basic command\n",
    "      - cd             디렉토리 이동\n",
    "      - cat            파일 내용 출력\n",
    "      - ls             파일/디렉토리 열람\n",
    "      - pwd            현재 위치 출력\n",
    "      - cp/mv          파일 복사, 이동\n",
    "      - rm/rmdir       파일 디렉토리 삭제\n",
    "      - touch          파일 생성\n",
    "      - history        명령어 히스토리 출력\n",
    "      - ps             실행중인 프로세스 확인\n",
    "      - vi             vi 실행(문서 편집기) \n",
    "        - http://www.lagmonster.org/docs/vi.html\n",
    "      - man + 명령어     명령어 도움말 \n",
    "      - 명령어 redirect vs pipeline\n",
    "        + 표준입력 - 키보드, 표준출력 - 콘솔\n",
    "        + cat test.txt > test.py   (표준출력을 파일로 리다이렉션)\n",
    "        + cat test.txt >> test.py  (표준출력을 파일로 리다이렉션, 기존 파일에 추가)\n",
    "        + ps -ef | grep python     (전 명령의 표준출력을 다음 명령의 표준입력으로 지정)\n",
    "      - apt-get install [package_name] package 설치"
   ]
  },
  {
   "cell_type": "markdown",
   "metadata": {},
   "source": [
    "### python 관련 개발 툴 설치\n",
    " + apt-get 은 ubuntu package manager (osx에서 brew와 같은 역할을 함)\n",
    " + sudo apt-get update\n",
    " + sudo apt-get install python-pip\n",
    " + sudo apt-get install python-dev\n",
    " + sudo apt-get install cython\n",
    " + pip install -r requirements.txt로 관련 패키지 설치"
   ]
  },
  {
   "cell_type": "markdown",
   "metadata": {},
   "source": [
    "### crontab 사용법\n",
    "   + cron 파일 위치 (/etc/crontab)\n",
    "      - m h dom mon dow user command (분, 시각, 일, 월, 요일, 사용자, 명령어)\n",
    "      - 30 09 10 06 * ubuntu python test.py       6월 10일 9시 30분에 실행\n",
    "      - 00 11,16 * * * ubuntu python test.py      매일 11시, 16시에 실행\n",
    "      - 00 09-18 * * 1-5 ubuntu python test.py    월-금 9시, 10시...18시에 실행\n",
    "      - 00/10 * * * *    ubuntu python test.py     10분마다 실행"
   ]
  },
  {
   "cell_type": "markdown",
   "metadata": {},
   "source": [
    "### tmux 사용법\n",
    "   + tmux new -s [session]  새로운 세션 생성\n",
    "   + tmux attach -t [session] 세션에 접속\n",
    "   + tmux ls 현재 실행중인 세션 나열\n",
    "    \n",
    "   + ctrl + b, c - 세션 새 윈도우 생성\n",
    "   + ctrl + b, d - 세션 종료\n",
    "   + ctrl + b, w - 세션 윈도우 리스트로 이동\n",
    "   + ctrl + b, , - 윈도우 이름 변경\n",
    "   + ctrl + b, [ - 윈도우 스크롤링\n",
    "   + ctrl + b, & - 윈도우 삭제\n",
    "    \n",
    "   * tmux script 작성\n",
    "      + tmux send -t [session]:[no] \"command\" ENTER\n",
    "      + e.g)\n",
    "       + tmux send -t dev:7 \"python /home/dev/test.py\" ENTER"
   ]
  },
  {
   "cell_type": "markdown",
   "metadata": {},
   "source": [
    "### cron, tmux를 이용한 주기적 크롤링 자동화 실습\n",
    " 1. python code 작성\n",
    " 2. tmux 새 세션 생성\n",
    " 3. running script 파일 작성(xxx.sh)\n",
    " 4. /etc/crontab 파일에 runnging script 파일 실행 명시"
   ]
  },
  {
   "cell_type": "code",
   "execution_count": null,
   "metadata": {
    "collapsed": true
   },
   "outputs": [],
   "source": []
  },
  {
   "cell_type": "markdown",
   "metadata": {},
   "source": [
    "### mysql 설치 \n",
    "   - sudo apt-get install mysql-server\n",
    "      - 설치 중간에 비밀번호 설정 주의!!\n",
    "   - sudo vi /etc/mysql/mysql.conf.d/mysqld.cnf \n",
    "     - bind-address 127.0.0.1 -> **0.0.0.0 변경**\n",
    "     - 아래 내용 파일에 추가 (mysql utf-8 설정)\n",
    "     - [mysqld]의 경우에는 기존 내용 아래 추가\n",
    "    \n",
    "     > [client]   \n",
    "         default-character-set = utf8\n",
    "       \n",
    "     > [mysqld] \n",
    "         ...\n",
    "         character-set-client-handshake = FALSE\n",
    "         init_connect=\"SET collation_connection = utf8_general_ci\"\n",
    "         init_connect=\"SET NAMES utf8\"\n",
    "         character-set-server = utf8\n",
    "       \n",
    "     > [mysql]\n",
    "         default-character-set = utf8\n",
    "\n",
    "\n",
    "   - sudo service mysql restart\n",
    "   - mysql -uroot -p 후 비밀번호 입력\n",
    "   - GRANT ALL PRIVILEGES ON \\*.\\* TO 'root'@'%' IDENTIFIED BY 'test1234' WITH GRANT OPTION;\n",
    "      모든 권한 부여\n",
    "   - ** inbound port 3306 open!!**"
   ]
  },
  {
   "cell_type": "markdown",
   "metadata": {},
   "source": [
    "### mysqlworkbench 설치\n",
    " - mysql 클라이언트 소프트웨어\n",
    " - 서버에 설치한 DB 서버에 접속 확인\n",
    " - query 질의, 데이터 추가, 변형, 삭제 가능\n",
    " - https://dev.mysql.com/downloads/workbench/ 에서 workbench download"
   ]
  },
  {
   "cell_type": "markdown",
   "metadata": {},
   "source": [
    "### vi에서 한글 작성 중 한글이 깨져보일 시\n",
    "    - sudo apt-get install language-pack-ko\n",
    "    - sudo locale-gen ko_KR.UTF-8\n",
    "    - sudo dpkg-reconfigure locales\n",
    "    + vi ~/.vimrc 에서 아래 두 줄 추가  \n",
    "      - set encoding=utf-8\n",
    "      - set fileencodings=utf-8,euckr\n"
   ]
  }
 ],
 "metadata": {
  "kernelspec": {
   "display_name": "Python 2",
   "language": "python",
   "name": "python2"
  },
  "language_info": {
   "codemirror_mode": {
    "name": "ipython",
    "version": 2
   },
   "file_extension": ".py",
   "mimetype": "text/x-python",
   "name": "python",
   "nbconvert_exporter": "python",
   "pygments_lexer": "ipython2",
   "version": "2.7.13"
  }
 },
 "nbformat": 4,
 "nbformat_minor": 1
}
